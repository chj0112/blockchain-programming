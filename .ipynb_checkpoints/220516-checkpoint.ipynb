{
 "cells": [
  {
   "cell_type": "code",
   "execution_count": 2,
   "id": "78da673f",
   "metadata": {},
   "outputs": [
    {
     "name": "stdout",
     "output_type": "stream",
     "text": [
      "Writing src/webSocketTest.js\n"
     ]
    }
   ],
   "source": [
    "%%writefile src/webSocketTest.js\n",
    "var Web3 = require('web3');\n",
    "const myProvider = new Web3.providers.WebsocketProvider(\"ws://localhost:8345\", {\n",
    "    clientConfig: {\n",
    "        keepalive:true, keepaliveInterval:10000\n",
    "    } \n",
    "  });\n",
    "var web3 = new Web3(myProvider);\n",
    "console.log(\"(1) websocket url: \", myProvider.connection.url); //web3.currentProvider.connection.url\n",
    "myProvider.on('connect', function() {\n",
    "    console.log(\"(2) connecting websocket: \"+web3.currentProvider.connected);\n",
    "    //myProvider.disconnect();\n",
    "    web3.currentProvider.connection.close();\n",
    "    console.log(\"(3) disconnecting Websocket: \"+web3.currentProvider.connected);\n",
    "});\n",
    "myProvider.on('close', function() { console.log(\"--> Websocket closed\"); });\n",
    "myProvider.on('end', function() { console.log(\"--> Websocket ended\"); });\n",
    "myProvider.on('error', function(error) { console.error(error); });"
   ]
  },
  {
   "cell_type": "code",
   "execution_count": 3,
   "id": "58b39f11",
   "metadata": {},
   "outputs": [
    {
     "name": "stdout",
     "output_type": "stream",
     "text": [
      "(1) websocket url:  ws://localhost:8345\n",
      "(2) connecting websocket: true\n",
      "(3) disconnecting Websocket: false\n",
      "--> Websocket ended\n"
     ]
    }
   ],
   "source": [
    "!node src/webSocketTest.js"
   ]
  },
  {
   "cell_type": "code",
   "execution_count": 30,
   "id": "1cae5ed8",
   "metadata": {},
   "outputs": [
    {
     "name": "stdout",
     "output_type": "stream",
     "text": [
      "Overwriting src/EventTest.sol\n"
     ]
    }
   ],
   "source": [
    "%%writefile src/EventTest.sol\n",
    "//SPDX-License-Identifier: GPL-3.0-or-later\n",
    "pragma solidity ^0.8.0;\n",
    "\n",
    "contract EventTest {\n",
    "    event MyLog(string my);\n",
    "    function myFunction() public {\n",
    "        emit MyLog(\"Hello World!\");\n",
    "    }\n",
    "}"
   ]
  },
  {
   "cell_type": "code",
   "execution_count": 31,
   "id": "988cc0ae",
   "metadata": {},
   "outputs": [],
   "source": [
    "!solc-windows --optimize --combined-json abi,bin src/EventTest.sol > src/EventTest.json"
   ]
  },
  {
   "cell_type": "code",
   "execution_count": 34,
   "id": "594fa953",
   "metadata": {},
   "outputs": [
    {
     "name": "stdout",
     "output_type": "stream",
     "text": [
      "Overwriting src/EventTestDeployFromFile.js\n"
     ]
    }
   ],
   "source": [
    "%%writefile src/EventTestDeployFromFile.js\n",
    "var Web3 = require('web3');\n",
    "var _abiBinJson = require('./EventTest.json');      //importing a javascript file\n",
    "\n",
    "var web3 = new Web3(new Web3.providers.HttpProvider(\"http://localhost:8345\"));\n",
    "\n",
    "contractName=Object.keys(_abiBinJson.contracts); // reading ['src/EventTest.sol:EventTest']\n",
    "console.log(\"- contract name: \", contractName);\n",
    "_abi=_abiBinJson.contracts[contractName].abi;\n",
    "_abiArray=JSON.parse(JSON.stringify(_abi));\n",
    "//_abiArray=JSON.parse(_abi);      //JSON parsing needed!! //SyntaxError: Unexpected token o in JSON at position 1\n",
    "_bin=_abiBinJson.contracts[contractName].bin;\n",
    "\n",
    "console.log(\"- ABI: \" + JSON.stringify(_abi));\n",
    "console.log(\"- Bytecode: \" + _bin);\n",
    "\n",
    "async function deploy() {\n",
    "    const accounts = await web3.eth.getAccounts();\n",
    "    console.log(\"Deploying the contract from \" + accounts[0]);\n",
    "    var deployed = await new web3.eth.Contract(_abiArray)\n",
    "        .deploy({data: \"0x\"+_bin})\n",
    "        .send({from: accounts[0], gas: 259210}, function(err, transactionHash) {\n",
    "                if(!err) console.log(\"hash: \" + transactionHash); \n",
    "        })\n",
    "        //.then(function(newContractInstance){\n",
    "        //    console.log(newContractInstance)\n",
    "        //});\n",
    "    console.log(\"---> The contract deployed to: \" + deployed.options.address)\n",
    "}\n",
    "deploy()"
   ]
  },
  {
   "cell_type": "code",
   "execution_count": 35,
   "id": "66b06384",
   "metadata": {},
   "outputs": [
    {
     "name": "stdout",
     "output_type": "stream",
     "text": [
      "- contract name:  [ 'src/EventTest.sol:EventTest' ]\n",
      "- ABI: [{\"anonymous\":false,\"inputs\":[{\"indexed\":false,\"internalType\":\"string\",\"name\":\"my\",\"type\":\"string\"}],\"name\":\"MyLog\",\"type\":\"event\"},{\"inputs\":[],\"name\":\"myFunction\",\"outputs\":[],\"stateMutability\":\"nonpayable\",\"type\":\"function\"}]\n",
      "- Bytecode: 608060405234801561001057600080fd5b5060c28061001f6000396000f3fe6080604052348015600f57600080fd5b506004361060285760003560e01c8063c3780a3a14602d575b600080fd5b60336035565b005b7f5186edd9beca61d795526ca1f274260b3fc74be3e10e1f02e1be1552e14f13736040516082906020808252600c908201526b48656c6c6f20576f726c642160a01b604082015260600190565b60405180910390a156fea26469706673582212202536bdb56b21ecf86ae974a398b39a88edcca2c225771fba63979435f1af36f264736f6c63430008070033\n",
      "Deploying the contract from 0xE0a70f317486A08D2D15bdA81408a0086D4e0D39\n",
      "hash: 0x90a5cea3719439eda6e4d6eec3505a145058c286cef0995360ecb60aa7fa33f9\n",
      "---> The contract deployed to: 0xB100E94c7E2651e71C18EA4c14c9cAF45C33a26c\n"
     ]
    }
   ],
   "source": [
    "!node src/EventTestDeployFromFile.js"
   ]
  },
  {
   "cell_type": "code",
   "execution_count": 36,
   "id": "5ed65709",
   "metadata": {},
   "outputs": [
    {
     "name": "stdout",
     "output_type": "stream",
     "text": [
      "Overwriting src/EventTestHttpNoEventFiredUse.js\n"
     ]
    }
   ],
   "source": [
    "%%writefile src/EventTestHttpNoEventFiredUse.js\n",
    "var Web3=require('web3');\n",
    "var _abiBinJson = require('./EventTest.json');      //importing a javascript file\n",
    "\n",
    "var web3 = new Web3(new Web3.providers.HttpProvider(\"http://localhost:8345\"));\n",
    "contractName=Object.keys(_abiBinJson.contracts); // reading ['src/EventTest.sol:EventTest']\n",
    "//console.log(\"- contract name: \", contractName); //or console.log(contractName[0]);\n",
    "_abi=_abiBinJson.contracts[contractName].abi; //use just as read from file\n",
    "_abiArray=JSON.parse(JSON.stringify(_abi));\n",
    "//_abiArray=JSON.parse(_abi);      //JSON parsing needed!!\n",
    "//_bin=_abiBinJson.contracts[contractName].bin;\n",
    "console.log(\"- ABI: \" + JSON.stringify(_abi));\n",
    "//console.log(\"- Bytecode: \" + _bin);\n",
    "var _test = new web3.eth.Contract(_abiArray,\"0xB100E94c7E2651e71C18EA4c14c9cAF45C33a26c\");\n",
    "var event = _test.events.MyLog({fromBlock: 0}, function (error, result) {\n",
    "    if (!error) {\n",
    "        console.log(\"Event fired: \" + JSON.stringify(result.returnValues));\n",
    "    }\n",
    "});\n",
    "\n",
    "async function doIt() {\n",
    "    const accounts = await web3.eth.getAccounts();\n",
    "    console.log(\"Account: \" + accounts[0]);\n",
    "    const balanceBefore = await web3.eth.getBalance(accounts[0]);\n",
    "    console.log(\"Balance before: \" + balanceBefore);\n",
    "    const value = await _test.methods.myFunction()\n",
    "        .send({from: accounts[0], gas: 364124, gasPrice: '1000000000'})\n",
    "        //.then(function(value) {console.log(\"---> myFunction called \" + JSON.stringify(value.events.MyLog.returnValues));});\n",
    "    console.log(\"---> myFunction called \" + JSON.stringify(value.events.MyLog.returnValues));\n",
    "    const balanceAfter = await web3.eth.getBalance(accounts[0]);\n",
    "    console.log(\"Balance after: \" + balanceAfter);\n",
    "    console.log(\"Balance diff: \" + (balanceBefore - balanceAfter));\n",
    "}\n",
    "doIt()"
   ]
  },
  {
   "cell_type": "code",
   "execution_count": 37,
   "id": "9ec260b2",
   "metadata": {},
   "outputs": [
    {
     "name": "stdout",
     "output_type": "stream",
     "text": [
      "- ABI: [{\"anonymous\":false,\"inputs\":[{\"indexed\":false,\"internalType\":\"string\",\"name\":\"my\",\"type\":\"string\"}],\"name\":\"MyLog\",\"type\":\"event\"},{\"inputs\":[],\"name\":\"myFunction\",\"outputs\":[],\"stateMutability\":\"nonpayable\",\"type\":\"function\"}]\n",
      "Account: 0xE0a70f317486A08D2D15bdA81408a0086D4e0D39\n",
      "Balance before: 999998960677000000000\n",
      "---> myFunction called {\"0\":\"Hello World!\",\"my\":\"Hello World!\"}\n",
      "Balance after: 999998937862000000000\n",
      "Balance diff: 22815000100864\n"
     ]
    }
   ],
   "source": [
    "!node src/EventTestHttpNoEventFiredUse.js"
   ]
  },
  {
   "cell_type": "code",
   "execution_count": 38,
   "id": "2dcda21a",
   "metadata": {},
   "outputs": [
    {
     "name": "stdout",
     "output_type": "stream",
     "text": [
      "Writing src/FallbackTest.sol\n"
     ]
    }
   ],
   "source": [
    "%%writefile src/FallbackTest.sol\n",
    "//SPDX-License-Identifier: GPL-3.0-or-later\n",
    "pragma solidity ^0.8.0;\n",
    "\n",
    "contract FallbackTest {\n",
    "    event PrintLog(string);\n",
    "    function callA () pure public returns(string memory){\n",
    "        return \"doing callA\";\n",
    "    }\n",
    "    fallback () external {\n",
    "        emit PrintLog(\"fallback called\");\n",
    "    }\n",
    "}"
   ]
  },
  {
   "cell_type": "code",
   "execution_count": 39,
   "id": "321c65fd",
   "metadata": {},
   "outputs": [],
   "source": [
    "!solc-windows.exe --optimize --combined-json abi,bin src/FallbackTest.sol > src/FallbackTest.json"
   ]
  },
  {
   "cell_type": "code",
   "execution_count": 41,
   "id": "5cc5b304",
   "metadata": {},
   "outputs": [
    {
     "name": "stdout",
     "output_type": "stream",
     "text": [
      "Overwriting src/FallbackTestDeployFromFile.js\n"
     ]
    }
   ],
   "source": [
    "%%writefile src/FallbackTestDeployFromFile.js\n",
    "var Web3 = require('web3');\n",
    "var _abiBinJson = require('./FallbackTest.json');      //importing a javascript file\n",
    "//var fs=require('fs');\n",
    "//var _str = fs.readFileSync(\"src/FallbackTest.json\");\n",
    "//var _json=JSON.parse(_str)\n",
    "\n",
    "var web3 = new Web3(new Web3.providers.HttpProvider(\"http://localhost:8345\"));\n",
    "\n",
    "contractName=Object.keys(_abiBinJson.contracts); // reading ['src/FallbackTest.sol:FallbackTest']\n",
    "console.log(\"- contract name: \", contractName);\n",
    "_abiArray=_abiBinJson.contracts[contractName].abi;\n",
    "//_abiArray=JSON.parse(JSON.stringify(_abi));\n",
    "//_abiArray=JSON.parse(_abi);      //JSON parsing needed!! //SyntaxError: Unexpected token o in JSON at position 1\n",
    "_bin=_abiBinJson.contracts[contractName].bin;\n",
    "\n",
    "//console.log(\"- ABI: \" + _abiArray);\n",
    "//console.log(\"- Bytecode: \" + _bin);\n",
    "\n",
    "async function deploy() {\n",
    "    const accounts = await web3.eth.getAccounts();\n",
    "    console.log(\"Deploying the contract from \" + accounts[0]);\n",
    "    var deployed = await new web3.eth.Contract(_abiArray)\n",
    "        .deploy({data: \"0x\"+_bin})\n",
    "        .send({from: accounts[0], gas: 1000000}, function(err, transactionHash) {\n",
    "                if(!err) console.log(\"hash: \" + transactionHash); \n",
    "        })\n",
    "        //.then(function(newContractInstance){\n",
    "        //    console.log(newContractInstance)\n",
    "        //});\n",
    "    console.log(\"---> The contract deployed to: \" + deployed.options.address)\n",
    "}\n",
    "deploy()"
   ]
  },
  {
   "cell_type": "code",
   "execution_count": 42,
   "id": "7528bc5b",
   "metadata": {},
   "outputs": [
    {
     "name": "stdout",
     "output_type": "stream",
     "text": [
      "- contract name:  [ 'src/FallbackTest.sol:FallbackTest' ]\n",
      "Deploying the contract from 0xE0a70f317486A08D2D15bdA81408a0086D4e0D39\n",
      "hash: 0x11cd41d0d677b7a0200cba8c1dba7080d57a4167b5444f5fdd6a5ef2a84afa1e\n",
      "---> The contract deployed to: 0xa8C6f25482915D4bE3f4ec9d4c6AF891acaE2127\n"
     ]
    }
   ],
   "source": [
    "!node src/FallbackTestDeployFromFile.js"
   ]
  },
  {
   "cell_type": "code",
   "execution_count": 58,
   "id": "1fe85d94",
   "metadata": {},
   "outputs": [
    {
     "name": "stdout",
     "output_type": "stream",
     "text": [
      "Overwriting src/FallbackTestUseFromFile.js\n"
     ]
    }
   ],
   "source": [
    "%%writefile src/FallbackTestUseFromFile.js\n",
    "var Web3=require('web3');\n",
    "var _abiBinJson = require('./FallbackTest.json');      //importing a javascript file\n",
    "\n",
    "//var web3 = new Web3(new Web3.providers.HttpProvider(\"http://localhost:8345\"));\n",
    "var web3 = new Web3(new Web3.providers.WebsocketProvider(\"ws://localhost:8345\"));\n",
    "contractName=Object.keys(_abiBinJson.contracts); // reading ['src/FallbackTest.sol:FallbackTest']\n",
    "console.log(\"- contract name: \", contractName); //or console.log(contractName[0]);\n",
    "_abiArray=_abiBinJson.contracts[contractName].abi; //use just as read from file\n",
    "//_abiArray=JSON.parse(JSON.stringify(_abi));\n",
    "//_abiArray=JSON.parse(_abi);      //JSON parsing needed!!\n",
    "//_bin=_abiBinJson.contracts[contractName].bin;\n",
    "console.log(\"- ABI: \" + JSON.stringify(_abiArray));\n",
    "//console.log(\"- Bytecode: \" + _bin);\n",
    "//The above ABI from file does not work. So ABI was copied and pasted as below -> It worked!\n",
    "_abiArray=[{\"anonymous\":false,\"inputs\":[{\"indexed\":false,\"internalType\":\"string\",\"name\":\"\",\"type\":\"string\"}],\"name\":\"PrintLog\",\"type\":\"event\"},{\"stateMutability\":\"nonpayable\",\"type\":\"fallback\"},{\"inputs\":[],\"name\":\"callA\",\"outputs\":[{\"internalType\":\"string\",\"name\":\"\",\"type\":\"string\"}],\"stateMutability\":\"pure\",\"type\":\"function\"}];\n",
    "async function doIt() {\n",
    "    const accounts = await web3.eth.getAccounts();\n",
    "    console.log(\"Account: \" + accounts[0]);\n",
    "    const balanceBefore = await web3.eth.getBalance(accounts[0]);\n",
    "    console.log(\"Balance before: \" + balanceBefore);\n",
    "    var _instance = new web3.eth.Contract(_abiArray, \"0xa8C6f25482915D4bE3f4ec9d4c6AF891acaE2127\");\n",
    "    var event = _instance.events.PrintLog({fromBlock: 0}, function (error, result) {\n",
    "        if (!error) {\n",
    "            console.log(\"Event fired: \" + JSON.stringify(result) + \"\\n---> \" + JSON.stringify(result.returnValues));\n",
    "        }\n",
    "    });\n",
    "\n",
    "    _instance.methods.callA().call().then(function(res) { console.log(res); });  //null\n",
    "    //call without calling any method\n",
    "    //await _instance.methods.callB().send({from:accounts[0], to: \"0x3991e87b71cBFf94aA0718F341d8Ad4bCF969f36\"}); //fail\n",
    "    //await _instance.methods.callA().send({from:accounts[0], data:\"0x1234\"});  //empty calldata to call fallback -> fail\n",
    "    web3.eth.sendTransaction({from:accounts[0], to:\"0xa8C6f25482915D4bE3f4ec9d4c6AF891acaE2127\"}); //fallback called\n",
    "    const balanceAfter = await web3.eth.getBalance(accounts[0]);\n",
    "    console.log(\"Balance after: \" + balanceAfter);\n",
    "    console.log(\"Balance diff: \" + (balanceBefore - balanceAfter));\n",
    "    process.exit(1); //force exit\n",
    "}\n",
    "doIt()"
   ]
  },
  {
   "cell_type": "code",
   "execution_count": 59,
   "id": "9213bacf",
   "metadata": {},
   "outputs": [
    {
     "name": "stdout",
     "output_type": "stream",
     "text": [
      "- contract name:  [ 'src/FallbackTest.sol:FallbackTest' ]\n",
      "- ABI: [{\"anonymous\":false,\"inputs\":[{\"indexed\":false,\"internalType\":\"string\",\"name\":\"\",\"type\":\"string\"}],\"name\":\"PrintLog\",\"type\":\"event\"},{\"stateMutability\":\"nonpayable\",\"type\":\"fallback\"},{\"inputs\":[],\"name\":\"callA\",\"outputs\":[{\"internalType\":\"string\",\"name\":\"\",\"type\":\"string\"}],\"stateMutability\":\"pure\",\"type\":\"function\"}]\n",
      "Account: 0xE0a70f317486A08D2D15bdA81408a0086D4e0D39\n",
      "Balance before: 999998420938000000000\n",
      "Event fired: {\"address\":\"0xa8C6f25482915D4bE3f4ec9d4c6AF891acaE2127\",\"blockHash\":\"0x4380a90497fc74ae6058eddc686a67e078891c6955b755ec5cad8e03bb136542\",\"blockNumber\":11,\"logIndex\":0,\"removed\":false,\"transactionHash\":\"0xf66f1e13a3ffcc49f8e835fc9676959cfb84a747c35caa9c3d84da5194bfa143\",\"transactionIndex\":0,\"id\":\"log_606ee712\",\"returnValues\":{\"0\":\"fallback called\"},\"event\":\"PrintLog\",\"signature\":\"0x968f0302429ff0e5bd56a45ce3ba1f4fa79f4b822857e438616435f00c3b59fd\",\"raw\":{\"data\":\"0x0000000000000000000000000000000000000000000000000000000000000020000000000000000000000000000000000000000000000000000000000000000f66616c6c6261636b2063616c6c65640000000000000000000000000000000000\",\"topics\":[\"0x968f0302429ff0e5bd56a45ce3ba1f4fa79f4b822857e438616435f00c3b59fd\"]}}\n",
      "---> {\"0\":\"fallback called\"}\n",
      "Event fired: {\"address\":\"0xa8C6f25482915D4bE3f4ec9d4c6AF891acaE2127\",\"blockHash\":\"0x2ccd9ac419be0b4447028cf522aa1117ff5442362b6965c463ffe16dc003ee24\",\"blockNumber\":12,\"logIndex\":0,\"removed\":false,\"transactionHash\":\"0x5be8ec3d4565a145f41134a281bd6ffe3fe796887a3ab291dd4563fe08081b07\",\"transactionIndex\":0,\"id\":\"log_c7239490\",\"returnValues\":{\"0\":\"fallback called\"},\"event\":\"PrintLog\",\"signature\":\"0x968f0302429ff0e5bd56a45ce3ba1f4fa79f4b822857e438616435f00c3b59fd\",\"raw\":{\"data\":\"0x0000000000000000000000000000000000000000000000000000000000000020000000000000000000000000000000000000000000000000000000000000000f66616c6c6261636b2063616c6c65640000000000000000000000000000000000\",\"topics\":[\"0x968f0302429ff0e5bd56a45ce3ba1f4fa79f4b822857e438616435f00c3b59fd\"]}}\n",
      "---> {\"0\":\"fallback called\"}\n",
      "Event fired: {\"address\":\"0xa8C6f25482915D4bE3f4ec9d4c6AF891acaE2127\",\"blockHash\":\"0x89182fadbd60195141b4fdefadbb02a12bcd14b5533ca333c6ea2f47e9675555\",\"blockNumber\":13,\"logIndex\":0,\"removed\":false,\"transactionHash\":\"0xcd63c0c33c8d1368aac074a2abc0a5a412535d277977de45735b35713fc4b35c\",\"transactionIndex\":0,\"id\":\"log_ecc1ed02\",\"returnValues\":{\"0\":\"fallback called\"},\"event\":\"PrintLog\",\"signature\":\"0x968f0302429ff0e5bd56a45ce3ba1f4fa79f4b822857e438616435f00c3b59fd\",\"raw\":{\"data\":\"0x0000000000000000000000000000000000000000000000000000000000000020000000000000000000000000000000000000000000000000000000000000000f66616c6c6261636b2063616c6c65640000000000000000000000000000000000\",\"topics\":[\"0x968f0302429ff0e5bd56a45ce3ba1f4fa79f4b822857e438616435f00c3b59fd\"]}}\n",
      "---> {\"0\":\"fallback called\"}\n",
      "Event fired: {\"address\":\"0xa8C6f25482915D4bE3f4ec9d4c6AF891acaE2127\",\"blockHash\":\"0xf9b1e233792b29bbf0dc9f84946f55e89a87a75d5dbbb86ebb7954d3704d51b5\",\"blockNumber\":14,\"logIndex\":0,\"removed\":false,\"transactionHash\":\"0xe7654c3905b4b98138909c26fe5d190256f21e52f268083b9e7fe4527d187e81\",\"transactionIndex\":0,\"id\":\"log_8e6dce75\",\"returnValues\":{\"0\":\"fallback called\"},\"event\":\"PrintLog\",\"signature\":\"0x968f0302429ff0e5bd56a45ce3ba1f4fa79f4b822857e438616435f00c3b59fd\",\"raw\":{\"data\":\"0x0000000000000000000000000000000000000000000000000000000000000020000000000000000000000000000000000000000000000000000000000000000f66616c6c6261636b2063616c6c65640000000000000000000000000000000000\",\"topics\":[\"0x968f0302429ff0e5bd56a45ce3ba1f4fa79f4b822857e438616435f00c3b59fd\"]}}\n",
      "---> {\"0\":\"fallback called\"}\n",
      "Event fired: {\"address\":\"0xa8C6f25482915D4bE3f4ec9d4c6AF891acaE2127\",\"blockHash\":\"0xe4340d926d0fbc35c9f120aa134e7ddfb132f2ae13bcd996acee96b4d874d4c5\",\"blockNumber\":15,\"logIndex\":0,\"removed\":false,\"transactionHash\":\"0x18b0702b8d382841271b6c256cbbd6d7f3c9f4d43325c8bf1d5e9c898991ddbe\",\"transactionIndex\":0,\"id\":\"log_2c7df52c\",\"returnValues\":{\"0\":\"fallback called\"},\"event\":\"PrintLog\",\"signature\":\"0x968f0302429ff0e5bd56a45ce3ba1f4fa79f4b822857e438616435f00c3b59fd\",\"raw\":{\"data\":\"0x0000000000000000000000000000000000000000000000000000000000000020000000000000000000000000000000000000000000000000000000000000000f66616c6c6261636b2063616c6c65640000000000000000000000000000000000\",\"topics\":[\"0x968f0302429ff0e5bd56a45ce3ba1f4fa79f4b822857e438616435f00c3b59fd\"]}}\n",
      "---> {\"0\":\"fallback called\"}\n",
      "Balance after: 999998420938000000000\n",
      "Balance diff: 0\n"
     ]
    }
   ],
   "source": [
    "!node src/FallbackTestUseFromFile.js"
   ]
  },
  {
   "cell_type": "code",
   "execution_count": null,
   "id": "01e95376",
   "metadata": {},
   "outputs": [],
   "source": []
  }
 ],
 "metadata": {
  "kernelspec": {
   "display_name": "Python 3 (ipykernel)",
   "language": "python",
   "name": "python3"
  },
  "language_info": {
   "codemirror_mode": {
    "name": "ipython",
    "version": 3
   },
   "file_extension": ".py",
   "mimetype": "text/x-python",
   "name": "python",
   "nbconvert_exporter": "python",
   "pygments_lexer": "ipython3",
   "version": "3.9.7"
  }
 },
 "nbformat": 4,
 "nbformat_minor": 5
}
