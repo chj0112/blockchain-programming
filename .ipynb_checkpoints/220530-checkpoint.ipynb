{
 "cells": [
  {
   "cell_type": "markdown",
   "id": "0c32b198",
   "metadata": {},
   "source": [
    "# Association"
   ]
  },
  {
   "cell_type": "markdown",
   "id": "0402a0c1",
   "metadata": {},
   "source": [
    "## C1C2"
   ]
  },
  {
   "cell_type": "code",
   "execution_count": 1,
   "id": "d5ed2cd0",
   "metadata": {},
   "outputs": [
    {
     "name": "stdout",
     "output_type": "stream",
     "text": [
      "Writing src/C1.sol\n"
     ]
    }
   ],
   "source": [
    "%%writefile src/C1.sol\n",
    "//SPDX-License-Identifier: GPL-3.0-or-later\n",
    "pragma solidity ^0.8.0;\n",
    "//pragma solidity ^0.6;\n",
    "//pragma solidity 0.4.21;\n",
    "\n",
    "contract C1 {\n",
    "    uint128 v1;\n",
    "    function set(uint128 _v1) public {\n",
    "        v1=_v1;\n",
    "    }\n",
    "    function get() public view returns(uint128) {\n",
    "        return v1;\n",
    "    }\n",
    "    function get7() public pure returns(uint128) {\n",
    "        return 7;\n",
    "    }\n",
    "}"
   ]
  },
  {
   "cell_type": "code",
   "execution_count": 2,
   "id": "5f968cb7",
   "metadata": {},
   "outputs": [],
   "source": [
    "!solc-windows.exe src/C1.sol --combined-json abi,bin > src/C1.json"
   ]
  },
  {
   "cell_type": "code",
   "execution_count": 4,
   "id": "9ed705d7",
   "metadata": {},
   "outputs": [
    {
     "name": "stdout",
     "output_type": "stream",
     "text": [
      "{\"contracts\":{\"src/C1.sol:C1\":{\"abi\":[{\"inputs\":[],\"name\":\"get\",\"outputs\":[{\"internalType\":\"uint128\",\"name\":\"\",\"type\":\"uint128\"}],\"stateMutability\":\"view\",\"type\":\"function\"},{\"inputs\":[],\"name\":\"get7\",\"outputs\":[{\"internalType\":\"uint128\",\"name\":\"\",\"type\":\"uint128\"}],\"stateMutability\":\"pure\",\"type\":\"function\"},{\"inputs\":[{\"internalType\":\"uint128\",\"name\":\"_v1\",\"type\":\"uint128\"}],\"name\":\"set\",\"outputs\":[],\"stateMutability\":\"nonpayable\",\"type\":\"function\"}],\"bin\":\"608060405234801561001057600080fd5b506101e1806100206000396000f3fe608060405234801561001057600080fd5b50600436106100415760003560e01c8063086949b7146100465780634178462f146100645780636d4ce63c14610080575b600080fd5b61004e61009e565b60405161005b9190610158565b60405180910390f35b61007e6004803603810190610079919061011c565b6100a7565b005b6100886100e2565b6040516100959190610158565b60405180910390f35b60006007905090565b806000806101000a8154816fffffffffffffffffffffffffffffffff02191690836fffffffffffffffffffffffffffffffff16021790555050565b60008060009054906101000a90046fffffffffffffffffffffffffffffffff16905090565b60008135905061011681610194565b92915050565b6000602082840312156101325761013161018f565b5b600061014084828501610107565b91505092915050565b61015281610173565b82525050565b600060208201905061016d6000830184610149565b92915050565b60006fffffffffffffffffffffffffffffffff82169050919050565b600080fd5b61019d81610173565b81146101a857600080fd5b5056fea26469706673582212203d0c72d322964c3bce569310c759892adf3933517cb5d34ae05a24ec3523294a64736f6c63430008070033\"}},\"version\":\"0.8.7+commit.e28d00a7.Windows.msvc\"}\n"
     ]
    }
   ],
   "source": [
    "!type src\\C1.json"
   ]
  },
  {
   "cell_type": "code",
   "execution_count": 5,
   "id": "5e60e17b",
   "metadata": {},
   "outputs": [
    {
     "name": "stdout",
     "output_type": "stream",
     "text": [
      "Writing src/C1Deploy.js\n"
     ]
    }
   ],
   "source": [
    "%%writefile src/C1Deploy.js\n",
    "var Web3 = require('web3');\n",
    "var web3 = new Web3(new Web3.providers.HttpProvider(\"http://localhost:8345\"));\n",
    "var fs=require('fs');\n",
    "var _str = fs.readFileSync(\"src/C1.json\");\n",
    "var _json = JSON.parse(_str)\n",
    "//var _abiArray = JSON.parse(_json.contracts.sHello2.abi);\n",
    "//var _abiArray = JSON.parse(_json.contracts[\"src/C1.sol:C1\"].abi);\n",
    "var _abiArray = _json.contracts[\"src/C1.sol:C1\"].abi;\n",
    "//var _bin = _json.contracts.sHello2.bin;\n",
    "var _bin = \"0x\"+_json.contracts[\"src/C1.sol:C1\"].bin;\n",
    "\n",
    "//unlock the account with a password provided\n",
    "//web3.personal.unlockAccount(web3.eth.accounts[0],'password');\n",
    "async function deploy() {\n",
    "    const accounts = await web3.eth.getAccounts();\n",
    "    console.log(\"Deploying the contract from \" + accounts[0]);\n",
    "    var deployed = await new web3.eth.Contract(_abiArray)\n",
    "        .deploy({data: _bin})\n",
    "        .send({from: accounts[0], gas: 1000000})\n",
    "        .on('transactionHash', function(hash){\n",
    "            console.log(\">>> transactionHash\" + hash);\n",
    "        })\n",
    "        .on('receipt', function(receipt){\n",
    "            console.log(\">>> RECEPIT hash: \" + receipt.transactionHash + \"\\n>>> address:\" + receipt.contractAddress);\n",
    "        })\n",
    "        .on('error', function(error, receipt) {\n",
    "            console.log(\">>> ERROR \" + error);\n",
    "        });\n",
    "        //.then(function(newContractInstance){\n",
    "        //    console.log(newContractInstance.options.address)\n",
    "        //});\n",
    "    console.log(\"---> The contract deployed to: \" + deployed.options.address)\n",
    "}\n",
    "deploy()"
   ]
  },
  {
   "cell_type": "code",
   "execution_count": 6,
   "id": "ca30ac2d",
   "metadata": {},
   "outputs": [
    {
     "name": "stdout",
     "output_type": "stream",
     "text": [
      "Deploying the contract from 0xf88f0fF43C425Fa67B18a31D608d7C6F925b397e\n",
      ">>> transactionHash0xb05e84a44fb9d6db80fd6bec6ffb0200e7457c48c519ace0d3d10e09c4c7667d\n",
      ">>> RECEPIT hash: 0xb05e84a44fb9d6db80fd6bec6ffb0200e7457c48c519ace0d3d10e09c4c7667d\n",
      ">>> address:0x3976EE2383A4cA2Ab2B95618b56C9f1816510591\n",
      "---> The contract deployed to: 0x3976EE2383A4cA2Ab2B95618b56C9f1816510591\n"
     ]
    }
   ],
   "source": [
    "!node src/C1Deploy.js"
   ]
  },
  {
   "cell_type": "code",
   "execution_count": 7,
   "id": "2c94b3db",
   "metadata": {},
   "outputs": [
    {
     "name": "stdout",
     "output_type": "stream",
     "text": [
      "Writing src/C1Use.js\n"
     ]
    }
   ],
   "source": [
    "%%writefile src/C1Use.js\n",
    "var Web3=require('web3');\n",
    "var web3=new Web3(new Web3.providers.HttpProvider(\"http://localhost:8345\"));\n",
    "var fs=require('fs');\n",
    "var _str = fs.readFileSync(\"src/C1.json\");\n",
    "var _json=JSON.parse(_str)\n",
    "//var _abiArray=JSON.parse(_json.contracts.sHello2.abi);\n",
    "//var _abiArray=JSON.parse(_json.contracts[\"src/C1.sol:C1\"].abi);\n",
    "var _abiArray = _json.contracts[\"src/C1.sol:C1\"].abi;\n",
    "\n",
    "var c1 = new web3.eth.Contract(_abiArray, \"0x3976EE2383A4cA2Ab2B95618b56C9f1816510591\");\n",
    "async function doIt() {\n",
    "    const accounts = await web3.eth.getAccounts();\n",
    "    console.log(\"Account: \" + accounts[0]);\n",
    "    const balanceBefore = await web3.eth.getBalance(accounts[0]);\n",
    "    console.log(\"Balance before: \" + balanceBefore);\n",
    "    c1.methods.get7().call().then(console.log);\n",
    "    await c1.methods.set(9).send({from: accounts[0],gas:50000});\n",
    "    c1.methods.get().call().then(console.log);\n",
    "    const balanceAfter = await web3.eth.getBalance(accounts[0]);\n",
    "    console.log(\"Balance after: \" + balanceAfter);\n",
    "    console.log(\"Balance diff: \" + (balanceBefore - balanceAfter));\n",
    "    //hello.methods.kill().send({from: accounts[0]})\n",
    "}\n",
    "\n",
    "doIt()"
   ]
  },
  {
   "cell_type": "code",
   "execution_count": 8,
   "id": "dcc93e06",
   "metadata": {},
   "outputs": [
    {
     "name": "stdout",
     "output_type": "stream",
     "text": [
      "Account: 0xf88f0fF43C425Fa67B18a31D608d7C6F925b397e\n",
      "Balance before: 999999685826000000000\n",
      "7\n",
      "Balance after: 999999598260000000000\n",
      "Balance diff: 87566000062464\n",
      "9\n"
     ]
    }
   ],
   "source": [
    "!node src/C1Use.js"
   ]
  },
  {
   "cell_type": "code",
   "execution_count": 9,
   "id": "fc2de781",
   "metadata": {},
   "outputs": [
    {
     "name": "stdout",
     "output_type": "stream",
     "text": [
      "Writing src/C2.sol\n"
     ]
    }
   ],
   "source": [
    "%%writefile src/C2.sol\n",
    "//SPDX-License-Identifier: GPL-3.0-or-later\n",
    "pragma solidity ^0.8.0;\n",
    "//pragma solidity 0.6;\n",
    "//pragma solidity 0.4.21;\n",
    "import \"./C1.sol\";\n",
    "\n",
    "contract C2 {\n",
    "    C1 c1;\n",
    "    //function C2() public {  //0.4.21 constructor\n",
    "    constructor() {    //constructor() public {    //0.6 constructor\n",
    "        c1=new C1();\n",
    "    }\n",
    "    function setC1(address _addressOfC1) public {\n",
    "        c1 = C1(_addressOfC1);\n",
    "    }\n",
    "    function set(uint128 _v1) public {\n",
    "        c1.set(_v1);\n",
    "    }\n",
    "    function get() public view returns(uint128) {\n",
    "        return c1.get();\n",
    "    }\n",
    "    function get7() public view returns(uint128) {\n",
    "        return c1.get7();\n",
    "    }\n",
    "    function getC1Address() public view returns(address) {\n",
    "        return address(c1);\n",
    "    }\n",
    "}"
   ]
  },
  {
   "cell_type": "code",
   "execution_count": 10,
   "id": "9e4bcdf5",
   "metadata": {},
   "outputs": [],
   "source": [
    "!solc-windows.exe src/C2.sol --combined-json abi,bin > src/C2.json"
   ]
  },
  {
   "cell_type": "code",
   "execution_count": 11,
   "id": "d3620aca",
   "metadata": {},
   "outputs": [
    {
     "name": "stdout",
     "output_type": "stream",
     "text": [
      "{\"contracts\":{\"src/C1.sol:C1\":{\"abi\":[{\"inputs\":[],\"name\":\"get\",\"outputs\":[{\"internalType\":\"uint128\",\"name\":\"\",\"type\":\"uint128\"}],\"stateMutability\":\"view\",\"type\":\"function\"},{\"inputs\":[],\"name\":\"get7\",\"outputs\":[{\"internalType\":\"uint128\",\"name\":\"\",\"type\":\"uint128\"}],\"stateMutability\":\"pure\",\"type\":\"function\"},{\"inputs\":[{\"internalType\":\"uint128\",\"name\":\"_v1\",\"type\":\"uint128\"}],\"name\":\"set\",\"outputs\":[],\"stateMutability\":\"nonpayable\",\"type\":\"function\"}],\"bin\":\"608060405234801561001057600080fd5b506101e1806100206000396000f3fe608060405234801561001057600080fd5b50600436106100415760003560e01c8063086949b7146100465780634178462f146100645780636d4ce63c14610080575b600080fd5b61004e61009e565b60405161005b9190610158565b60405180910390f35b61007e6004803603810190610079919061011c565b6100a7565b005b6100886100e2565b6040516100959190610158565b60405180910390f35b60006007905090565b806000806101000a8154816fffffffffffffffffffffffffffffffff02191690836fffffffffffffffffffffffffffffffff16021790555050565b60008060009054906101000a90046fffffffffffffffffffffffffffffffff16905090565b60008135905061011681610194565b92915050565b6000602082840312156101325761013161018f565b5b600061014084828501610107565b91505092915050565b61015281610173565b82525050565b600060208201905061016d6000830184610149565b92915050565b60006fffffffffffffffffffffffffffffffff82169050919050565b600080fd5b61019d81610173565b81146101a857600080fd5b5056fea26469706673582212203d0c72d322964c3bce569310c759892adf3933517cb5d34ae05a24ec3523294a64736f6c63430008070033\"},\"src/C2.sol:C2\":{\"abi\":[{\"inputs\":[],\"stateMutability\":\"nonpayable\",\"type\":\"constructor\"},{\"inputs\":[],\"name\":\"get\",\"outputs\":[{\"internalType\":\"uint128\",\"name\":\"\",\"type\":\"uint128\"}],\"stateMutability\":\"view\",\"type\":\"function\"},{\"inputs\":[],\"name\":\"get7\",\"outputs\":[{\"internalType\":\"uint128\",\"name\":\"\",\"type\":\"uint128\"}],\"stateMutability\":\"view\",\"type\":\"function\"},{\"inputs\":[],\"name\":\"getC1Address\",\"outputs\":[{\"internalType\":\"address\",\"name\":\"\",\"type\":\"address\"}],\"stateMutability\":\"view\",\"type\":\"function\"},{\"inputs\":[{\"internalType\":\"uint128\",\"name\":\"_v1\",\"type\":\"uint128\"}],\"name\":\"set\",\"outputs\":[],\"stateMutability\":\"nonpayable\",\"type\":\"function\"},{\"inputs\":[{\"internalType\":\"address\",\"name\":\"_addressOfC1\",\"type\":\"address\"}],\"name\":\"setC1\",\"outputs\":[],\"stateMutability\":\"nonpayable\",\"type\":\"function\"}],\"bin\":\"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\"}},\"version\":\"0.8.7+commit.e28d00a7.Windows.msvc\"}\n"
     ]
    }
   ],
   "source": [
    "!type src\\C2.json"
   ]
  },
  {
   "cell_type": "code",
   "execution_count": 16,
   "id": "2efeff9e",
   "metadata": {},
   "outputs": [
    {
     "name": "stdout",
     "output_type": "stream",
     "text": [
      "Overwriting src/C2Deploy.js\n"
     ]
    }
   ],
   "source": [
    "%%writefile src/C2Deploy.js\n",
    "var Web3 = require('web3');\n",
    "var web3 = new Web3(new Web3.providers.HttpProvider(\"http://localhost:8345\"));\n",
    "var fs=require('fs');\n",
    "var _str = fs.readFileSync(\"src/C2.json\");\n",
    "var _json = JSON.parse(_str)\n",
    "//var _abiArray = JSON.parse(_json.contracts.sHello2.abi);\n",
    "//var _abiArray = JSON.parse(_json.contracts[\"src/C2.sol:C2\"].abi);\n",
    "var _abiArray = _json.contracts[\"src/C2.sol:C2\"].abi;\n",
    "//var _bin = _json.contracts.sHello2.bin;\n",
    "var _bin = \"0x\"+_json.contracts[\"src/C2.sol:C2\"].bin;\n",
    "\n",
    "//unlock the account with a password provided\n",
    "//web3.personal.unlockAccount(web3.eth.accounts[0],'password');\n",
    "async function deploy() {\n",
    "    const accounts = await web3.eth.getAccounts();\n",
    "    console.log(\"Deploying the contract from \" + accounts[0]);\n",
    "    var deployed = await new web3.eth.Contract(_abiArray)\n",
    "        .deploy({data: _bin})\n",
    "        .send({from: accounts[0], gas: 1000000})\n",
    "        .on('transactionHash', function(hash){\n",
    "            console.log(\">>> transactionHash\" + hash);\n",
    "        })\n",
    "        .on('receipt', function(receipt){\n",
    "            console.log(\">>> RECEPIT hash: \" + receipt.transactionHash + \"\\n>>> address:\" + receipt.contractAddress);\n",
    "        })\n",
    "        .on('error', function(error, receipt) {\n",
    "            console.log(\">>> ERROR \" + error);\n",
    "        });\n",
    "        //.then(function(newContractInstance){\n",
    "        //    console.log(newContractInstance.options.address)\n",
    "        //});\n",
    "    console.log(\"---> The contract deployed to: \" + deployed.options.address)\n",
    "}\n",
    "deploy()"
   ]
  },
  {
   "cell_type": "code",
   "execution_count": 17,
   "id": "9f3d4457",
   "metadata": {},
   "outputs": [
    {
     "name": "stdout",
     "output_type": "stream",
     "text": [
      "Deploying the contract from 0xf88f0fF43C425Fa67B18a31D608d7C6F925b397e\n",
      ">>> transactionHash0x42c713d9265fd87995e916dac6fb82d9fcb1e4d5790361aed713606c0fd33d29\n",
      ">>> RECEPIT hash: 0x42c713d9265fd87995e916dac6fb82d9fcb1e4d5790361aed713606c0fd33d29\n",
      ">>> address:0xaDa4b830B9cAbD83dA73dEE9736AbaB05487fBd6\n",
      "---> The contract deployed to: 0xaDa4b830B9cAbD83dA73dEE9736AbaB05487fBd6\n"
     ]
    }
   ],
   "source": [
    "!node src/C2Deploy.js"
   ]
  },
  {
   "cell_type": "code",
   "execution_count": 18,
   "id": "f4e9e517",
   "metadata": {},
   "outputs": [
    {
     "name": "stdout",
     "output_type": "stream",
     "text": [
      "Overwriting src/C2Use.js\n"
     ]
    }
   ],
   "source": [
    "%%writefile src/C2Use.js\n",
    "var Web3=require('web3');\n",
    "var web3 = new Web3(new Web3.providers.HttpProvider(\"http://localhost:8345\"));\n",
    "var fs=require('fs');\n",
    "var _str = fs.readFileSync(\"src/C2.json\");\n",
    "var _json = JSON.parse(_str)\n",
    "//var _abiArray = JSON.parse(_json.contracts.sHello2.abi);\n",
    "//var _abiArray = JSON.parse(_json.contracts[\"src/C2.sol:C2\"].abi);\n",
    "var _abiArray = _json.contracts[\"src/C2.sol:C2\"].abi;\n",
    "\n",
    "var c2 = new web3.eth.Contract(_abiArray, \"0xaDa4b830B9cAbD83dA73dEE9736AbaB05487fBd6\");\n",
    "async function doIt() {\n",
    "    const accounts = await web3.eth.getAccounts();\n",
    "    console.log(\"Account: \" + accounts[0]);\n",
    "    const balanceBefore = await web3.eth.getBalance(accounts[0]);\n",
    "    console.log(\"Balance before: \" + balanceBefore);\n",
    "    console.log(\"--- new C1 ---\");\n",
    "    await c2.methods.getC1Address().call(function(err, c1addr) {\n",
    "        if(!err) console.log(\"c1 address by 'new': \"+c1addr);\n",
    "    });\n",
    "    c2.methods.get7().call().then(function(res) { console.log(\"get7(): \"+res) });\n",
    "    console.log(\"--- set the above deployed address of C1 ---\");\n",
    "    await c2.methods.setC1(\"0x3976EE2383A4cA2Ab2B95618b56C9f1816510591\").send({from:accounts[0], gas:50000});\n",
    "    await c2.methods.getC1Address().call(function(err, c1addr) {\n",
    "        if(!err) console.log(\"c1 address by 'setC1()': \"+c1addr);\n",
    "    });\n",
    "    c2.methods.get7().call().then(console.log);\n",
    "    await c2.methods.set(222).send({from: accounts[0],gas:50000});\n",
    "    c2.methods.get().call().then(console.log);\n",
    "    const balanceAfter = await web3.eth.getBalance(accounts[0]);\n",
    "    console.log(\"Balance after: \" + balanceAfter);\n",
    "    console.log(\"Balance diff: \" + (balanceBefore - balanceAfter));\n",
    "    //hello.methods.kill().send({from: accounts[0]})\n",
    "}\n",
    "\n",
    "doIt()"
   ]
  },
  {
   "cell_type": "code",
   "execution_count": 19,
   "id": "f44449b7",
   "metadata": {},
   "outputs": [
    {
     "name": "stdout",
     "output_type": "stream",
     "text": [
      "Account: 0xf88f0fF43C425Fa67B18a31D608d7C6F925b397e\n",
      "Balance before: 999997516780000000000\n",
      "--- new C1 ---\n",
      "c1 address by 'new': 0xaA880e5CdC9462Aa8261917D2aF6Ef5462a2812F\n",
      "--- set the above deployed address of C1 ---\n",
      "get7(): 7\n",
      "c1 address by 'setC1()': 0x3976EE2383A4cA2Ab2B95618b56C9f1816510591\n",
      "7\n",
      "Balance after: 999997403928000000000\n",
      "Balance diff: 112852000047104\n",
      "222\n"
     ]
    }
   ],
   "source": [
    "!node src/C2Use.js"
   ]
  },
  {
   "cell_type": "code",
   "execution_count": 20,
   "id": "ad9688c1",
   "metadata": {},
   "outputs": [
    {
     "name": "stdout",
     "output_type": "stream",
     "text": [
      "Account: 0xf88f0fF43C425Fa67B18a31D608d7C6F925b397e\n",
      "Balance before: 999997403928000000000\n",
      "--- new C1 ---\n",
      "c1 address by 'new': 0x3976EE2383A4cA2Ab2B95618b56C9f1816510591\n",
      "--- set the above deployed address of C1 ---\n",
      "get7(): 7\n",
      "c1 address by 'setC1()': 0x3976EE2383A4cA2Ab2B95618b56C9f1816510591\n",
      "7\n",
      "Balance after: 999997296676000000000\n",
      "Balance diff: 107251999965184\n",
      "222\n"
     ]
    }
   ],
   "source": [
    "!node src/C2Use.js"
   ]
  },
  {
   "cell_type": "markdown",
   "id": "ec873c4f",
   "metadata": {},
   "source": [
    "## SquareArea"
   ]
  },
  {
   "cell_type": "code",
   "execution_count": 27,
   "id": "79797877",
   "metadata": {},
   "outputs": [
    {
     "name": "stdout",
     "output_type": "stream",
     "text": [
      "Writing src/SquareArea.sol\n"
     ]
    }
   ],
   "source": [
    "%%writefile src/SquareArea.sol\n",
    "//SPDX-License-Identifier: GPL-3.0-or-later\n",
    "pragma solidity ^0.8.0;\n",
    "//pragma solidity ^0.6.0;\n",
    "//pragma solidity 0.4.21;\n",
    "\n",
    "contract Square {\n",
    "    uint128 length;\n",
    "    function getLength() public view returns(uint128) {\n",
    "        return length;\n",
    "    }\n",
    "    function setLength(uint128 _length) public {\n",
    "        length=_length;\n",
    "    }\n",
    "    function getDegree() public pure returns(uint128) {\n",
    "        return 90;\n",
    "    }\n",
    "}\n",
    "\n",
    "contract Area {\n",
    "    Square s;\n",
    "    address owner;\n",
    "    //event PrintLog(uint128);\n",
    "    //function Area() public {\n",
    "    constructor() { //constructor() public {\n",
    "        s = new Square();\n",
    "        owner = msg.sender;\n",
    "    }\n",
    "    function changeSquare(address _addressOfSquare) public {\n",
    "        s=Square(_addressOfSquare);\n",
    "    }\n",
    "    function calcArea() view public returns(uint128) {\n",
    "        uint128 length = s.getLength();\n",
    "        uint128 area = length*length;\n",
    "        //emit PrintLog(area);\n",
    "        return area;\n",
    "    }\n",
    "    function setLength(uint128 _length) public {\n",
    "        s.setLength(_length);\n",
    "    }\n",
    "    function getLength() public view returns(uint128) {\n",
    "        return s.getLength();\n",
    "    }\n",
    "    function getDegree() public view returns(uint128) {\n",
    "        return s.getDegree();\n",
    "    }\n",
    "    function getAddressOfSquare() public view returns(address) {\n",
    "        return address(s);\n",
    "    }\n",
    "}"
   ]
  },
  {
   "cell_type": "code",
   "execution_count": 28,
   "id": "95288917",
   "metadata": {},
   "outputs": [],
   "source": [
    "!solc-windows.exe src/SquareArea.sol --combined-json abi,bin > src/SquareArea.json"
   ]
  },
  {
   "cell_type": "code",
   "execution_count": 29,
   "id": "5351fe71",
   "metadata": {},
   "outputs": [
    {
     "name": "stdout",
     "output_type": "stream",
     "text": [
      "{\"contracts\":{\"src/SquareArea.sol:Area\":{\"abi\":[{\"inputs\":[],\"stateMutability\":\"nonpayable\",\"type\":\"constructor\"},{\"inputs\":[],\"name\":\"calcArea\",\"outputs\":[{\"internalType\":\"uint128\",\"name\":\"\",\"type\":\"uint128\"}],\"stateMutability\":\"view\",\"type\":\"function\"},{\"inputs\":[{\"internalType\":\"address\",\"name\":\"_addressOfSquare\",\"type\":\"address\"}],\"name\":\"changeSquare\",\"outputs\":[],\"stateMutability\":\"nonpayable\",\"type\":\"function\"},{\"inputs\":[],\"name\":\"getAddressOfSquare\",\"outputs\":[{\"internalType\":\"address\",\"name\":\"\",\"type\":\"address\"}],\"stateMutability\":\"view\",\"type\":\"function\"},{\"inputs\":[],\"name\":\"getDegree\",\"outputs\":[{\"internalType\":\"uint128\",\"name\":\"\",\"type\":\"uint128\"}],\"stateMutability\":\"view\",\"type\":\"function\"},{\"inputs\":[],\"name\":\"getLength\",\"outputs\":[{\"internalType\":\"uint128\",\"name\":\"\",\"type\":\"uint128\"}],\"stateMutability\":\"view\",\"type\":\"function\"},{\"inputs\":[{\"internalType\":\"uint128\",\"name\":\"_length\",\"type\":\"uint128\"}],\"name\":\"setLength\",\"outputs\":[],\"stateMutability\":\"nonpayable\",\"type\":\"function\"}],\"bin\":\"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\"},\"src/SquareArea.sol:Square\":{\"abi\":[{\"inputs\":[],\"name\":\"getDegree\",\"outputs\":[{\"internalType\":\"uint128\",\"name\":\"\",\"type\":\"uint128\"}],\"stateMutability\":\"pure\",\"type\":\"function\"},{\"inputs\":[],\"name\":\"getLength\",\"outputs\":[{\"internalType\":\"uint128\",\"name\":\"\",\"type\":\"uint128\"}],\"stateMutability\":\"view\",\"type\":\"function\"},{\"inputs\":[{\"internalType\":\"uint128\",\"name\":\"_length\",\"type\":\"uint128\"}],\"name\":\"setLength\",\"outputs\":[],\"stateMutability\":\"nonpayable\",\"type\":\"function\"}],\"bin\":\"608060405234801561001057600080fd5b506101e1806100206000396000f3fe608060405234801561001057600080fd5b50600436106100415760003560e01c80632b261317146100465780633d7c610c14610064578063be1c766b14610080575b600080fd5b61004e61009e565b60405161005b9190610158565b60405180910390f35b61007e6004803603810190610079919061011c565b6100a7565b005b6100886100e2565b6040516100959190610158565b60405180910390f35b6000605a905090565b806000806101000a8154816fffffffffffffffffffffffffffffffff02191690836fffffffffffffffffffffffffffffffff16021790555050565b60008060009054906101000a90046fffffffffffffffffffffffffffffffff16905090565b60008135905061011681610194565b92915050565b6000602082840312156101325761013161018f565b5b600061014084828501610107565b91505092915050565b61015281610173565b82525050565b600060208201905061016d6000830184610149565b92915050565b60006fffffffffffffffffffffffffffffffff82169050919050565b600080fd5b61019d81610173565b81146101a857600080fd5b5056fea26469706673582212200c37032020e4ff78e10e656a618b63ecc01662b61c8255b76a1ec14f6fd91b7d64736f6c63430008070033\"}},\"version\":\"0.8.7+commit.e28d00a7.Windows.msvc\"}\n"
     ]
    }
   ],
   "source": [
    "!type src\\SquareArea.json"
   ]
  },
  {
   "cell_type": "code",
   "execution_count": 30,
   "id": "f6f182e4",
   "metadata": {},
   "outputs": [
    {
     "name": "stdout",
     "output_type": "stream",
     "text": [
      "Writing src/SquareAreaDeploy.js\n"
     ]
    }
   ],
   "source": [
    "%%writefile src/SquareAreaDeploy.js\n",
    "var Web3 = require('web3');\n",
    "var web3 = new Web3(new Web3.providers.HttpProvider(\"http://localhost:8345\"));\n",
    "var fs=require('fs');\n",
    "var _str = fs.readFileSync(\"src/SquareArea.json\");\n",
    "var _json=JSON.parse(_str)\n",
    "//var _abiArray = JSON.parse(_json.contracts.sHello2.abi);\n",
    "//var _abiArray = JSON.parse(_json.contracts[\"src/SquareArea.sol:Area\"].abi);\n",
    "var _abiArray = _json.contracts[\"src/SquareArea.sol:Area\"].abi;\n",
    "//var _bin = _json.contracts.sHello2.bin;\n",
    "var _bin = \"0x\" + _json.contracts[\"src/SquareArea.sol:Area\"].bin;\n",
    "\n",
    "//unlock the account with a password provided\n",
    "//web3.personal.unlockAccount(web3.eth.accounts[0],'password');\n",
    "async function deploy() {\n",
    "    const accounts = await web3.eth.getAccounts();\n",
    "    console.log(\"Deploying the contract from \" + accounts[0]);\n",
    "    var deployed = await new web3.eth.Contract(_abiArray)\n",
    "        .deploy({data: _bin})\n",
    "        .send({from: accounts[0], gas: 1000000})\n",
    "        .on('transactionHash', function(hash){\n",
    "            console.log(\">>> transactionHash\"+hash);\n",
    "        })\n",
    "        .on('receipt', function(receipt){\n",
    "            console.log(\">>> RECEPIT hash: \" + receipt.transactionHash + \"\\n>>> address:\" + receipt.contractAddress);\n",
    "        })\n",
    "        .on('error', function(error, receipt) {\n",
    "            console.log(\">>> ERROR \"+error);\n",
    "        });\n",
    "        //.then(function(newContractInstance){\n",
    "        //    console.log(newContractInstance.options.address)\n",
    "        //});\n",
    "    console.log(\"---> The contract deployed to: \" + deployed.options.address)\n",
    "}\n",
    "\n",
    "deploy()"
   ]
  },
  {
   "cell_type": "code",
   "execution_count": 31,
   "id": "c61cfb73",
   "metadata": {},
   "outputs": [
    {
     "name": "stdout",
     "output_type": "stream",
     "text": [
      "Deploying the contract from 0xf88f0fF43C425Fa67B18a31D608d7C6F925b397e\n",
      ">>> transactionHash0x89e62387068f712574c3318ae73ed3f322250ab3f5f4e8b060fd4861b2905382\n",
      ">>> RECEPIT hash: 0x89e62387068f712574c3318ae73ed3f322250ab3f5f4e8b060fd4861b2905382\n",
      ">>> address:0x0dE2F94898064091Ae3e9a285A095EB4F6ec3D4B\n",
      "---> The contract deployed to: 0x0dE2F94898064091Ae3e9a285A095EB4F6ec3D4B\n"
     ]
    }
   ],
   "source": [
    "!node src/SquareAreaDeploy.js"
   ]
  },
  {
   "cell_type": "code",
   "execution_count": 42,
   "id": "b8820fd0",
   "metadata": {
    "scrolled": false
   },
   "outputs": [
    {
     "name": "stdout",
     "output_type": "stream",
     "text": [
      "Overwriting src/SquareAreaUse.js\n"
     ]
    }
   ],
   "source": [
    "%%writefile src/SquareAreaUse.js\n",
    "var Web3 = require('web3');\n",
    "//var web3 = new Web3(new Web3.providers.HttpProvider(\"http://117.16.44.45:8345\"));         //nok\n",
    "//var web3 = new Web3(new Web3.providers.WebsocketProvider(\"http://117.16.44.45:8345\"));  //ok\n",
    "var web3 = new Web3(new Web3.providers.WebsocketProvider(\"ws://localhost:8345\"));\n",
    "var fs=require('fs');\n",
    "var _str = fs.readFileSync(\"src/SquareArea.json\");\n",
    "var _json = JSON.parse(_str)\n",
    "//var _abiArray = JSON.parse(_json.contracts.sHello2.abi);\n",
    "//var _abiArray = JSON.parse(_json.contracts[\"src/SquareArea.sol:Area\"].abi);\n",
    "var _abiArray = _json.contracts[\"src/SquareArea.sol:Area\"].abi;\n",
    "\n",
    "async function doIt() {\n",
    "    var area = new web3.eth.Contract(_abiArray, \"0x0dE2F94898064091Ae3e9a285A095EB4F6ec3D4B\");\n",
    "    var speed;\n",
    "    const accounts = await web3.eth.getAccounts();\n",
    "    console.log(\"Account: \" + accounts[0]);\n",
    "    const balanceBefore = await web3.eth.getBalance(accounts[0]);\n",
    "    console.log(\"Balance before: \" + balanceBefore);\n",
    "    area.methods.getDegree().call().then(console.log);\n",
    "    await area.methods.setLength(9).send({from: accounts[0]});\n",
    "    area.methods.getLength().call().then(console.log);\n",
    "    //area.methods.calcArea().send({from: accounts[0]});\n",
    "    area.methods.calcArea().call().then(console.log);\n",
    "    //area.methods.getAddressOfSquare().call().then(function(address) {\n",
    "    //    console.log(\"Square Address: \" + address);\n",
    "    //});\n",
    "    const addr = await area.methods.getAddressOfSquare().call();\n",
    "    console.log(\"Square Address: \" + addr);\n",
    "    const balanceAfter = await web3.eth.getBalance(accounts[0]);\n",
    "    console.log(\"Balance after: \" + balanceAfter);\n",
    "    console.log(\"Balance diff: \" + (balanceBefore - balanceAfter));\n",
    "    process.exit(1); //force exit -> may terminate some functions (speedDownBy10, getSpeed)  \n",
    "}\n",
    "\n",
    "doIt()"
   ]
  },
  {
   "cell_type": "code",
   "execution_count": 43,
   "id": "d07ce909",
   "metadata": {
    "scrolled": true
   },
   "outputs": [
    {
     "name": "stdout",
     "output_type": "stream",
     "text": [
      "Account: 0xf88f0fF43C425Fa67B18a31D608d7C6F925b397e\n",
      "Balance before: 999994623128000000000\n",
      "90\n",
      "Square Address: 0x7A262daF562F4041f32027b12CdcA362F0465A8f\n",
      "9\n",
      "81\n",
      "Balance after: 999994564228000000000\n",
      "Balance diff: 58900000014336\n"
     ]
    }
   ],
   "source": [
    "!node src/SquareAreaUse.js"
   ]
  },
  {
   "cell_type": "code",
   "execution_count": 44,
   "id": "dcd16e83",
   "metadata": {},
   "outputs": [
    {
     "name": "stdout",
     "output_type": "stream",
     "text": [
      "Overwriting src/Square.sol\n"
     ]
    }
   ],
   "source": [
    "%%writefile src/Square.sol\n",
    "//SPDX-License-Identifier: GPL-3.0-or-later\n",
    "pragma solidity ^0.8.0;\n",
    "//pragma solidity ^0.6.0;\n",
    "//pragma solidity 0.4.21;\n",
    "\n",
    "contract Square {\n",
    "    uint128 length;\n",
    "    function getLength() public view returns(uint128) {\n",
    "        return length;\n",
    "    }\n",
    "    function setLength(uint128 _length) public {\n",
    "        length=_length;\n",
    "    }\n",
    "    function getDegree() public pure returns(uint128) {\n",
    "        return 90;\n",
    "    }\n",
    "}"
   ]
  },
  {
   "cell_type": "code",
   "execution_count": 45,
   "id": "69a37e97",
   "metadata": {},
   "outputs": [
    {
     "name": "stdout",
     "output_type": "stream",
     "text": [
      "Overwriting src/Area.sol\n"
     ]
    }
   ],
   "source": [
    "%%writefile src/Area.sol\n",
    "//SPDX-License-Identifier: GPL-3.0-or-later\n",
    "pragma solidity ^0.8.0;\n",
    "//pragma solidity ^0.6.0;\n",
    "//pragma solidity 0.4.21;\n",
    "\n",
    "import \"./Square.sol\";\n",
    "\n",
    "contract Area {\n",
    "    Square s;\n",
    "    address owner;\n",
    "    //event PrintLog(uint128);\n",
    "    //function Area() public {  //0.4.21\n",
    "    constructor() { //constructor() public {\n",
    "        s = new Square();\n",
    "        owner = msg.sender;\n",
    "    }\n",
    "    function changeSquare(address _addressOfSquare) public {\n",
    "        s=Square(_addressOfSquare);\n",
    "    }\n",
    "    function calcArea() view public returns(uint128) {\n",
    "        uint128 length = s.getLength();\n",
    "        uint128 area = length*length;\n",
    "        //emit PrintLog(area);\n",
    "        return area;\n",
    "    }\n",
    "    function setLength(uint128 _length) public {\n",
    "        s.setLength(_length);\n",
    "    }\n",
    "    function getLength() public view returns(uint128) {\n",
    "        return s.getLength();\n",
    "    }\n",
    "    function getDegree() public view returns(uint128) {\n",
    "        return s.getDegree();\n",
    "    }\n",
    "    function getAddressOfSquare() public view returns(address) {\n",
    "        return address(s);\n",
    "    }\n",
    "}"
   ]
  },
  {
   "cell_type": "code",
   "execution_count": 46,
   "id": "403858a7",
   "metadata": {},
   "outputs": [],
   "source": [
    "!solc-windows.exe src/Area.sol --combined-json abi,bin > src/Area.json"
   ]
  },
  {
   "cell_type": "code",
   "execution_count": 47,
   "id": "1945ec89",
   "metadata": {},
   "outputs": [
    {
     "name": "stdout",
     "output_type": "stream",
     "text": [
      "{\"contracts\":{\"src/Area.sol:Area\":{\"abi\":[{\"inputs\":[],\"stateMutability\":\"nonpayable\",\"type\":\"constructor\"},{\"inputs\":[],\"name\":\"calcArea\",\"outputs\":[{\"internalType\":\"uint128\",\"name\":\"\",\"type\":\"uint128\"}],\"stateMutability\":\"view\",\"type\":\"function\"},{\"inputs\":[{\"internalType\":\"address\",\"name\":\"_addressOfSquare\",\"type\":\"address\"}],\"name\":\"changeSquare\",\"outputs\":[],\"stateMutability\":\"nonpayable\",\"type\":\"function\"},{\"inputs\":[],\"name\":\"getAddressOfSquare\",\"outputs\":[{\"internalType\":\"address\",\"name\":\"\",\"type\":\"address\"}],\"stateMutability\":\"view\",\"type\":\"function\"},{\"inputs\":[],\"name\":\"getDegree\",\"outputs\":[{\"internalType\":\"uint128\",\"name\":\"\",\"type\":\"uint128\"}],\"stateMutability\":\"view\",\"type\":\"function\"},{\"inputs\":[],\"name\":\"getLength\",\"outputs\":[{\"internalType\":\"uint128\",\"name\":\"\",\"type\":\"uint128\"}],\"stateMutability\":\"view\",\"type\":\"function\"},{\"inputs\":[{\"internalType\":\"uint128\",\"name\":\"_length\",\"type\":\"uint128\"}],\"name\":\"setLength\",\"outputs\":[],\"stateMutability\":\"nonpayable\",\"type\":\"function\"}],\"bin\":\"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\"},\"src/Square.sol:Square\":{\"abi\":[{\"inputs\":[],\"name\":\"getDegree\",\"outputs\":[{\"internalType\":\"uint128\",\"name\":\"\",\"type\":\"uint128\"}],\"stateMutability\":\"pure\",\"type\":\"function\"},{\"inputs\":[],\"name\":\"getLength\",\"outputs\":[{\"internalType\":\"uint128\",\"name\":\"\",\"type\":\"uint128\"}],\"stateMutability\":\"view\",\"type\":\"function\"},{\"inputs\":[{\"internalType\":\"uint128\",\"name\":\"_length\",\"type\":\"uint128\"}],\"name\":\"setLength\",\"outputs\":[],\"stateMutability\":\"nonpayable\",\"type\":\"function\"}],\"bin\":\"608060405234801561001057600080fd5b506101e1806100206000396000f3fe608060405234801561001057600080fd5b50600436106100415760003560e01c80632b261317146100465780633d7c610c14610064578063be1c766b14610080575b600080fd5b61004e61009e565b60405161005b9190610158565b60405180910390f35b61007e6004803603810190610079919061011c565b6100a7565b005b6100886100e2565b6040516100959190610158565b60405180910390f35b6000605a905090565b806000806101000a8154816fffffffffffffffffffffffffffffffff02191690836fffffffffffffffffffffffffffffffff16021790555050565b60008060009054906101000a90046fffffffffffffffffffffffffffffffff16905090565b60008135905061011681610194565b92915050565b6000602082840312156101325761013161018f565b5b600061014084828501610107565b91505092915050565b61015281610173565b82525050565b600060208201905061016d6000830184610149565b92915050565b60006fffffffffffffffffffffffffffffffff82169050919050565b600080fd5b61019d81610173565b81146101a857600080fd5b5056fea264697066735822122080edc6e6bb5895a60954d1ba348b96ae520434c409cf9ff11d2b2bbd7a85a9de64736f6c63430008070033\"}},\"version\":\"0.8.7+commit.e28d00a7.Windows.msvc\"}\n"
     ]
    }
   ],
   "source": [
    "!type src\\Area.json"
   ]
  },
  {
   "cell_type": "code",
   "execution_count": 48,
   "id": "c1043ec0",
   "metadata": {},
   "outputs": [
    {
     "name": "stdout",
     "output_type": "stream",
     "text": [
      "Overwriting src/AreaDeploy.js\n"
     ]
    }
   ],
   "source": [
    "%%writefile src/AreaDeploy.js\n",
    "var Web3 = require('web3');\n",
    "var web3 = new Web3(new Web3.providers.HttpProvider(\"http://localhost:8345\"));\n",
    "var fs = require('fs');\n",
    "var _str = fs.readFileSync(\"src/Area.json\");\n",
    "var _json = JSON.parse(_str)\n",
    "//var _abiArray = JSON.parse(_json.contracts.sHello2.abi);\n",
    "//var _abiArray = JSON.parse(_json.contracts[\"src/Area.sol:Area\"].abi);\n",
    "var _abiArray = _json.contracts[\"src/Area.sol:Area\"].abi;\n",
    "//var _bin = _json.contracts.sHello2.bin;\n",
    "var _bin = \"0x\" + _json.contracts[\"src/Area.sol:Area\"].bin;\n",
    "\n",
    "//unlock the account with a password provided\n",
    "//web3.personal.unlockAccount(web3.eth.accounts[0],'password');\n",
    "async function deploy() {\n",
    "    const accounts = await web3.eth.getAccounts();\n",
    "    console.log(\"Deploying the contract from \" + accounts[0]);\n",
    "    var deployed = await new web3.eth.Contract(_abiArray)\n",
    "        .deploy({data: _bin})\n",
    "        .send({from: accounts[0], gas: 1000000}, function(err, transactionHash) {\n",
    "            if(!err) console.log(\"hash: \" + transactionHash); \n",
    "        })\n",
    "        //.then(function(newContractInstance){\n",
    "        //    console.log(newContractInstance.options.address)\n",
    "        //});\n",
    "    console.log(\"---> The contract deployed to: \" + deployed.options.address)\n",
    "}\n",
    "\n",
    "deploy()"
   ]
  },
  {
   "cell_type": "code",
   "execution_count": 49,
   "id": "f11a37ee",
   "metadata": {},
   "outputs": [
    {
     "name": "stdout",
     "output_type": "stream",
     "text": [
      "Deploying the contract from 0xf88f0fF43C425Fa67B18a31D608d7C6F925b397e\n",
      "hash: 0x919f4f6482aee5a276166e66658373db3af05beef34a7f0a5a66951d22864747\n",
      "---> The contract deployed to: 0xaCf37c2Ff04c20f62DC48c4a67B0B15F46390468\n"
     ]
    }
   ],
   "source": [
    "!node src/AreaDeploy.js"
   ]
  },
  {
   "cell_type": "code",
   "execution_count": 50,
   "id": "1adfed59",
   "metadata": {},
   "outputs": [
    {
     "name": "stdout",
     "output_type": "stream",
     "text": [
      "Writing src/AreaUse.js\n"
     ]
    }
   ],
   "source": [
    "%%writefile src/AreaUse.js\n",
    "var Web3=require('web3');\n",
    "var web3=new Web3(new Web3.providers.HttpProvider(\"http://localhost:8345\"));       //nok\n",
    "//var web3 = new Web3(new Web3.providers.WebsocketProvider(\"http://117.16.44.45:8345\"));  //ok\n",
    "//var web3 = new Web3(new Web3.providers.WebsocketProvider(\"ws://117.16.44.45:8345\"));  //ok\n",
    "var fs=require('fs');\n",
    "var _str = fs.readFileSync(\"src/Area.json\");\n",
    "var _json = JSON.parse(_str)\n",
    "//var _abiArray = JSON.parse(_json.contracts.Area.abi);\n",
    "//var _abiArray = JSON.parse(_json.contracts[\"src/Area.sol:Area\"].abi);\n",
    "var _abiArray = _json.contracts[\"src/Area.sol:Area\"].abi;\n",
    "\n",
    "async function doIt() {\n",
    "    var hello = new web3.eth.Contract(_abiArray, \"0xaCf37c2Ff04c20f62DC48c4a67B0B15F46390468\");\n",
    "    const accounts = await web3.eth.getAccounts();\n",
    "    console.log(\"Account: \" + accounts[0]);\n",
    "    const balanceBefore = await web3.eth.getBalance(accounts[0]);\n",
    "    console.log(\"Balance before: \" + balanceBefore);\n",
    "    // do by the Square address as set in the constructor\n",
    "    hello.methods.getAddressOfSquare().call(function(err, c1addr) {\n",
    "        if(!err) console.log(\">> Square address by 'new': \"+c1addr);\n",
    "    });\n",
    "    await hello.methods.setLength(10).send({from: accounts[0]});\n",
    "    hello.methods.getLength().call().then(console.log);\n",
    "    hello.methods.calcArea().call().then(console.log);\n",
    "    hello.methods.getDegree().call().then(console.log);\n",
    "    hello.methods.getAddressOfSquare().call().then(console.log);\n",
    "    //redo by the Square address as changed by changeSquare()\n",
    "    await hello.methods.changeSquare('0x7A262daF562F4041f32027b12CdcA362F0465A8f').send({from: accounts[0]});\n",
    "    hello.methods.getAddressOfSquare().call(function(err, c1addr) {\n",
    "        if(!err) console.log(\">> Square address by 'changeSquare: \"+c1addr);\n",
    "    });\n",
    "    await hello.methods.setLength(10).send({from: accounts[0]});\n",
    "    hello.methods.getLength().call().then(console.log);\n",
    "    hello.methods.calcArea().call().then(console.log);\n",
    "    hello.methods.getDegree().call().then(console.log);\n",
    "    hello.methods.getAddressOfSquare().call().then(console.log);\n",
    "    const balanceAfter = await web3.eth.getBalance(accounts[0]);\n",
    "    console.log(\"Balance after: \" + balanceAfter);\n",
    "    console.log(\"Balance diff: \" + (balanceBefore - balanceAfter));\n",
    "}\n",
    "\n",
    "doIt()"
   ]
  },
  {
   "cell_type": "code",
   "execution_count": 51,
   "id": "55f8f6cd",
   "metadata": {},
   "outputs": [
    {
     "name": "stdout",
     "output_type": "stream",
     "text": [
      "Account: 0xf88f0fF43C425Fa67B18a31D608d7C6F925b397e\n",
      "Balance before: 999993386358000000000\n",
      ">> Square address by 'new': 0xCACeD09B5D5c4F265eBDA0b04c40b8a60D043BDd\n",
      "0xCACeD09B5D5c4F265eBDA0b04c40b8a60D043BDd\n",
      "90\n",
      "10\n",
      "100\n",
      ">> Square address by 'changeSquare: 0x7A262daF562F4041f32027b12CdcA362F0465A8f\n",
      "Balance after: 999993169074000000000\n",
      "Balance diff: 217284000088064\n",
      "0x7A262daF562F4041f32027b12CdcA362F0465A8f\n",
      "90\n",
      "10\n",
      "100\n"
     ]
    }
   ],
   "source": [
    "!node src/AreaUse.js"
   ]
  }
 ],
 "metadata": {
  "kernelspec": {
   "display_name": "Python 3 (ipykernel)",
   "language": "python",
   "name": "python3"
  },
  "language_info": {
   "codemirror_mode": {
    "name": "ipython",
    "version": 3
   },
   "file_extension": ".py",
   "mimetype": "text/x-python",
   "name": "python",
   "nbconvert_exporter": "python",
   "pygments_lexer": "ipython3",
   "version": "3.9.7"
  }
 },
 "nbformat": 4,
 "nbformat_minor": 5
}
