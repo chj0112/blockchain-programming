{
 "cells": [
  {
   "cell_type": "code",
   "execution_count": 1,
   "id": "d43f1969",
   "metadata": {},
   "outputs": [
    {
     "name": "stdout",
     "output_type": "stream",
     "text": [
      "Writing src/MyToken.sol\n"
     ]
    }
   ],
   "source": [
    "%%writefile src/MyToken.sol\n",
    "// SPDX-License-Identifier: MIT\n",
    "pragma solidity ^0.8.0;\n",
    "\n",
    "import \"@openzeppelin/contracts/token/ERC20/ERC20.sol\";\n",
    "\n",
    "contract MyToken is ERC20 {\n",
    "    constructor() ERC20(\"MyToken\", \"JSL\"){\n",
    "        _mint(msg.sender, 1000000000000000000000000);\n",
    "        //_mint(msg.sender, 1000000*decimals());\n",
    "    }\n",
    "}"
   ]
  },
  {
   "cell_type": "code",
   "execution_count": 2,
   "id": "e4cdc5a2",
   "metadata": {},
   "outputs": [
    {
     "name": "stderr",
     "output_type": "stream",
     "text": [
      "Error: Source \"@openzeppelin/contracts/token/ERC20/ERC20.sol\" not found: File outside of allowed directories.\n",
      " --> src/MyToken.sol:4:1:\n",
      "  |\n",
      "4 | import \"@openzeppelin/contracts/token/ERC20/ERC20.sol\";\n",
      "  | ^^^^^^^^^^^^^^^^^^^^^^^^^^^^^^^^^^^^^^^^^^^^^^^^^^^^^^^\n",
      "\n"
     ]
    }
   ],
   "source": [
    "!solc-windows.exe --optimize --combined-json abi,bin src/MyToken.sol > src/MyToken.json"
   ]
  },
  {
   "cell_type": "markdown",
   "id": "6fed5745",
   "metadata": {},
   "source": [
    "@openzeppelin 없어서 오류가 난다\n",
    "\n",
    "디렉토리에서 \n",
    "```npm install @openzeppelin/contracts```\n",
    "로 @openzeppelin 가져옴\n",
    "\n",
    "@openzeppelin 경로 재지정"
   ]
  },
  {
   "cell_type": "code",
   "execution_count": 5,
   "id": "18b05189",
   "metadata": {},
   "outputs": [],
   "source": [
    "!solc-windows.exe @openzeppelin/=\"C:\\\\Users\\\\chohj\\\\Code\\\\201810811\\\\node_modules\\\\@openzeppelin\\\\\" --optimize --combined-json abi,bin src/MyToken.sol > src/MyToken.json"
   ]
  },
  {
   "cell_type": "code",
   "execution_count": 7,
   "id": "781a12a1",
   "metadata": {
    "scrolled": false
   },
   "outputs": [
    {
     "name": "stdout",
     "output_type": "stream",
     "text": [
      "{\"contracts\":{\"C://Users//chohj//Code//201810811//node_modules//@openzeppelin/contracts/token/ERC20/ERC20.sol:ERC20\":{\"abi\":[{\"inputs\":[{\"internalType\":\"string\",\"name\":\"name_\",\"type\":\"string\"},{\"internalType\":\"string\",\"name\":\"symbol_\",\"type\":\"string\"}],\"stateMutability\":\"nonpayable\",\"type\":\"constructor\"},{\"anonymous\":false,\"inputs\":[{\"indexed\":true,\"internalType\":\"address\",\"name\":\"owner\",\"type\":\"address\"},{\"indexed\":true,\"internalType\":\"address\",\"name\":\"spender\",\"type\":\"address\"},{\"indexed\":false,\"internalType\":\"uint256\",\"name\":\"value\",\"type\":\"uint256\"}],\"name\":\"Approval\",\"type\":\"event\"},{\"anonymous\":false,\"inputs\":[{\"indexed\":true,\"internalType\":\"address\",\"name\":\"from\",\"type\":\"address\"},{\"indexed\":true,\"internalType\":\"address\",\"name\":\"to\",\"type\":\"address\"},{\"indexed\":false,\"internalType\":\"uint256\",\"name\":\"value\",\"type\":\"uint256\"}],\"name\":\"Transfer\",\"type\":\"event\"},{\"inputs\":[{\"internalType\":\"address\",\"name\":\"owner\",\"type\":\"address\"},{\"internalType\":\"address\",\"name\":\"spender\",\"type\":\"address\"}],\"name\":\"allowance\",\"outputs\":[{\"internalType\":\"uint256\",\"name\":\"\",\"type\":\"uint256\"}],\"stateMutability\":\"view\",\"type\":\"function\"},{\"inputs\":[{\"internalType\":\"address\",\"name\":\"spender\",\"type\":\"address\"},{\"internalType\":\"uint256\",\"name\":\"amount\",\"type\":\"uint256\"}],\"name\":\"approve\",\"outputs\":[{\"internalType\":\"bool\",\"name\":\"\",\"type\":\"bool\"}],\"stateMutability\":\"nonpayable\",\"type\":\"function\"},{\"inputs\":[{\"internalType\":\"address\",\"name\":\"account\",\"type\":\"address\"}],\"name\":\"balanceOf\",\"outputs\":[{\"internalType\":\"uint256\",\"name\":\"\",\"type\":\"uint256\"}],\"stateMutability\":\"view\",\"type\":\"function\"},{\"inputs\":[],\"name\":\"decimals\",\"outputs\":[{\"internalType\":\"uint8\",\"name\":\"\",\"type\":\"uint8\"}],\"stateMutability\":\"view\",\"type\":\"function\"},{\"inputs\":[{\"internalType\":\"address\",\"name\":\"spender\",\"type\":\"address\"},{\"internalType\":\"uint256\",\"name\":\"subtractedValue\",\"type\":\"uint256\"}],\"name\":\"decreaseAllowance\",\"outputs\":[{\"internalType\":\"bool\",\"name\":\"\",\"type\":\"bool\"}],\"stateMutability\":\"nonpayable\",\"type\":\"function\"},{\"inputs\":[{\"internalType\":\"address\",\"name\":\"spender\",\"type\":\"address\"},{\"internalType\":\"uint256\",\"name\":\"addedValue\",\"type\":\"uint256\"}],\"name\":\"increaseAllowance\",\"outputs\":[{\"internalType\":\"bool\",\"name\":\"\",\"type\":\"bool\"}],\"stateMutability\":\"nonpayable\",\"type\":\"function\"},{\"inputs\":[],\"name\":\"name\",\"outputs\":[{\"internalType\":\"string\",\"name\":\"\",\"type\":\"string\"}],\"stateMutability\":\"view\",\"type\":\"function\"},{\"inputs\":[],\"name\":\"symbol\",\"outputs\":[{\"internalType\":\"string\",\"name\":\"\",\"type\":\"string\"}],\"stateMutability\":\"view\",\"type\":\"function\"},{\"inputs\":[],\"name\":\"totalSupply\",\"outputs\":[{\"internalType\":\"uint256\",\"name\":\"\",\"type\":\"uint256\"}],\"stateMutability\":\"view\",\"type\":\"function\"},{\"inputs\":[{\"internalType\":\"address\",\"name\":\"to\",\"type\":\"address\"},{\"internalType\":\"uint256\",\"name\":\"amount\",\"type\":\"uint256\"}],\"name\":\"transfer\",\"outputs\":[{\"internalType\":\"bool\",\"name\":\"\",\"type\":\"bool\"}],\"stateMutability\":\"nonpayable\",\"type\":\"function\"},{\"inputs\":[{\"internalType\":\"address\",\"name\":\"from\",\"type\":\"address\"},{\"internalType\":\"address\",\"name\":\"to\",\"type\":\"address\"},{\"internalType\":\"uint256\",\"name\":\"amount\",\"type\":\"uint256\"}],\"name\":\"transferFrom\",\"outputs\":[{\"internalType\":\"bool\",\"name\":\"\",\"type\":\"bool\"}],\"stateMutability\":\"nonpayable\",\"type\":\"function\"}],\"bin\":\"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\"},\"C://Users//chohj//Code//201810811//node_modules//@openzeppelin/contracts/token/ERC20/IERC20.sol:IERC20\":{\"abi\":[{\"anonymous\":false,\"inputs\":[{\"indexed\":true,\"internalType\":\"address\",\"name\":\"owner\",\"type\":\"address\"},{\"indexed\":true,\"internalType\":\"address\",\"name\":\"spender\",\"type\":\"address\"},{\"indexed\":false,\"internalType\":\"uint256\",\"name\":\"value\",\"type\":\"uint256\"}],\"name\":\"Approval\",\"type\":\"event\"},{\"anonymous\":false,\"inputs\":[{\"indexed\":true,\"internalType\":\"address\",\"name\":\"from\",\"type\":\"address\"},{\"indexed\":true,\"internalType\":\"address\",\"name\":\"to\",\"type\":\"address\"},{\"indexed\":false,\"internalType\":\"uint256\",\"name\":\"value\",\"type\":\"uint256\"}],\"name\":\"Transfer\",\"type\":\"event\"},{\"inputs\":[{\"internalType\":\"address\",\"name\":\"owner\",\"type\":\"address\"},{\"internalType\":\"address\",\"name\":\"spender\",\"type\":\"address\"}],\"name\":\"allowance\",\"outputs\":[{\"internalType\":\"uint256\",\"name\":\"\",\"type\":\"uint256\"}],\"stateMutability\":\"view\",\"type\":\"function\"},{\"inputs\":[{\"internalType\":\"address\",\"name\":\"spender\",\"type\":\"address\"},{\"internalType\":\"uint256\",\"name\":\"amount\",\"type\":\"uint256\"}],\"name\":\"approve\",\"outputs\":[{\"internalType\":\"bool\",\"name\":\"\",\"type\":\"bool\"}],\"stateMutability\":\"nonpayable\",\"type\":\"function\"},{\"inputs\":[{\"internalType\":\"address\",\"name\":\"account\",\"type\":\"address\"}],\"name\":\"balanceOf\",\"outputs\":[{\"internalType\":\"uint256\",\"name\":\"\",\"type\":\"uint256\"}],\"stateMutability\":\"view\",\"type\":\"function\"},{\"inputs\":[],\"name\":\"totalSupply\",\"outputs\":[{\"internalType\":\"uint256\",\"name\":\"\",\"type\":\"uint256\"}],\"stateMutability\":\"view\",\"type\":\"function\"},{\"inputs\":[{\"internalType\":\"address\",\"name\":\"to\",\"type\":\"address\"},{\"internalType\":\"uint256\",\"name\":\"amount\",\"type\":\"uint256\"}],\"name\":\"transfer\",\"outputs\":[{\"internalType\":\"bool\",\"name\":\"\",\"type\":\"bool\"}],\"stateMutability\":\"nonpayable\",\"type\":\"function\"},{\"inputs\":[{\"internalType\":\"address\",\"name\":\"from\",\"type\":\"address\"},{\"internalType\":\"address\",\"name\":\"to\",\"type\":\"address\"},{\"internalType\":\"uint256\",\"name\":\"amount\",\"type\":\"uint256\"}],\"name\":\"transferFrom\",\"outputs\":[{\"internalType\":\"bool\",\"name\":\"\",\"type\":\"bool\"}],\"stateMutability\":\"nonpayable\",\"type\":\"function\"}],\"bin\":\"\"},\"C://Users//chohj//Code//201810811//node_modules//@openzeppelin/contracts/token/ERC20/extensions/IERC20Metadata.sol:IERC20Metadata\":{\"abi\":[{\"anonymous\":false,\"inputs\":[{\"indexed\":true,\"internalType\":\"address\",\"name\":\"owner\",\"type\":\"address\"},{\"indexed\":true,\"internalType\":\"address\",\"name\":\"spender\",\"type\":\"address\"},{\"indexed\":false,\"internalType\":\"uint256\",\"name\":\"value\",\"type\":\"uint256\"}],\"name\":\"Approval\",\"type\":\"event\"},{\"anonymous\":false,\"inputs\":[{\"indexed\":true,\"internalType\":\"address\",\"name\":\"from\",\"type\":\"address\"},{\"indexed\":true,\"internalType\":\"address\",\"name\":\"to\",\"type\":\"address\"},{\"indexed\":false,\"internalType\":\"uint256\",\"name\":\"value\",\"type\":\"uint256\"}],\"name\":\"Transfer\",\"type\":\"event\"},{\"inputs\":[{\"internalType\":\"address\",\"name\":\"owner\",\"type\":\"address\"},{\"internalType\":\"address\",\"name\":\"spender\",\"type\":\"address\"}],\"name\":\"allowance\",\"outputs\":[{\"internalType\":\"uint256\",\"name\":\"\",\"type\":\"uint256\"}],\"stateMutability\":\"view\",\"type\":\"function\"},{\"inputs\":[{\"internalType\":\"address\",\"name\":\"spender\",\"type\":\"address\"},{\"internalType\":\"uint256\",\"name\":\"amount\",\"type\":\"uint256\"}],\"name\":\"approve\",\"outputs\":[{\"internalType\":\"bool\",\"name\":\"\",\"type\":\"bool\"}],\"stateMutability\":\"nonpayable\",\"type\":\"function\"},{\"inputs\":[{\"internalType\":\"address\",\"name\":\"account\",\"type\":\"address\"}],\"name\":\"balanceOf\",\"outputs\":[{\"internalType\":\"uint256\",\"name\":\"\",\"type\":\"uint256\"}],\"stateMutability\":\"view\",\"type\":\"function\"},{\"inputs\":[],\"name\":\"decimals\",\"outputs\":[{\"internalType\":\"uint8\",\"name\":\"\",\"type\":\"uint8\"}],\"stateMutability\":\"view\",\"type\":\"function\"},{\"inputs\":[],\"name\":\"name\",\"outputs\":[{\"internalType\":\"string\",\"name\":\"\",\"type\":\"string\"}],\"stateMutability\":\"view\",\"type\":\"function\"},{\"inputs\":[],\"name\":\"symbol\",\"outputs\":[{\"internalType\":\"string\",\"name\":\"\",\"type\":\"string\"}],\"stateMutability\":\"view\",\"type\":\"function\"},{\"inputs\":[],\"name\":\"totalSupply\",\"outputs\":[{\"internalType\":\"uint256\",\"name\":\"\",\"type\":\"uint256\"}],\"stateMutability\":\"view\",\"type\":\"function\"},{\"inputs\":[{\"internalType\":\"address\",\"name\":\"to\",\"type\":\"address\"},{\"internalType\":\"uint256\",\"name\":\"amount\",\"type\":\"uint256\"}],\"name\":\"transfer\",\"outputs\":[{\"internalType\":\"bool\",\"name\":\"\",\"type\":\"bool\"}],\"stateMutability\":\"nonpayable\",\"type\":\"function\"},{\"inputs\":[{\"internalType\":\"address\",\"name\":\"from\",\"type\":\"address\"},{\"internalType\":\"address\",\"name\":\"to\",\"type\":\"address\"},{\"internalType\":\"uint256\",\"name\":\"amount\",\"type\":\"uint256\"}],\"name\":\"transferFrom\",\"outputs\":[{\"internalType\":\"bool\",\"name\":\"\",\"type\":\"bool\"}],\"stateMutability\":\"nonpayable\",\"type\":\"function\"}],\"bin\":\"\"},\"C://Users//chohj//Code//201810811//node_modules//@openzeppelin/contracts/utils/Context.sol:Context\":{\"abi\":[],\"bin\":\"\"},\"src/MyToken.sol:MyToken\":{\"abi\":[{\"inputs\":[],\"stateMutability\":\"nonpayable\",\"type\":\"constructor\"},{\"anonymous\":false,\"inputs\":[{\"indexed\":true,\"internalType\":\"address\",\"name\":\"owner\",\"type\":\"address\"},{\"indexed\":true,\"internalType\":\"address\",\"name\":\"spender\",\"type\":\"address\"},{\"indexed\":false,\"internalType\":\"uint256\",\"name\":\"value\",\"type\":\"uint256\"}],\"name\":\"Approval\",\"type\":\"event\"},{\"anonymous\":false,\"inputs\":[{\"indexed\":true,\"internalType\":\"address\",\"name\":\"from\",\"type\":\"address\"},{\"indexed\":true,\"internalType\":\"address\",\"name\":\"to\",\"type\":\"address\"},{\"indexed\":false,\"internalType\":\"uint256\",\"name\":\"value\",\"type\":\"uint256\"}],\"name\":\"Transfer\",\"type\":\"event\"},{\"inputs\":[{\"internalType\":\"address\",\"name\":\"owner\",\"type\":\"address\"},{\"internalType\":\"address\",\"name\":\"spender\",\"type\":\"address\"}],\"name\":\"allowance\",\"outputs\":[{\"internalType\":\"uint256\",\"name\":\"\",\"type\":\"uint256\"}],\"stateMutability\":\"view\",\"type\":\"function\"},{\"inputs\":[{\"internalType\":\"address\",\"name\":\"spender\",\"type\":\"address\"},{\"internalType\":\"uint256\",\"name\":\"amount\",\"type\":\"uint256\"}],\"name\":\"approve\",\"outputs\":[{\"internalType\":\"bool\",\"name\":\"\",\"type\":\"bool\"}],\"stateMutability\":\"nonpayable\",\"type\":\"function\"},{\"inputs\":[{\"internalType\":\"address\",\"name\":\"account\",\"type\":\"address\"}],\"name\":\"balanceOf\",\"outputs\":[{\"internalType\":\"uint256\",\"name\":\"\",\"type\":\"uint256\"}],\"stateMutability\":\"view\",\"type\":\"function\"},{\"inputs\":[],\"name\":\"decimals\",\"outputs\":[{\"internalType\":\"uint8\",\"name\":\"\",\"type\":\"uint8\"}],\"stateMutability\":\"view\",\"type\":\"function\"},{\"inputs\":[{\"internalType\":\"address\",\"name\":\"spender\",\"type\":\"address\"},{\"internalType\":\"uint256\",\"name\":\"subtractedValue\",\"type\":\"uint256\"}],\"name\":\"decreaseAllowance\",\"outputs\":[{\"internalType\":\"bool\",\"name\":\"\",\"type\":\"bool\"}],\"stateMutability\":\"nonpayable\",\"type\":\"function\"},{\"inputs\":[{\"internalType\":\"address\",\"name\":\"spender\",\"type\":\"address\"},{\"internalType\":\"uint256\",\"name\":\"addedValue\",\"type\":\"uint256\"}],\"name\":\"increaseAllowance\",\"outputs\":[{\"internalType\":\"bool\",\"name\":\"\",\"type\":\"bool\"}],\"stateMutability\":\"nonpayable\",\"type\":\"function\"},{\"inputs\":[],\"name\":\"name\",\"outputs\":[{\"internalType\":\"string\",\"name\":\"\",\"type\":\"string\"}],\"stateMutability\":\"view\",\"type\":\"function\"},{\"inputs\":[],\"name\":\"symbol\",\"outputs\":[{\"internalType\":\"string\",\"name\":\"\",\"type\":\"string\"}],\"stateMutability\":\"view\",\"type\":\"function\"},{\"inputs\":[],\"name\":\"totalSupply\",\"outputs\":[{\"internalType\":\"uint256\",\"name\":\"\",\"type\":\"uint256\"}],\"stateMutability\":\"view\",\"type\":\"function\"},{\"inputs\":[{\"internalType\":\"address\",\"name\":\"to\",\"type\":\"address\"},{\"internalType\":\"uint256\",\"name\":\"amount\",\"type\":\"uint256\"}],\"name\":\"transfer\",\"outputs\":[{\"internalType\":\"bool\",\"name\":\"\",\"type\":\"bool\"}],\"stateMutability\":\"nonpayable\",\"type\":\"function\"},{\"inputs\":[{\"internalType\":\"address\",\"name\":\"from\",\"type\":\"address\"},{\"internalType\":\"address\",\"name\":\"to\",\"type\":\"address\"},{\"internalType\":\"uint256\",\"name\":\"amount\",\"type\":\"uint256\"}],\"name\":\"transferFrom\",\"outputs\":[{\"internalType\":\"bool\",\"name\":\"\",\"type\":\"bool\"}],\"stateMutability\":\"nonpayable\",\"type\":\"function\"}],\"bin\":\"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\"}},\"version\":\"0.8.7+commit.e28d00a7.Windows.msvc\"}\n"
     ]
    }
   ],
   "source": [
    "!type src\\MyToken.json"
   ]
  },
  {
   "cell_type": "code",
   "execution_count": 8,
   "id": "5bb77d95",
   "metadata": {},
   "outputs": [
    {
     "name": "stdout",
     "output_type": "stream",
     "text": [
      "Writing src/MyTokenTest.js\n"
     ]
    }
   ],
   "source": [
    "%%writefile src/MyTokenTest.js\n",
    "var _abiJson = require('./MyToken.json');\n",
    "contractName=Object.keys(_abiJson.contracts); \n",
    "console.log(\"- contract name: \", contractName[4]); //reading src/MyToken.sol:MyToken"
   ]
  },
  {
   "cell_type": "code",
   "execution_count": 9,
   "id": "908cf18e",
   "metadata": {},
   "outputs": [
    {
     "name": "stdout",
     "output_type": "stream",
     "text": [
      "- contract name:  src/MyToken.sol:MyToken\n"
     ]
    }
   ],
   "source": [
    "!node src/MyTokenTest.js"
   ]
  },
  {
   "cell_type": "code",
   "execution_count": 10,
   "id": "5078a633",
   "metadata": {},
   "outputs": [
    {
     "name": "stdout",
     "output_type": "stream",
     "text": [
      "Overwriting src/MyTokenTest.js\n"
     ]
    }
   ],
   "source": [
    "%%writefile src/MyTokenTest.js\n",
    "var _abiJson = require('./MyToken.json');\n",
    "contractName=Object.keys(_abiJson.contracts);\n",
    "console.log(\"- contract name: \", contractName[4]);\n",
    "\n",
    "_abi=_abiJson.contracts[contractName[4]].abi\n",
    "_bin=_abiJson.contracts[contractName[4]].bin\n",
    "console.log(\"- ABI: \", _abi);\n",
    "console.log(\"- Bytecode: \", _bin);"
   ]
  },
  {
   "cell_type": "code",
   "execution_count": 11,
   "id": "a830fe45",
   "metadata": {},
   "outputs": [
    {
     "name": "stdout",
     "output_type": "stream",
     "text": [
      "- contract name:  src/MyToken.sol:MyToken\n",
      "- ABI:  [\n",
      "  { inputs: [], stateMutability: 'nonpayable', type: 'constructor' },\n",
      "  {\n",
      "    anonymous: false,\n",
      "    inputs: [ [Object], [Object], [Object] ],\n",
      "    name: 'Approval',\n",
      "    type: 'event'\n",
      "  },\n",
      "  {\n",
      "    anonymous: false,\n",
      "    inputs: [ [Object], [Object], [Object] ],\n",
      "    name: 'Transfer',\n",
      "    type: 'event'\n",
      "  },\n",
      "  {\n",
      "    inputs: [ [Object], [Object] ],\n",
      "    name: 'allowance',\n",
      "    outputs: [ [Object] ],\n",
      "    stateMutability: 'view',\n",
      "    type: 'function'\n",
      "  },\n",
      "  {\n",
      "    inputs: [ [Object], [Object] ],\n",
      "    name: 'approve',\n",
      "    outputs: [ [Object] ],\n",
      "    stateMutability: 'nonpayable',\n",
      "    type: 'function'\n",
      "  },\n",
      "  {\n",
      "    inputs: [ [Object] ],\n",
      "    name: 'balanceOf',\n",
      "    outputs: [ [Object] ],\n",
      "    stateMutability: 'view',\n",
      "    type: 'function'\n",
      "  },\n",
      "  {\n",
      "    inputs: [],\n",
      "    name: 'decimals',\n",
      "    outputs: [ [Object] ],\n",
      "    stateMutability: 'view',\n",
      "    type: 'function'\n",
      "  },\n",
      "  {\n",
      "    inputs: [ [Object], [Object] ],\n",
      "    name: 'decreaseAllowance',\n",
      "    outputs: [ [Object] ],\n",
      "    stateMutability: 'nonpayable',\n",
      "    type: 'function'\n",
      "  },\n",
      "  {\n",
      "    inputs: [ [Object], [Object] ],\n",
      "    name: 'increaseAllowance',\n",
      "    outputs: [ [Object] ],\n",
      "    stateMutability: 'nonpayable',\n",
      "    type: 'function'\n",
      "  },\n",
      "  {\n",
      "    inputs: [],\n",
      "    name: 'name',\n",
      "    outputs: [ [Object] ],\n",
      "    stateMutability: 'view',\n",
      "    type: 'function'\n",
      "  },\n",
      "  {\n",
      "    inputs: [],\n",
      "    name: 'symbol',\n",
      "    outputs: [ [Object] ],\n",
      "    stateMutability: 'view',\n",
      "    type: 'function'\n",
      "  },\n",
      "  {\n",
      "    inputs: [],\n",
      "    name: 'totalSupply',\n",
      "    outputs: [ [Object] ],\n",
      "    stateMutability: 'view',\n",
      "    type: 'function'\n",
      "  },\n",
      "  {\n",
      "    inputs: [ [Object], [Object] ],\n",
      "    name: 'transfer',\n",
      "    outputs: [ [Object] ],\n",
      "    stateMutability: 'nonpayable',\n",
      "    type: 'function'\n",
      "  },\n",
      "  {\n",
      "    inputs: [ [Object], [Object], [Object] ],\n",
      "    name: 'transferFrom',\n",
      "    outputs: [ [Object] ],\n",
      "    stateMutability: 'nonpayable',\n",
      "    type: 'function'\n",
      "  }\n",
      "]\n",
      "- Bytecode:  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\n"
     ]
    }
   ],
   "source": [
    "!node src/MyTokenTest.js"
   ]
  },
  {
   "cell_type": "code",
   "execution_count": 14,
   "id": "24184fe6",
   "metadata": {},
   "outputs": [
    {
     "name": "stdout",
     "output_type": "stream",
     "text": [
      "Overwriting src/MyTokenDeployAbiBinFromFile.js\n"
     ]
    }
   ],
   "source": [
    "%%writefile src/MyTokenDeployAbiBinFromFile.js\n",
    "var Web3=require('web3');\n",
    "var _abiBinJson = require('./MyToken.json');\n",
    "\n",
    "var web3;\n",
    "if (typeof web3 !== 'undefined') {\n",
    "    web3 = new Web3(web3.currentProvider);\n",
    "} else {\n",
    "    web3 = new Web3(new Web3.providers.HttpProvider(\"http://localhost:8345\"));\n",
    "}\n",
    "\n",
    "contractName=Object.keys(_abiBinJson.contracts);\n",
    "console.log(\"- contract name: \", contractName[4]); //or console.log(contractName);\n",
    "\n",
    "//_abi=_abiBinJson.contracts[contractName[4]].abi\n",
    "//_bin=_abiBinJson.contracts[contractName[4]].bin\n",
    "\n",
    "\n",
    "//contractName=Object.keys(_abiJson.contracts); // reading ['src//Timer.sol:Timer'];\n",
    "//console.log(\"- contract name: \", contractName[4]); //or console.log(contractName);\n",
    "_abiArray=JSON.parse(JSON.stringify(_abiBinJson.contracts[contractName[4]].abi));    //JSON parsing needed!!\n",
    "//_abiArray=JSON.stringify(_abi)\n",
    "_bin=\"0x\"+_abiBinJson.contracts[contractName[4]].bin;\n",
    "//console.log(\"- ABI: \" + JSON.stringify(_abiArray));\n",
    "//console.log(\"- Bytecode: \" + _bin);\n",
    "\n",
    "//unlock the account with a password provided\n",
    "//web3.personal.unlockAccount(web3.eth.accounts[0],'password');\n",
    "\n",
    "async function deploy() {\n",
    "    const accounts = await web3.eth.getAccounts();\n",
    "    console.log(\"Deploying the contract from \" + accounts[0]);\n",
    "    var deployed = await new web3.eth.Contract(_abiArray)\n",
    "        .deploy({data: _bin})\n",
    "        .send({from: accounts[0], gas: 1000000}, function(err, transactionHash) {\n",
    "                if(!err) console.log(\"hash: \" + transactionHash); \n",
    "        })\n",
    "        //.then(function(newContractInstance){\n",
    "        //    console.log(newContractInstance.options.address)\n",
    "        //});\n",
    "    console.log(\"---> The contract deployed to: \" + deployed.options.address)\n",
    "}\n",
    "deploy()"
   ]
  },
  {
   "cell_type": "code",
   "execution_count": 15,
   "id": "64d408f5",
   "metadata": {},
   "outputs": [
    {
     "name": "stdout",
     "output_type": "stream",
     "text": [
      "- contract name:  src/MyToken.sol:MyToken\n",
      "Deploying the contract from 0x15780bf31d2d65095C58ACc1995B06Ec1189dCDD\n",
      "hash: 0xd6182972b598e76a0fc581e073071f3c6c0edfd2634afd5caad171027c9ca024\n",
      "---> The contract deployed to: 0x4C4C59Fe78da1E40b8b32B5FE321680Ab22f16b2\n"
     ]
    }
   ],
   "source": [
    "!node src/MyTokenDeployAbiBinFromFile.js"
   ]
  },
  {
   "cell_type": "code",
   "execution_count": 18,
   "id": "b5e3f69a",
   "metadata": {},
   "outputs": [
    {
     "name": "stdout",
     "output_type": "stream",
     "text": [
      "Overwriting src/MyTokenUse.js\n"
     ]
    }
   ],
   "source": [
    "%%writefile src/MyTokenUse.js\n",
    "var Web3=require('web3');\n",
    "var _abiBinJson = require('./MyToken.json');\n",
    "\n",
    "var web3 = new Web3(new Web3.providers.HttpProvider(\"http://localhost:8345\"));\n",
    "\n",
    "contractName=Object.keys(_abiBinJson.contracts); \n",
    "console.log(\"- contract name: \", contractName[4]);// reading ['src//Timer.sol:Timer']\n",
    "var _abiArray=JSON.parse(JSON.stringify(_abiBinJson.contracts[contractName[4]].abi));    //JSON parsing needed!!\n",
    "\n",
    "var _test = new web3.eth.Contract(_abiArray, '0x4C4C59Fe78da1E40b8b32B5FE321680Ab22f16b2');\n",
    "\n",
    "async function doIt() {\n",
    "    const accounts = await web3.eth.getAccounts();\n",
    "    console.log(\"Account: \" + accounts[0]);\n",
    "    const balanceBefore = await web3.eth.getBalance(accounts[0]);\n",
    "    console.log(\"Balance before: \" + balanceBefore);\n",
    "    \n",
    "    const name = await _test.methods.name().call();\n",
    "    console.log(\"name: \" + name);\n",
    "    const decimals = await _test.methods.decimals().call();\n",
    "    console.log(\"decimals: \" + decimals);\n",
    "    const value = await _test.methods.totalSupply().call();\n",
    "    console.log(\"totalSupply: \" + value);\n",
    "\n",
    "    console.log(\"-----1 before transfer-----\");\n",
    "    console.log(\"1-1 balanceOfAccount0: \" + await _test.methods.balanceOf(accounts[0]).call());\n",
    "    console.log(\"1-2 balanceOfAccount1: \" + await _test.methods.balanceOf(accounts[1]).call());\n",
    "    await _test.methods.transfer(accounts[1], 1)\n",
    "        .send({from: accounts[0], gas: 364124, gasPrice: '1000000000'})\n",
    "    console.log(\"-----2 after transfer-----\");\n",
    "    console.log(\"2-1 balanceOfAccount0: \" + await _test.methods.balanceOf(accounts[0]).call());\n",
    "    console.log(\"2-2 balanceOfAccount1: \" + await _test.methods.balanceOf(accounts[1]).call());\n",
    "    console.log(\"-----3 after approve and transferFrom-----\");    \n",
    "    var addrTo = accounts[0];\n",
    "    console.log(\"3-1 allowanceOfAddrTo: \"+ await _test.methods.allowance(accounts[0], addrTo).call());\n",
    "    await _test.methods.approve(addrTo, 111)\n",
    "        .send({from: accounts[0], gas: 100000});\n",
    "    console.log(\"3-2 allowanceOfAddrTo 111: \"+ await _test.methods.allowance(accounts[0], addrTo).call());\n",
    "    await _test.methods.transferFrom(addrTo, accounts[1], 1)\n",
    "        .send({from: accounts[0], gas: 3641240, gasPrice: '1000000000'})\n",
    "    console.log(\"3-3 balanceOfAccount0: \" + await _test.methods.balanceOf(accounts[0]).call());\n",
    "    console.log(\"3-4 balanceOfAccount1: \" + await _test.methods.balanceOf(accounts[1]).call());\n",
    "    //const value = await _test.methods.myFunction()\n",
    "    //    .send({from: accounts[0], gas: 364124, gasPrice: '1000000000'})\n",
    "        //.then(function(value) {console.log(\"---> myFunction called \" + JSON.stringify(value.events.MyLog.returnValues));});\n",
    "    //console.log(\"---> myFunction called \" + JSON.stringify(value.events.MyLog.returnValues));\n",
    "    const balanceAfter = await web3.eth.getBalance(accounts[0]);\n",
    "    console.log(\"Balance after: \" + balanceAfter);\n",
    "    console.log(\"Balance diff: \" + (balanceBefore - balanceAfter));\n",
    "}\n",
    "doIt()"
   ]
  },
  {
   "cell_type": "code",
   "execution_count": 19,
   "id": "2a3a811e",
   "metadata": {},
   "outputs": [
    {
     "name": "stdout",
     "output_type": "stream",
     "text": [
      "- contract name:  src/MyToken.sol:MyToken\n",
      "Account: 0x15780bf31d2d65095C58ACc1995B06Ec1189dCDD\n",
      "Balance before: 999998748350000000000\n",
      "name: MyToken\n",
      "decimals: 18\n",
      "totalSupply: 1000000000000000000000000\n",
      "-----1 before transfer-----\n",
      "1-1 balanceOfAccount0: 1000000000000000000000000\n",
      "1-2 balanceOfAccount1: 0\n",
      "-----2 after transfer-----\n",
      "2-1 balanceOfAccount0: 999999999999999999999999\n",
      "2-2 balanceOfAccount1: 1\n",
      "-----3 after approve and transferFrom-----\n",
      "3-1 allowanceOfAddrTo: 0\n",
      "3-2 allowanceOfAddrTo 111: 111\n",
      "3-3 balanceOfAccount0: 999999999999999999999998\n",
      "3-4 balanceOfAccount1: 2\n",
      "Balance after: 999998562118000000000\n",
      "Balance diff: 186231999954944\n"
     ]
    }
   ],
   "source": [
    "!node src/MyTokenUse.js"
   ]
  },
  {
   "cell_type": "markdown",
   "id": "32dfcf09",
   "metadata": {},
   "source": [
    "# NFT"
   ]
  },
  {
   "cell_type": "code",
   "execution_count": 20,
   "id": "a1fdfd2c",
   "metadata": {},
   "outputs": [
    {
     "name": "stdout",
     "output_type": "stream",
     "text": [
      "Writing src/nftHelloUri.json\n"
     ]
    }
   ],
   "source": [
    "%%writefile src/nftHelloUri.json\n",
    "{\n",
    "    \"name\": \"GRBurger\",\n",
    "    \"description\": \"Gordon Ramsay Burger is delicious\",\n",
    "    \"image\": \"https://ipfs.io/ipfs/QmVenVdZQ5XmXYhHtDFy1o8hZzefp6tXMgptGrzT2mZDN6\"\n",
    "}"
   ]
  },
  {
   "cell_type": "code",
   "execution_count": 21,
   "id": "fc03c058",
   "metadata": {},
   "outputs": [
    {
     "name": "stdout",
     "output_type": "stream",
     "text": [
      "Writing src/MyNFT.sol\n"
     ]
    }
   ],
   "source": [
    "%%writefile src/MyNFT.sol\n",
    "// SPDX-License-Identifier: MIT\n",
    "pragma solidity ^0.8.0;\n",
    "\n",
    "import \"@openzeppelin/contracts/token/ERC721/ERC721.sol\";\n",
    "//import \"https://github.com/OpenZeppelin/openzeppelin-contracts/blob/v4.4.0/contracts/token/ERC721/ERC721.sol\";\n",
    "import \"@openzeppelin/contracts/utils/Counters.sol\";\n",
    "//import \"https://github.com/OpenZeppelin/openzeppelin-contracts/blob/v4.4.0/contracts/utils/Counters.sol\";\n",
    "\n",
    "contract MyNFT is ERC721 {\n",
    "\tusing Counters for Counters.Counter;\n",
    "\tCounters.Counter private _tokenIds;\t//NFT id\n",
    "\t\n",
    "\tconstructor() ERC721(\"Hello DApp Screens\", \"JSL\") {}\n",
    "\t// override\n",
    "\t// does not save toeknURI in the state var\n",
    "\tfunction _baseURI() internal pure override returns (string memory) {\n",
    "\t\treturn \"https://ipfs.io/ipfs/QmbdwcmzYacLZHLBAhAsaJm2aPV1bzBjFjweD1UgZzkEtA\";\n",
    "\t}\n",
    "\n",
    "    function mint(address to) public returns(uint256) {\n",
    "        //require(_tokenIds.current() < 3); //only 3 to mint\n",
    "        _tokenIds.increment(); // add 1 by minting\n",
    "        uint256 newTokenId = _tokenIds.current();\n",
    "        _mint(to, newTokenId); // or _safeMint(to, newTokenId);\n",
    "\n",
    "        return newTokenId;\n",
    "    }\n",
    "}"
   ]
  },
  {
   "cell_type": "code",
   "execution_count": 23,
   "id": "5e200f46",
   "metadata": {},
   "outputs": [],
   "source": [
    "!solc-windows.exe @openzeppelin/=\"C:\\\\Users\\\\chohj\\\\Code\\\\201810811\\\\node_modules\\\\@openzeppelin\\\\\" --optimize --combined-json abi,bin src/MyNFT.sol > src/MyNFT.json"
   ]
  },
  {
   "cell_type": "code",
   "execution_count": 24,
   "id": "7bb5acbb",
   "metadata": {},
   "outputs": [
    {
     "name": "stdout",
     "output_type": "stream",
     "text": [
      "Overwriting src/MyNFT.sol\n"
     ]
    }
   ],
   "source": [
    "%%writefile src/MyNFT.sol\n",
    "// SPDX-License-Identifier: MIT\n",
    "pragma solidity ^0.8.0;\n",
    "\n",
    "import \"@openzeppelin/contracts/token/ERC721/ERC721.sol\";\n",
    "//import \"https://github.com/OpenZeppelin/openzeppelin-contracts/blob/v4.4.0/contracts/token/ERC721/ERC721.sol\";\n",
    "import \"@openzeppelin/contracts/utils/Counters.sol\";\n",
    "//import \"https://github.com/OpenZeppelin/openzeppelin-contracts/blob/v4.4.0/contracts/utils/Counters.sol\";\n",
    "\n",
    "contract MyNFT is ERC721 {\n",
    "\tusing Counters for Counters.Counter;\n",
    "\tCounters.Counter private _tokenIds;\t//NFT id\n",
    "\t\n",
    "\tconstructor() ERC721(\"GRBurger\", \"GRB\") {}\n",
    "\t// override\n",
    "\t// does not save toeknURI in the state var\n",
    "\tfunction _baseURI() internal pure override returns (string memory) {\n",
    "\t\treturn \"https://ipfs.io/ipfs/QmVenVdZQ5XmXYhHtDFy1o8hZzefp6tXMgptGrzT2mZDN6\";\n",
    "\t}\n",
    "\n",
    "    function mint(address to) public returns(uint256) {\n",
    "        //require(_tokenIds.current() < 3); //only 3 to mint\n",
    "        _tokenIds.increment(); // add 1 by minting\n",
    "        uint256 newTokenId = _tokenIds.current();\n",
    "        _mint(to, newTokenId); // or _safeMint(to, newTokenId);\n",
    "\n",
    "        return newTokenId;\n",
    "    }\n",
    "}"
   ]
  },
  {
   "cell_type": "code",
   "execution_count": 25,
   "id": "d16a1edb",
   "metadata": {},
   "outputs": [],
   "source": [
    "!solc-windows.exe @openzeppelin/=\"C:\\\\Users\\\\chohj\\\\Code\\\\201810811\\\\node_modules\\\\@openzeppelin\\\\\" --optimize --combined-json abi,bin src/MyNFT.sol > src/MyNFT.json"
   ]
  },
  {
   "cell_type": "code",
   "execution_count": null,
   "id": "256c81fa",
   "metadata": {},
   "outputs": [],
   "source": []
  }
 ],
 "metadata": {
  "kernelspec": {
   "display_name": "Python 3 (ipykernel)",
   "language": "python",
   "name": "python3"
  },
  "language_info": {
   "codemirror_mode": {
    "name": "ipython",
    "version": 3
   },
   "file_extension": ".py",
   "mimetype": "text/x-python",
   "name": "python",
   "nbconvert_exporter": "python",
   "pygments_lexer": "ipython3",
   "version": "3.9.7"
  }
 },
 "nbformat": 4,
 "nbformat_minor": 5
}
