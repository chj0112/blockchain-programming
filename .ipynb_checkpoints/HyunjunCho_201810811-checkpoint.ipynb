{
 "cells": [
  {
   "cell_type": "markdown",
   "id": "f801d753",
   "metadata": {},
   "source": [
    "# 201810811 조현준"
   ]
  },
  {
   "cell_type": "markdown",
   "id": "9a2a1ffb",
   "metadata": {},
   "source": [
    "## 문제1 답"
   ]
  },
  {
   "cell_type": "code",
   "execution_count": 67,
   "id": "b69f7c0c",
   "metadata": {},
   "outputs": [
    {
     "name": "stdout",
     "output_type": "stream",
     "text": [
      "Overwriting src/mid1.js\n"
     ]
    }
   ],
   "source": [
    "%%writefile src/mid1.js\n",
    "var Web3 = require('web3');\n",
    "var web3 = new Web3('http://localhost:8345');\n",
    "async function mid1() {\n",
    "    accounts = await web3.eth.getAccounts();\n",
    "    account0=accounts[0];\n",
    "    account1=accounts[1];\n",
    "    console.log(\"(1) ac0: \" + account0 + \" ac1: \" + account1);\n",
    "    bal0 = await web3.eth.getBalance(account0);\n",
    "    bal1 = await web3.eth.getBalance(account1);\n",
    "    console.log(\"\\n(2) bal Of ac0: \" + bal0 + \" ac1: \" + bal1);\n",
    "    account2=accounts[2];\n",
    "    send = await web3.eth.sendTransaction({from:account0, to: account1, value: 1111});\n",
    "    console.log(\"\\n(3) callback - sending ac0 -> ac1\")\n",
    "    console.log(\"\\n(4) transactionHash: \" + JSON.stringify(send.transactionHash));\n",
    "    gas = web3.eth.estimateGas;\n",
    "    console.log(\"\\n(5) gas costs: \" + JSON.stringify(send.gasUsed));\n",
    "    nonce = await web3.eth.getTransactionCount(account0);\n",
    "    console.log(\"\\n(6) nonce: \" + nonce);\n",
    "    newbal0 = await web3.eth.getBalance(account0);\n",
    "    newbal1 = await web3.eth.getBalance(account1);\n",
    "    baldiff0 = newbal0 - bal0;\n",
    "    baldiff1 = newbal1 - bal1;\n",
    "    console.log(\"\\n(7) bal diff0: \" + baldiff0 + \" bal diff1: \" + baldiff1);\n",
    "    console.log(\"\\n(8) adding balance\")\n",
    "    var sum = 0\n",
    "    for (i=0; i<accounts.length; i++){\n",
    "        bal = await web3.eth.getBalance(accounts[i]);\n",
    "        console.log(\"sum: \" + sum + \" adding \" + i + \" bal: \" + bal);\n",
    "        sum += parseInt(bal);\n",
    "    }\n",
    "    console.log(\"\\n(9) balance total: \" + sum);\n",
    "}\n",
    "mid1()"
   ]
  },
  {
   "cell_type": "code",
   "execution_count": 68,
   "id": "931b3b1f",
   "metadata": {
    "scrolled": true
   },
   "outputs": [
    {
     "name": "stdout",
     "output_type": "stream",
     "text": [
      "(1) ac0: 0xd6431F35CDd2540E108F0E02E9b98048f9560610 ac1: 0x33143Ff0257632500948a9a38370AFa19d753803\n",
      "\n",
      "(2) bal Of ac0: 999998347625999984446 ac1: 1000000000000000015554\n",
      "\n",
      "(3) callback - sending ac0 -> ac1\n",
      "\n",
      "(4) transactionHash: \"0x31a5e5438fe8542ebec4cf8baa585de96e196f602a2a590bde6df922c8c8dab0\"\n",
      "\n",
      "(5) gas costs: 21000\n",
      "\n",
      "(6) nonce: 26\n",
      "\n",
      "(7) bal diff0: -42000000090112 bal diff1: 0\n",
      "\n",
      "(8) adding balance\n",
      "sum: 0 adding 0 bal: 999998305625999983335\n",
      "sum: 999998305625999900000 adding 1 bal: 1000000000000000016665\n",
      "sum: 1.999998305626e+21 adding 2 bal: 1000000000000000000000\n",
      "sum: 2.999998305626e+21 adding 3 bal: 1000000000000000000000\n",
      "sum: 3.999998305626e+21 adding 4 bal: 1000000000000000000000\n",
      "sum: 4.999998305626e+21 adding 5 bal: 1000000000000000000000\n",
      "sum: 5.999998305626e+21 adding 6 bal: 1000000000000000000000\n",
      "sum: 6.999998305626e+21 adding 7 bal: 1000000000000000000000\n",
      "sum: 7.999998305626e+21 adding 8 bal: 1000000000000000000000\n",
      "sum: 8.999998305626e+21 adding 9 bal: 1000000000000000000000\n",
      "\n",
      "(9) balance total: 9.999998305626e+21\n"
     ]
    }
   ],
   "source": [
    "!node src/mid1.js"
   ]
  },
  {
   "cell_type": "markdown",
   "id": "ec1d8c87",
   "metadata": {},
   "source": [
    "## 문제2 답"
   ]
  },
  {
   "cell_type": "markdown",
   "id": "9fa09db5",
   "metadata": {},
   "source": [
    "### (1)"
   ]
  },
  {
   "cell_type": "code",
   "execution_count": 34,
   "id": "229d1072",
   "metadata": {},
   "outputs": [
    {
     "name": "stdout",
     "output_type": "stream",
     "text": [
      "Overwriting src/Counter.sol\n"
     ]
    }
   ],
   "source": [
    "%%writefile src/Counter.sol\n",
    "pragma solidity ^0.4.0;\n",
    "contract Counter {\n",
    "    uint256 counter = 0;\n",
    "    uint256 setTime;\n",
    "    function add() public {\n",
    "        counter++;\n",
    "    }\n",
    "    function subtract() public {\n",
    "        counter--;\n",
    "    }\n",
    "    function getCount() public view returns (uint256) {\n",
    "        return counter;\n",
    "    }\n",
    "    function setTimeCalled() public {\n",
    "        setTime = block.timestamp;\n",
    "    }\n",
    "    function getTimeCalled() view public returns(uint256) {\n",
    "        return setTime;\n",
    "    }\n",
    "}"
   ]
  },
  {
   "cell_type": "markdown",
   "id": "f668e9ad",
   "metadata": {},
   "source": [
    "#### 성공로그\n",
    "```\n",
    "creation of Counter pending...\n",
    "[vm]from: 0x5B3...eddC4to: Counter.(constructor)value: 0 weidata: 0x608...f0029logs: 0hash: 0x78d...752f8\n",
    "transact to Counter.add pending ... \n",
    "[vm]from: 0x5B3...eddC4to: Counter.add() 0xd2a...fd005value: 0 weidata: 0x4f2...be91flogs: 0hash: 0x0fc...21bd5\n",
    "transact to Counter.subtract pending ... \n",
    "[vm]from: 0x5B3...eddC4to: Counter.subtract() 0xd2a...fd005value: 0 weidata: 0x6de...ebae3logs: 0hash: 0x4c0...49b65\n",
    "call to Counter.getCount\n",
    "CALL\n",
    "[call]from: 0x5B38Da6a701c568545dCfcB03FcB875f56beddC4to: Counter.getCount()data: 0xa87...d942c\n",
    "transact to Counter.setTimeCalled pending ... \n",
    "[vm]from: 0x5B3...eddC4to: Counter.setTimeCalled() 0xd2a...fd005value: 0 weidata: 0x3ba...b7be7logs: 0hash: 0xeb4...86bdd\n",
    "call to Counter.getTimeCalled\n",
    "CALL\n",
    "[call]from: 0x5B38Da6a701c568545dCfcB03FcB875f56beddC4to: Counter.getTimeCalled()data: 0xc45...7a0a4\n",
    "```"
   ]
  },
  {
   "cell_type": "markdown",
   "id": "0fffdd06",
   "metadata": {},
   "source": [
    "### (2)"
   ]
  },
  {
   "cell_type": "code",
   "execution_count": 39,
   "id": "c069f577",
   "metadata": {},
   "outputs": [],
   "source": [
    "!solc --optimize --combined-json abi,bin src/Counter.sol > src/Counter.json"
   ]
  },
  {
   "cell_type": "code",
   "execution_count": 40,
   "id": "80f0d348",
   "metadata": {},
   "outputs": [
    {
     "name": "stdout",
     "output_type": "stream",
     "text": [
      "{\"contracts\":{\"src/Counter.sol:Counter\":{\"abi\":\"[{\\\"constant\\\":false,\\\"inputs\\\":[],\\\"name\\\":\\\"setTimeCalled\\\",\\\"outputs\\\":[],\\\"payable\\\":false,\\\"stateMutability\\\":\\\"nonpayable\\\",\\\"type\\\":\\\"function\\\"},{\\\"constant\\\":false,\\\"inputs\\\":[],\\\"name\\\":\\\"add\\\",\\\"outputs\\\":[],\\\"payable\\\":false,\\\"stateMutability\\\":\\\"nonpayable\\\",\\\"type\\\":\\\"function\\\"},{\\\"constant\\\":false,\\\"inputs\\\":[],\\\"name\\\":\\\"subtract\\\",\\\"outputs\\\":[],\\\"payable\\\":false,\\\"stateMutability\\\":\\\"nonpayable\\\",\\\"type\\\":\\\"function\\\"},{\\\"constant\\\":true,\\\"inputs\\\":[],\\\"name\\\":\\\"getCount\\\",\\\"outputs\\\":[{\\\"name\\\":\\\"\\\",\\\"type\\\":\\\"uint256\\\"}],\\\"payable\\\":false,\\\"stateMutability\\\":\\\"view\\\",\\\"type\\\":\\\"function\\\"},{\\\"constant\\\":true,\\\"inputs\\\":[],\\\"name\\\":\\\"getTimeCalled\\\",\\\"outputs\\\":[{\\\"name\\\":\\\"\\\",\\\"type\\\":\\\"uint256\\\"}],\\\"payable\\\":false,\\\"stateMutability\\\":\\\"view\\\",\\\"type\\\":\\\"function\\\"}]\",\"bin\":\"60806040526000805534801561001457600080fd5b50610143806100246000396000f30060806040526004361061006c5763ffffffff7c01000000000000000000000000000000000000000000000000000000006000350416633bab7be781146100715780634f2be91f146100885780636deebae31461009d578063a87d942c146100b2578063c457a0a4146100d9575b600080fd5b34801561007d57600080fd5b506100866100ee565b005b34801561009457600080fd5b506100866100f4565b3480156100a957600080fd5b506100866100ff565b3480156100be57600080fd5b506100c761010b565b60408051918252519081900360200190f35b3480156100e557600080fd5b506100c7610111565b42600155565b600080546001019055565b60008054600019019055565b60005490565b600154905600a165627a7a7230582042fc8a7c5d49284c5aa3a871e7dbb81d2900ea75c9356ded00e058e82faeff9f0029\"}},\"version\":\"0.4.25+commit.59dbf8f1.Windows.msvc\"}\n"
     ]
    }
   ],
   "source": [
    "!type src\\Counter.json"
   ]
  },
  {
   "cell_type": "markdown",
   "id": "25ddafc7",
   "metadata": {},
   "source": [
    "### (3)"
   ]
  },
  {
   "cell_type": "code",
   "execution_count": 44,
   "id": "3217dad0",
   "metadata": {},
   "outputs": [
    {
     "name": "stdout",
     "output_type": "stream",
     "text": [
      "Overwriting src/CounterDeployAbiBinFromFile.js\n"
     ]
    }
   ],
   "source": [
    "%%writefile src/CounterDeployAbiBinFromFile.js\n",
    "var Web3 = require('web3');\n",
    "var _abiBinJson = require('./Counter.json');      //importing a javascript file\n",
    "\n",
    "var web3 = new Web3(new Web3.providers.HttpProvider(\"http://localhost:8345\"));\n",
    "\n",
    "contractName=Object.keys(_abiBinJson.contracts);\n",
    "console.log(\"- contract name: \", contractName);\n",
    "_abi=_abiBinJson.contracts[contractName].abi;\n",
    "//_abiArray=JSON.parse(JSON.stringify(_abi));\n",
    "_abiArray=JSON.parse(_abi);      //JSON parsing needed!!\n",
    "_bin=_abiBinJson.contracts[contractName].bin;\n",
    "\n",
    "console.log(\"- ABI: \" + _abi);\n",
    "console.log(\"- Bytecode: \" + _bin);\n",
    "\n",
    "async function deploy() {\n",
    "    const accounts = await web3.eth.getAccounts();\n",
    "    console.log(\"Deploying the contract from \" + accounts[0]);\n",
    "    var deployed = await new web3.eth.Contract(_abiArray)\n",
    "        .deploy({data: \"0x\"+_bin})\n",
    "        .send({from: accounts[0], gas: 364124}, function(err, transactionHash) {\n",
    "                if(!err) console.log(\"hash: \" + transactionHash); \n",
    "        })\n",
    "        //.then(function(newContractInstance){\n",
    "        //    console.log(newContractInstance)\n",
    "        //});\n",
    "    console.log(\"---> The contract deployed to: \" + deployed.options.address)\n",
    "}\n",
    "deploy()"
   ]
  },
  {
   "cell_type": "code",
   "execution_count": 46,
   "id": "e368a737",
   "metadata": {
    "scrolled": true
   },
   "outputs": [
    {
     "name": "stdout",
     "output_type": "stream",
     "text": [
      "- contract name:  [ 'src/Counter.sol:Counter' ]\n",
      "- ABI: [{\"constant\":false,\"inputs\":[],\"name\":\"setTimeCalled\",\"outputs\":[],\"payable\":false,\"stateMutability\":\"nonpayable\",\"type\":\"function\"},{\"constant\":false,\"inputs\":[],\"name\":\"add\",\"outputs\":[],\"payable\":false,\"stateMutability\":\"nonpayable\",\"type\":\"function\"},{\"constant\":false,\"inputs\":[],\"name\":\"subtract\",\"outputs\":[],\"payable\":false,\"stateMutability\":\"nonpayable\",\"type\":\"function\"},{\"constant\":true,\"inputs\":[],\"name\":\"getCount\",\"outputs\":[{\"name\":\"\",\"type\":\"uint256\"}],\"payable\":false,\"stateMutability\":\"view\",\"type\":\"function\"},{\"constant\":true,\"inputs\":[],\"name\":\"getTimeCalled\",\"outputs\":[{\"name\":\"\",\"type\":\"uint256\"}],\"payable\":false,\"stateMutability\":\"view\",\"type\":\"function\"}]\n",
      "- Bytecode: 60806040526000805534801561001457600080fd5b50610143806100246000396000f30060806040526004361061006c5763ffffffff7c01000000000000000000000000000000000000000000000000000000006000350416633bab7be781146100715780634f2be91f146100885780636deebae31461009d578063a87d942c146100b2578063c457a0a4146100d9575b600080fd5b34801561007d57600080fd5b506100866100ee565b005b34801561009457600080fd5b506100866100f4565b3480156100a957600080fd5b506100866100ff565b3480156100be57600080fd5b506100c761010b565b60408051918252519081900360200190f35b3480156100e557600080fd5b506100c7610111565b42600155565b600080546001019055565b60008054600019019055565b60005490565b600154905600a165627a7a7230582042fc8a7c5d49284c5aa3a871e7dbb81d2900ea75c9356ded00e058e82faeff9f0029\n",
      "Deploying the contract from 0xd6431F35CDd2540E108F0E02E9b98048f9560610\n",
      "hash: 0x89487d93e2f52b53f90d3e18a63b9af19cdb61abd7cc5068247ae0bcecb8a310\n",
      "---> The contract deployed to: 0x2EC142116D6Ec1608a24865b69928d9E8b82c33B\n"
     ]
    }
   ],
   "source": [
    "!node src/CounterDeployAbiBinFromFile.js"
   ]
  },
  {
   "cell_type": "markdown",
   "id": "00b3ebce",
   "metadata": {},
   "source": [
    "### (4-1)"
   ]
  },
  {
   "cell_type": "code",
   "execution_count": 74,
   "id": "d31d4fbf",
   "metadata": {},
   "outputs": [
    {
     "name": "stdout",
     "output_type": "stream",
     "text": [
      "Overwriting src/counterUse.js\n"
     ]
    }
   ],
   "source": [
    "%%writefile src/counterUse.js\n",
    "var Web3=require('web3');\n",
    "var _abiBinJson = require('./Counter.json');\n",
    "var web3 = new Web3(new Web3.providers.HttpProvider(\"http://localhost:8345\"));\n",
    "contractName=Object.keys(_abiBinJson.contracts);\n",
    "_abi=_abiBinJson.contracts[contractName].abi;\n",
    "_abiArray=JSON.parse(_abi);\n",
    "var counter = new web3.eth.Contract(_abiArray,\"0x2EC142116D6Ec1608a24865b69928d9E8b82c33B\");\n",
    "async function doIt() {\n",
    "    const accounts = await web3.eth.getAccounts();\n",
    "    counter.methods.getCount().call().then(function(str) {console.log(str);});\n",
    "    await counter.methods.setTimeCalled().send({from:accounts[0],gas:100000});\n",
    "    counter.methods.getTimeCalled().call().then(function(str) {console.log(str)});\n",
    "}\n",
    "doIt()"
   ]
  },
  {
   "cell_type": "code",
   "execution_count": 75,
   "id": "4f4400de",
   "metadata": {},
   "outputs": [
    {
     "name": "stdout",
     "output_type": "stream",
     "text": [
      "0\n",
      "1650873081\n"
     ]
    }
   ],
   "source": [
    "!node src/counterUse.js"
   ]
  },
  {
   "cell_type": "markdown",
   "id": "baf1bd91",
   "metadata": {},
   "source": [
    "### (4-2)"
   ]
  },
  {
   "cell_type": "code",
   "execution_count": 76,
   "id": "4079ed57",
   "metadata": {},
   "outputs": [
    {
     "name": "stdout",
     "output_type": "stream",
     "text": [
      "Overwriting src/counterAddUse.js\n"
     ]
    }
   ],
   "source": [
    "%%writefile src/counterAddUse.js\n",
    "var Web3=require('web3');\n",
    "var _abiBinJson = require('./Counter.json');\n",
    "var web3 = new Web3(new Web3.providers.HttpProvider(\"http://localhost:8345\"));\n",
    "contractName=Object.keys(_abiBinJson.contracts);\n",
    "_abi=_abiBinJson.contracts[contractName].abi;\n",
    "_abiArray=JSON.parse(_abi);\n",
    "var counter = new web3.eth.Contract(_abiArray,\"0x2EC142116D6Ec1608a24865b69928d9E8b82c33B\");\n",
    "async function doIt() {\n",
    "    const accounts = await web3.eth.getAccounts();\n",
    "    await counter.methods.add().send({from:accounts[0],gas:100000});\n",
    "    counter.methods.getCount().call().then(function(str) {console.log(str);});\n",
    "    await counter.methods.setTimeCalled().send({from:accounts[0],gas:100000});\n",
    "    counter.methods.getTimeCalled().call().then(function(str) {console.log(str)});\n",
    "}\n",
    "doIt()"
   ]
  },
  {
   "cell_type": "code",
   "execution_count": 77,
   "id": "2ff73819",
   "metadata": {},
   "outputs": [
    {
     "name": "stdout",
     "output_type": "stream",
     "text": [
      "1\n",
      "1650873103\n"
     ]
    }
   ],
   "source": [
    "!node src/counterAddUse.js"
   ]
  },
  {
   "cell_type": "markdown",
   "id": "27ceca7f",
   "metadata": {},
   "source": [
    "### (4-3)"
   ]
  },
  {
   "cell_type": "code",
   "execution_count": 78,
   "id": "548a5226",
   "metadata": {
    "scrolled": true
   },
   "outputs": [
    {
     "name": "stdout",
     "output_type": "stream",
     "text": [
      "2\n",
      "1650873108\n"
     ]
    }
   ],
   "source": [
    "!node src/counterAddUse.js"
   ]
  }
 ],
 "metadata": {
  "kernelspec": {
   "display_name": "Python 3 (ipykernel)",
   "language": "python",
   "name": "python3"
  },
  "language_info": {
   "codemirror_mode": {
    "name": "ipython",
    "version": 3
   },
   "file_extension": ".py",
   "mimetype": "text/x-python",
   "name": "python",
   "nbconvert_exporter": "python",
   "pygments_lexer": "ipython3",
   "version": "3.9.7"
  }
 },
 "nbformat": 4,
 "nbformat_minor": 5
}
