{
 "cells": [
  {
   "cell_type": "markdown",
   "id": "73b7b5bc",
   "metadata": {},
   "source": [
    "# 블록체인프로그래밍 4주"
   ]
  },
  {
   "cell_type": "markdown",
   "id": "f302edd4",
   "metadata": {},
   "source": [
    "## 연습문제 1\n",
    "\n",
    "다음 2건의 데이터에 대해 Merkle Root 값을 계산하고 출력하세요.\n",
    "\n",
    "* txA = 'Hello'\n",
    "\n",
    "* txB = 'How are you?'"
   ]
  },
  {
   "cell_type": "code",
   "execution_count": 1,
   "id": "48c57c6f",
   "metadata": {},
   "outputs": [],
   "source": [
    "import hashlib\n",
    "\n",
    "txA = 'Hello'\n",
    "txB = 'How are you?'"
   ]
  },
  {
   "cell_type": "markdown",
   "id": "67e22cf2",
   "metadata": {},
   "source": [
    "### 1. txA을 재해싱하세요 (\\_hA)"
   ]
  },
  {
   "cell_type": "code",
   "execution_count": 2,
   "id": "73317907",
   "metadata": {
    "scrolled": true
   },
   "outputs": [
    {
     "name": "stdout",
     "output_type": "stream",
     "text": [
      "70bc18bef5ae66b72d1995f8db90a583a60d77b4066e4653f1cead613025861c\n"
     ]
    }
   ],
   "source": [
    "_hA = hashlib.sha256(hashlib.sha256(txA.encode()).digest()).hexdigest()\n",
    "print(_hA)"
   ]
  },
  {
   "cell_type": "markdown",
   "id": "58116d26",
   "metadata": {},
   "source": [
    "### 2. \\_hA를 바이트교환을 하세요 hA"
   ]
  },
  {
   "cell_type": "code",
   "execution_count": 3,
   "id": "c4ebe7e8",
   "metadata": {},
   "outputs": [
    {
     "name": "stdout",
     "output_type": "stream",
     "text": [
      "1c86253061adcef153466e06b4770da683a590dbf895192db766aef5be18bc70\n"
     ]
    }
   ],
   "source": [
    "hA = \"\".join(reversed([_hA[i:i+2] for i in range(0, hashlib.sha256(txA.encode()).digest_size * 2, 2)]))\n",
    "print(hA)"
   ]
  },
  {
   "cell_type": "markdown",
   "id": "d1906e0b",
   "metadata": {},
   "source": [
    "### 3. txB를 재해싱하세요 (\\_hB)"
   ]
  },
  {
   "cell_type": "code",
   "execution_count": 4,
   "id": "399cde7b",
   "metadata": {},
   "outputs": [
    {
     "name": "stdout",
     "output_type": "stream",
     "text": [
      "1027ce357faf49fc632d35908db181ae951aa3df9060595d94fb33769d71e7d0\n"
     ]
    }
   ],
   "source": [
    "_hB = hashlib.sha256(hashlib.sha256(txB.encode()).digest()).hexdigest()\n",
    "print(_hB)"
   ]
  },
  {
   "cell_type": "markdown",
   "id": "4fee4c3e",
   "metadata": {},
   "source": [
    "### 4. \\_hB를 바이트교환을 하세요 hB"
   ]
  },
  {
   "cell_type": "code",
   "execution_count": 5,
   "id": "20b134ef",
   "metadata": {},
   "outputs": [
    {
     "name": "stdout",
     "output_type": "stream",
     "text": [
      "d0e7719d7633fb945d596090dfa31a95ae81b18d90352d63fc49af7f35ce2710\n"
     ]
    }
   ],
   "source": [
    "hB = \"\".join(reversed([_hB[i:i+2] for i in range(0, hashlib.sha256(txB.encode()).digest_size * 2, 2)]))\n",
    "print(hB)"
   ]
  },
  {
   "cell_type": "markdown",
   "id": "d1aacca9",
   "metadata": {},
   "source": [
    "### 5. hA+hB를 하세요 \\_hAhB"
   ]
  },
  {
   "cell_type": "code",
   "execution_count": 6,
   "id": "dddd6136",
   "metadata": {},
   "outputs": [
    {
     "name": "stdout",
     "output_type": "stream",
     "text": [
      "1c86253061adcef153466e06b4770da683a590dbf895192db766aef5be18bc70d0e7719d7633fb945d596090dfa31a95ae81b18d90352d63fc49af7f35ce2710\n"
     ]
    }
   ],
   "source": [
    "_hAhB = hA + hB\n",
    "print(_hAhB)"
   ]
  },
  {
   "cell_type": "markdown",
   "id": "8bd42a80",
   "metadata": {},
   "source": [
    "### 6. \\_hAhB를 재해싱하세요 (\\_hAB)"
   ]
  },
  {
   "cell_type": "code",
   "execution_count": 7,
   "id": "598381a9",
   "metadata": {},
   "outputs": [
    {
     "name": "stdout",
     "output_type": "stream",
     "text": [
      "e0c76d87a5a5c18ab29757603c5d1bda709306203b0a44c53fc6c90fba162903\n"
     ]
    }
   ],
   "source": [
    "_hAB = hashlib.sha256(hashlib.sha256(_hAhB.encode()).digest()).hexdigest()\n",
    "print(_hAB)"
   ]
  },
  {
   "cell_type": "markdown",
   "id": "031089e0",
   "metadata": {},
   "source": [
    "### 7. \\_hAB를 바이트교환을 하세요 hAB"
   ]
  },
  {
   "cell_type": "code",
   "execution_count": 8,
   "id": "de9197e4",
   "metadata": {},
   "outputs": [
    {
     "name": "stdout",
     "output_type": "stream",
     "text": [
      "032916ba0fc9c63fc5440a3b20069370da1b5d3c605797b28ac1a5a5876dc7e0\n"
     ]
    }
   ],
   "source": [
    "hAB = \"\".join(reversed([_hAB[i:i+2] for i in range(0, 32 * 2, 2)]))\n",
    "print(hAB)"
   ]
  },
  {
   "cell_type": "markdown",
   "id": "91b12d67",
   "metadata": {},
   "source": [
    "## 연습문제 2\n",
    "\n",
    "친구에게  주소를 구하고, 그 주소로 송금해 보자. 송금이 되지 않으면 왜 안되는지 이유를 알아보자.\n",
    "\n",
    "안되면 친구의 주소를 만들고 전송한다.\n",
    "\n",
    "잔고의 증가분을 출력하세요.\n",
    "\n",
    "소요된 gas비용 출력하세요."
   ]
  },
  {
   "cell_type": "code",
   "execution_count": 10,
   "id": "f1098304",
   "metadata": {},
   "outputs": [
    {
     "name": "stdout",
     "output_type": "stream",
     "text": [
      "true\n",
      "0\n"
     ]
    }
   ],
   "source": [
    "# 친구의 enode: enode://33baa42b096f4694d8ddd05cacaf8bc7fb1a0bf0fbd8e6582ac6932ed67c11cdb0e32ec4bf113595343810059bc501cadb7e0ced1da3423a59a4694dc356eafc@125.186.64.207:38445\n",
    "# 친구의 주소: 0x85029c4088106a959727efdf3102d511bdcb4722\n",
    "!geth --exec \"admin.addPeer('enode://33baa42b096f4694d8ddd05cacaf8bc7fb1a0bf0fbd8e6582ac6932ed67c11cdb0e32ec4bf113595343810059bc501cadb7e0ced1da3423a59a4694dc356eafc@125.186.64.207:38445')\" attach http://localhost:8445\n",
    "!geth --exec \"eth.getBalance('0x85029c4088106a959727efdf3102d511bdcb4722')\" attach http://localhost:8445"
   ]
  },
  {
   "cell_type": "markdown",
   "id": "040a372f",
   "metadata": {},
   "source": [
    "- 친구를 Peer로 추가를 시도하고 친구의 주소에서 잔고를 출력해봤을 때 0으로 출력된 이유는 Peer로 추가하는 것이 실패했기 때문이다. 그 이유는 Peer는 정적 IP를 가지고 있어야 하지만 각 집의 IP는 동적 IP이기 때문이라고 생각한다."
   ]
  },
  {
   "cell_type": "code",
   "execution_count": 12,
   "id": "5665d23d",
   "metadata": {},
   "outputs": [
    {
     "name": "stdout",
     "output_type": "stream",
     "text": [
      "Writing src/transaction.js\n"
     ]
    }
   ],
   "source": [
    "%%writefile src/transaction.js\n",
    "miner.setEtherbase(eth.accounts[0]);\n",
    "var bal1=eth.getBalance(eth.coinbase);\n",
    "var bal2=eth.getBalance(eth.accounts[1]);\n",
    "console.log('sender balance in ether: ', web3.fromWei(bal1,\"ether\"));\n",
    "console.log('receiver balance in ether: ', web3.fromWei(bal2,\"ether\"));\n",
    "h = eth.sendTransaction({from:eth.coinbase, to:eth.accounts[1],value:10000});\n",
    "console.log('...mining start');\n",
    "miner.start(1);admin.sleepBlocks(1);miner.stop();\n",
    "console.log('mining done...');\n",
    "var bal1new=eth.getBalance(eth.coinbase);\n",
    "var bal2new=eth.getBalance(eth.accounts[1]);\n",
    "console.log('- new sender balance in ether: ', web3.fromWei(bal1new,\"ether\"));\n",
    "console.log('- new receiver balance in ether: ', web3.fromWei(bal2new,\"ether\"));\n",
    "console.log('- used gas: ', eth.getTransactionReceipt(h).gasUsed);"
   ]
  },
  {
   "cell_type": "code",
   "execution_count": 13,
   "id": "5ad1d64a",
   "metadata": {},
   "outputs": [
    {
     "name": "stdout",
     "output_type": "stream",
     "text": [
      "sender balance in ether:  440\n",
      "receiver balance in ether:  420\n",
      "...mining start\n",
      "mining done...\n",
      "- new sender balance in ether:  444.99999999999999\n",
      "- new receiver balance in ether:  420.00000000000001\n",
      "- used gas:  21000\n",
      "true\n"
     ]
    }
   ],
   "source": [
    "!geth --exec \"loadScript('src/transaction.js')\" attach http://localhost:8445"
   ]
  },
  {
   "cell_type": "markdown",
   "id": "32c4470c",
   "metadata": {},
   "source": [
    "## 연습문제 3\n",
    "\n",
    "블록헤더 데이터의 해시 값에 NONCE를 증가시키면서\n",
    "\n",
    "앞 자리의 0의 개수를 맞출 때까지 반복한다."
   ]
  },
  {
   "cell_type": "markdown",
   "id": "791a4477",
   "metadata": {},
   "source": [
    "### (1) 찾고자 하는 해시가 ```0000```로 시작한다고 하자. 몇 회만에 찾는지 출력하세요."
   ]
  },
  {
   "cell_type": "code",
   "execution_count": 18,
   "id": "a1827b0d",
   "metadata": {},
   "outputs": [
    {
     "name": "stdout",
     "output_type": "stream",
     "text": [
      "Solved  NONCE:  19834 guessHash:  0000196427f62eef38108c28c6f85c3d0992cc96c0e1f0a6bf2a7bd4e9a33686\n"
     ]
    }
   ],
   "source": [
    "import hashlib\n",
    "ntry=1\n",
    "found=False\n",
    "blockNumber=209\n",
    "NONCE=0\n",
    "data='Hello'\n",
    "previousHash='5d7c7ba21cbbcd75d14800b100252d5b428e5b1213d27c385bc141ca6b47989e'\n",
    "while found==False:\n",
    "    z=str(blockNumber)+str(NONCE)+data+previousHash\n",
    "    guessHash=hashlib.sha256(z.encode('utf-8')).hexdigest()\n",
    "    if guessHash[:4]=='0000':\n",
    "        found=True\n",
    "    NONCE+=1\n",
    "print(\"Solved \", \"NONCE: \", NONCE, \"guessHash: \", guessHash)"
   ]
  },
  {
   "cell_type": "markdown",
   "id": "cd082a6d",
   "metadata": {},
   "source": [
    "### (2) 찾고자 하는 해시가 ```00000```로 시작한다고 하자. 몇 회만에 찾는지 출력하세요."
   ]
  },
  {
   "cell_type": "code",
   "execution_count": 19,
   "id": "c86da618",
   "metadata": {},
   "outputs": [
    {
     "name": "stdout",
     "output_type": "stream",
     "text": [
      "Solved  NONCE:  1404206 guessHash:  000007522ae78b62d7dbcf71284ab3196cf06f9230e1adec05c3dbdb6791bb4b\n"
     ]
    }
   ],
   "source": [
    "found=False\n",
    "blockNumber=209\n",
    "NONCE=0\n",
    "data='Hello'\n",
    "previousHash='5d7c7ba21cbbcd75d14800b100252d5b428e5b1213d27c385bc141ca6b47989e'\n",
    "while found==False:\n",
    "    z=str(blockNumber)+str(NONCE)+data+previousHash\n",
    "    guessHash=hashlib.sha256(z.encode('utf-8')).hexdigest()\n",
    "    if guessHash[:5]=='00000':\n",
    "        found=True\n",
    "    NONCE+=1\n",
    "print(\"Solved \", \"NONCE: \", NONCE, \"guessHash: \", guessHash)"
   ]
  },
  {
   "cell_type": "markdown",
   "id": "69bf1ac3",
   "metadata": {},
   "source": [
    "### (3) 찾고자 하는 해시가 ```000000```로 시작한다고 하자. 몇 회만에 찾는지 출력하세요."
   ]
  },
  {
   "cell_type": "code",
   "execution_count": 20,
   "id": "02692fda",
   "metadata": {},
   "outputs": [
    {
     "name": "stdout",
     "output_type": "stream",
     "text": [
      "Solved  NONCE:  17888522 guessHash:  0000005d07436e40827045b6ef724e2ccd292db333d38e0130d1dc22d867e5e2\n"
     ]
    }
   ],
   "source": [
    "found=False\n",
    "blockNumber=209\n",
    "NONCE=0\n",
    "data='Hello'\n",
    "previousHash='5d7c7ba21cbbcd75d14800b100252d5b428e5b1213d27c385bc141ca6b47989e'\n",
    "while found==False:\n",
    "    z=str(blockNumber)+str(NONCE)+data+previousHash\n",
    "    guessHash=hashlib.sha256(z.encode('utf-8')).hexdigest()\n",
    "    if guessHash[:6]=='000000':\n",
    "        found=True\n",
    "    NONCE+=1\n",
    "print(\"Solved \", \"NONCE: \", NONCE, \"guessHash: \", guessHash)"
   ]
  },
  {
   "cell_type": "markdown",
   "id": "3f7aefe0",
   "metadata": {},
   "source": [
    "### 난이도가 어떤 경우가 높았으며, 난이도에 따라 찾는 회수의 차이가 있는지 설명하세요."
   ]
  },
  {
   "cell_type": "markdown",
   "id": "5f1f8e05",
   "metadata": {},
   "source": [
    "- (3) 찾고자 하는 해시가 000000로 시작할 때의 난이도가 가장 높았다. 난이도가 높을 수록 찾는 회수도 많이 늘었고 이에 따라 Solved NONCE 값도 크게 증가하였다."
   ]
  }
 ],
 "metadata": {
  "kernelspec": {
   "display_name": "Python 3 (ipykernel)",
   "language": "python",
   "name": "python3"
  },
  "language_info": {
   "codemirror_mode": {
    "name": "ipython",
    "version": 3
   },
   "file_extension": ".py",
   "mimetype": "text/x-python",
   "name": "python",
   "nbconvert_exporter": "python",
   "pygments_lexer": "ipython3",
   "version": "3.9.7"
  }
 },
 "nbformat": 4,
 "nbformat_minor": 5
}
