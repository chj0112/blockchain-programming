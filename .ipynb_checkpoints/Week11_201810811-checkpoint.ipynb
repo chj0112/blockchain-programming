{
 "cells": [
  {
   "cell_type": "markdown",
   "id": "5930dfd7",
   "metadata": {},
   "source": [
    "# 블록체인프로그래밍 11주\n",
    "## 은행 컨트랙 구현"
   ]
  },
  {
   "cell_type": "code",
   "execution_count": 1,
   "id": "8f8583bc",
   "metadata": {},
   "outputs": [
    {
     "name": "stdout",
     "output_type": "stream",
     "text": [
      "Overwriting src/Bank.sol\n"
     ]
    }
   ],
   "source": [
    "%%writefile src/Bank.sol\n",
    "//SPDX-License-Identifier: GPL-3.0-or-later\n",
    "pragma solidity ^0.8.0;\n",
    "\n",
    "contract Bank {\n",
    "    address owner;\n",
    "    uint balance;\n",
    "    \n",
    "    event PrintLog(address from, uint amount);\n",
    "    constructor() {\n",
    "        owner = msg.sender;\n",
    "        balance = 0;\n",
    "    }\n",
    "    receive() external payable {\n",
    "        \n",
    "    }\n",
    "    fallback() external payable {\n",
    "        balance += msg.value;\n",
    "        emit PrintLog(msg.sender, msg.value);\n",
    "    }\n",
    "    function deposit(uint amount) public payable {\n",
    "        require(msg.value == amount);\n",
    "        balance += amount;\n",
    "    }\n",
    "    function withdrawAll() public onlyOwner minBalance {\n",
    "        balance -= address(this).balance;\n",
    "        payable(msg.sender).transfer(address(this).balance); \n",
    "    }\n",
    "    function getBalance() public view returns(uint, uint) {\n",
    "        return (address(this).balance, balance);\n",
    "    }\n",
    "    function forwardTo(address payable _receiver) public payable onlyOwner {\n",
    "        _receiver.transfer(msg.value);\n",
    "    }\n",
    "    modifier onlyOwner {\n",
    "        require(msg.sender == owner);\n",
    "        _;\n",
    "    }\n",
    "    modifier minBalance {\n",
    "        require(address(this).balance>101 wei);\n",
    "        _;\n",
    "    }\n",
    "}"
   ]
  },
  {
   "cell_type": "markdown",
   "id": "6d0ea21e",
   "metadata": {},
   "source": [
    "## 컴파일"
   ]
  },
  {
   "cell_type": "code",
   "execution_count": 2,
   "id": "2798e5e0",
   "metadata": {},
   "outputs": [],
   "source": [
    "!solc-windows.exe --optimize --combined-json abi,bin src/Bank.sol > src/Bank.json"
   ]
  },
  {
   "cell_type": "markdown",
   "id": "8883c6b4",
   "metadata": {},
   "source": [
    "## 배포"
   ]
  },
  {
   "cell_type": "code",
   "execution_count": 9,
   "id": "7cfeef66",
   "metadata": {},
   "outputs": [
    {
     "name": "stdout",
     "output_type": "stream",
     "text": [
      "Overwriting src/BankDeployFromFile.js\n"
     ]
    }
   ],
   "source": [
    "%%writefile src/BankDeployFromFile.js\n",
    "var Web3 = require('web3');\n",
    "var _abiBinJson = require('./Bank.json');      //importing a javascript file\n",
    "\n",
    "var web3 = new Web3(new Web3.providers.HttpProvider(\"http://localhost:8345\"));\n",
    "\n",
    "contractName=Object.keys(_abiBinJson.contracts); // reading ['src/BankV3.sol:BankV3']\n",
    "console.log(\"- contract name: \", contractName);\n",
    "_abi=_abiBinJson.contracts[contractName].abi;\n",
    "_abiArray=JSON.parse(JSON.stringify(_abi));\n",
    "//_abiArray=JSON.parse(_abi);      //JSON parsing needed!! //SyntaxError: Unexpected token o in JSON at position 1\n",
    "_bin=_abiBinJson.contracts[contractName].bin;\n",
    "\n",
    "//console.log(\"- ABI: \" + _abiArray);\n",
    "//console.log(\"- Bytecode: \" + _bin);\n",
    "\n",
    "async function deploy() {\n",
    "    const accounts = await web3.eth.getAccounts();\n",
    "    console.log(\"Deploying the contract from \" + accounts[0]);\n",
    "    var deployed = await new web3.eth.Contract(_abiArray)\n",
    "        .deploy({data: \"0x\"+_bin})\n",
    "        .send({from: accounts[0], gas: 259210}, function(err, transactionHash) {\n",
    "                if(!err) console.log(\"hash: \" + transactionHash); \n",
    "        })\n",
    "        //.then(function(newContractInstance){\n",
    "        //    console.log(newContractInstance)\n",
    "        //});\n",
    "    console.log(\"---> The contract deployed to: \" + deployed.options.address)\n",
    "}\n",
    "deploy()"
   ]
  },
  {
   "cell_type": "code",
   "execution_count": 10,
   "id": "55ae21fe",
   "metadata": {},
   "outputs": [
    {
     "name": "stdout",
     "output_type": "stream",
     "text": [
      "- contract name:  [ 'src/Bank.sol:Bank' ]\n",
      "Deploying the contract from 0x1F0Dd3e2e8b630e9059F448f86A9765D76B72647\n",
      "hash: 0x087484bb1dc93f1f1fbaf2660a71dc5b3d8f1b07ab03e111342497ad464b3fa4\n",
      "---> The contract deployed to: 0xA0376EB2e9274900772cAa2d676235790513a280\n"
     ]
    }
   ],
   "source": [
    "!node src/BankDeployFromFile.js"
   ]
  },
  {
   "cell_type": "markdown",
   "id": "c0870770",
   "metadata": {},
   "source": [
    "## 사용"
   ]
  },
  {
   "cell_type": "code",
   "execution_count": 11,
   "id": "37fe94fa",
   "metadata": {},
   "outputs": [
    {
     "name": "stdout",
     "output_type": "stream",
     "text": [
      "Overwriting src/BankUse.js\n"
     ]
    }
   ],
   "source": [
    "%%writefile src/BankUse.js\n",
    "var Web3=require('web3');\n",
    "var _abiBinJson = require('./Bank.json');      //importing a javascript file\n",
    "\n",
    "//var web3 = new Web3(new Web3.providers.HttpProvider(\"http://localhost:8345\"));\n",
    "var web3 = new Web3(new Web3.providers.WebsocketProvider(\"ws://localhost:8345\"));\n",
    "contractName=Object.keys(_abiBinJson.contracts); // reading ['src/Bank.sol:Bank']\n",
    "//console.log(\"- contract name: \", contractName); //or console.log(contractName[0]);\n",
    "_abiArray=_abiBinJson.contracts[contractName].abi; //use just as read from file\n",
    "//_abiArray=JSON.parse(JSON.stringify(_abi));\n",
    "//_abiArray=JSON.parse(_abi);      //JSON parsing needed!!\n",
    "//_bin=_abiBinJson.contracts[contractName].bin;\n",
    "//console.log(\"- ABI: \" + _abiArray);\n",
    "//console.log(\"- Bytecode: \" + _bin);\n",
    "var bank = new web3.eth.Contract(_abiArray,\"0xA0376EB2e9274900772cAa2d676235790513a280\");\n",
    "var event = bank.events.PrintLog(function (error, result) {\n",
    "    if (!error)\n",
    "        console.log(\"Event fired: \" + JSON.stringify(result.returnValues));\n",
    "});\n",
    "//console.log(bank.sendTo(0x778ea91cb0d0879c22ca20c5aea6fbf8cbeed480, 100,{from:web3.eth.accounts[0],gas:100000}));\n",
    "\n",
    "async function doIt() {\n",
    "    const accounts = await web3.eth.getAccounts();\n",
    "    await bank.methods.deposit(11111).send({from: accounts[0], value: 11111});\n",
    "    await bank.methods.deposit(222).send({from: accounts[0], value: 222});\n",
    "    const bal1 = await bank.methods.getBalance().call()\n",
    "    console.log(\"1. contract balance after deposit 11111 wei, 222 wei:\", bal1, \"\\n\");\n",
    "    const balance2Before = await web3.eth.getBalance(accounts[1]);\n",
    "    await bank.methods.forwardTo(accounts[1]).send({from: accounts[0], value: 333});\n",
    "    const bal2 = await bank.methods.getBalance().call()\n",
    "    console.log(\"2. contract balance after transfer 333 wei:\", bal2);\n",
    "    const balance2After = await web3.eth.getBalance(accounts[1]);\n",
    "    console.log(\"before: \", balance2Before);\n",
    "    console.log(\"after: \", balance2After);\n",
    "    console.log(\"2nd account balance difference: \", balance2After-balance2Before, \"\\n\");\n",
    "    const balanceBefore = await web3.eth.getBalance(accounts[0]);\n",
    "    await bank.methods.withdrawAll().send({from: accounts[0]});\n",
    "    const balanceAfter = await web3.eth.getBalance(accounts[0]);\n",
    "    const bal3 = await bank.methods.getBalance().call()\n",
    "    console.log(\"3. contract balance after withdraw all:\", bal3);\n",
    "    console.log(\"before: \", balanceBefore);\n",
    "    console.log(\"after: \", balanceAfter);\n",
    "    console.log(\"account balance difference: \", balanceAfter-balanceBefore, \"\\n\");\n",
    "    await web3.eth.sendTransaction({from: accounts[0], to: \"0xA0376EB2e9274900772cAa2d676235790513a280\", data: \"0x11\", value: 111});\n",
    "    const bal4 = await bank.methods.getBalance().call();\n",
    "    console.log(\"4. contract balance after fallback called:\", bal4);\n",
    "    process.exit(1);\n",
    "}\n",
    "doIt()"
   ]
  },
  {
   "cell_type": "code",
   "execution_count": 12,
   "id": "ea6e5616",
   "metadata": {
    "scrolled": false
   },
   "outputs": [
    {
     "name": "stdout",
     "output_type": "stream",
     "text": [
      "1. contract balance after deposit 11111 wei, 222 wei: Result { '0': '11333', '1': '11333' } \n",
      "\n",
      "2. contract balance after transfer 333 wei: Result { '0': '11333', '1': '11333' }\n",
      "before:  1000000000000000000000\n",
      "after:  1000000000000000000333\n",
      "2nd account balance difference:  0 \n",
      "\n",
      "3. contract balance after withdraw all: Result { '0': '0', '1': '0' }\n",
      "before:  999999342119999988334\n",
      "after:  999999280961999999667\n",
      "account balance difference:  -61158000033792 \n",
      "\n",
      "Event fired: {\"0\":\"0x1F0Dd3e2e8b630e9059F448f86A9765D76B72647\",\"1\":\"111\",\"from\":\"0x1F0Dd3e2e8b630e9059F448f86A9765D76B72647\",\"amount\":\"111\"}\n",
      "4. contract balance after fallback called: Result { '0': '111', '1': '111' }\n"
     ]
    }
   ],
   "source": [
    "!node src/BankUse.js"
   ]
  },
  {
   "cell_type": "markdown",
   "id": "3290d5e8",
   "metadata": {},
   "source": [
    "## 결과 의견\n",
    "* 2번에서 계좌이체할 때 컨트랙에서 돈이 빠져나가는 것이 아니라 호출계정에서 돈이 빠져나가므로 컨트랙의 잔고는 변하지 않는다.\n",
    "* 2번에서 계좌이체할 때 after에서 정상적으로 333 wei가 증가한 것으로 출력되지만 balance difference를 구할 때 뺄셈이 정상적으로 되지 않는다.\n",
    "* 3번에서 withdrawAll 실행 시 관측하는 계정이 coinbase이므로 before와 after를 비교했을 때 값이 이상하지만, 뒤에 5자리만 봤을 때 11333 wei가 정상적으로 들어왔음을 알 수 있다.\n",
    "* 3번에서 위의 2번에서와 마찬가지로 difference를 구할 때 뺄셈이 정상적으로 되지 않는다."
   ]
  }
 ],
 "metadata": {
  "kernelspec": {
   "display_name": "Python 3 (ipykernel)",
   "language": "python",
   "name": "python3"
  },
  "language_info": {
   "codemirror_mode": {
    "name": "ipython",
    "version": 3
   },
   "file_extension": ".py",
   "mimetype": "text/x-python",
   "name": "python",
   "nbconvert_exporter": "python",
   "pygments_lexer": "ipython3",
   "version": "3.9.7"
  }
 },
 "nbformat": 4,
 "nbformat_minor": 5
}
