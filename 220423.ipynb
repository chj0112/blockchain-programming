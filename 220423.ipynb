{
 "cells": [
  {
   "cell_type": "markdown",
   "id": "c8893567",
   "metadata": {},
   "source": [
    "# Counter DApp"
   ]
  },
  {
   "cell_type": "code",
   "execution_count": 1,
   "id": "e18b90bb",
   "metadata": {},
   "outputs": [
    {
     "name": "stdout",
     "output_type": "stream",
     "text": [
      "Writing src/Counter.sol\n"
     ]
    }
   ],
   "source": [
    "%%writefile src/Counter.sol\n",
    "pragma solidity ^0.4.0;\n",
    "contract Counter {\n",
    "    uint256 counter = 0;\n",
    "    function add() public {\n",
    "        counter++;\n",
    "    }\n",
    "    function subtract() public {\n",
    "        counter--;\n",
    "    }\n",
    "    function getCounter() public view returns (uint256) {\n",
    "        return counter;\n",
    "    }\n",
    "}"
   ]
  },
  {
   "cell_type": "code",
   "execution_count": 3,
   "id": "e4eb2f28",
   "metadata": {},
   "outputs": [],
   "source": [
    "!solc --optimize --combined-json abi,bin src/Counter.sol > src/Counter.json"
   ]
  },
  {
   "cell_type": "code",
   "execution_count": 4,
   "id": "5711cac7",
   "metadata": {},
   "outputs": [
    {
     "name": "stdout",
     "output_type": "stream",
     "text": [
      "{\"contracts\":{\"src/Counter.sol:Counter\":{\"abi\":\"[{\\\"constant\\\":false,\\\"inputs\\\":[],\\\"name\\\":\\\"add\\\",\\\"outputs\\\":[],\\\"payable\\\":false,\\\"stateMutability\\\":\\\"nonpayable\\\",\\\"type\\\":\\\"function\\\"},{\\\"constant\\\":false,\\\"inputs\\\":[],\\\"name\\\":\\\"subtract\\\",\\\"outputs\\\":[],\\\"payable\\\":false,\\\"stateMutability\\\":\\\"nonpayable\\\",\\\"type\\\":\\\"function\\\"},{\\\"constant\\\":true,\\\"inputs\\\":[],\\\"name\\\":\\\"getCounter\\\",\\\"outputs\\\":[{\\\"name\\\":\\\"\\\",\\\"type\\\":\\\"uint256\\\"}],\\\"payable\\\":false,\\\"stateMutability\\\":\\\"view\\\",\\\"type\\\":\\\"function\\\"}]\",\"bin\":\"60806040526000805534801561001457600080fd5b5060ea806100236000396000f30060806040526004361060525763ffffffff7c01000000000000000000000000000000000000000000000000000000006000350416634f2be91f811460575780636deebae314606b5780638ada066e14607d575b600080fd5b348015606257600080fd5b50606960a1565b005b348015607657600080fd5b50606960ac565b348015608857600080fd5b50608f60b8565b60408051918252519081900360200190f35b600080546001019055565b60008054600019019055565b600054905600a165627a7a72305820bf086d20c7eb5431a642475bfd5137118a0044a6cbf4e1ce2cc17b5fe112db0f0029\"}},\"version\":\"0.4.25+commit.59dbf8f1.Windows.msvc\"}\n"
     ]
    }
   ],
   "source": [
    "!type src\\Counter.json"
   ]
  },
  {
   "cell_type": "code",
   "execution_count": 5,
   "id": "1694411f",
   "metadata": {},
   "outputs": [
    {
     "name": "stdout",
     "output_type": "stream",
     "text": [
      "Writing src/CounterDeployAbiBinFromFile.js\n"
     ]
    }
   ],
   "source": [
    "%%writefile src/CounterDeployAbiBinFromFile.js\n",
    "var Web3 = require('web3');\n",
    "var _abiBinJson = require('./Counter.json');      //importing a javascript file\n",
    "\n",
    "var web3 = new Web3(new Web3.providers.HttpProvider(\"http://localhost:8345\"));\n",
    "\n",
    "contractName=Object.keys(_abiBinJson.contracts); // reading ['src/Timer.sol:Timer']\n",
    "console.log(\"- contract name: \", contractName);\n",
    "_abi=_abiBinJson.contracts[contractName].abi;\n",
    "//_abiArray=JSON.parse(JSON.stringify(_abi));\n",
    "_abiArray=JSON.parse(_abi);      //JSON parsing needed!!\n",
    "_bin=_abiBinJson.contracts[contractName].bin;\n",
    "\n",
    "console.log(\"- ABI: \" + _abi);\n",
    "console.log(\"- Bytecode: \" + _bin);\n",
    "\n",
    "async function deploy() {\n",
    "    const accounts = await web3.eth.getAccounts();\n",
    "    console.log(\"Deploying the contract from \" + accounts[0]);\n",
    "    var deployed = await new web3.eth.Contract(_abiArray)\n",
    "        .deploy({data: \"0x\"+_bin})\n",
    "        .send({from: accounts[0], gas: 364124}, function(err, transactionHash) {\n",
    "                if(!err) console.log(\"hash: \" + transactionHash); \n",
    "        })\n",
    "        //.then(function(newContractInstance){\n",
    "        //    console.log(newContractInstance)\n",
    "        //});\n",
    "    console.log(\"---> The contract deployed to: \" + deployed.options.address)\n",
    "}\n",
    "deploy()"
   ]
  },
  {
   "cell_type": "code",
   "execution_count": 29,
   "id": "64fc60ac",
   "metadata": {},
   "outputs": [
    {
     "name": "stdout",
     "output_type": "stream",
     "text": [
      "- contract name:  [ 'src/Counter.sol:Counter' ]\n",
      "- ABI: [{\"constant\":false,\"inputs\":[],\"name\":\"add\",\"outputs\":[],\"payable\":false,\"stateMutability\":\"nonpayable\",\"type\":\"function\"},{\"constant\":false,\"inputs\":[],\"name\":\"subtract\",\"outputs\":[],\"payable\":false,\"stateMutability\":\"nonpayable\",\"type\":\"function\"},{\"constant\":true,\"inputs\":[],\"name\":\"getCounter\",\"outputs\":[{\"name\":\"\",\"type\":\"uint256\"}],\"payable\":false,\"stateMutability\":\"view\",\"type\":\"function\"}]\n",
      "- Bytecode: 60806040526000805534801561001457600080fd5b5060ea806100236000396000f30060806040526004361060525763ffffffff7c01000000000000000000000000000000000000000000000000000000006000350416634f2be91f811460575780636deebae314606b5780638ada066e14607d575b600080fd5b348015606257600080fd5b50606960a1565b005b348015607657600080fd5b50606960ac565b348015608857600080fd5b50608f60b8565b60408051918252519081900360200190f35b600080546001019055565b60008054600019019055565b600054905600a165627a7a72305820bf086d20c7eb5431a642475bfd5137118a0044a6cbf4e1ce2cc17b5fe112db0f0029\n",
      "Deploying the contract from 0x7455952108B0E6e559411B4B39134ff90b96Dbc7\n",
      "hash: 0x20fe6314abcb7ec2ed7388bdffd692b5e06adc6feb87b01ae94a7ea14e25ed13\n",
      "---> The contract deployed to: 0x810C6102d3a3e05B5a596022Bb4873514ea5f5Cc\n"
     ]
    }
   ],
   "source": [
    "!node src/CounterDeployAbiBinFromFile.js"
   ]
  },
  {
   "cell_type": "code",
   "execution_count": 66,
   "id": "45c7f8e2",
   "metadata": {},
   "outputs": [
    {
     "name": "stdout",
     "output_type": "stream",
     "text": [
      "Overwriting src/counterUse.js\n"
     ]
    }
   ],
   "source": [
    "%%writefile src/counterUse.js\n",
    "var Web3=require('web3');\n",
    "var _abiBinJson = require('./Counter.json');\n",
    "var web3 = new Web3(new Web3.providers.HttpProvider(\"http://localhost:8345\"));\n",
    "contractName=Object.keys(_abiBinJson.contracts);\n",
    "_abi=_abiBinJson.contracts[contractName].abi;\n",
    "_abiArray=JSON.parse(_abi);\n",
    "var counter = new web3.eth.Contract(_abiArray,\"0x810C6102d3a3e05B5a596022Bb4873514ea5f5Cc\");\n",
    "async function doIt() {\n",
    "    const accounts = await web3.eth.getAccounts();\n",
    "    console.log(\"Call from: \" + accounts[0]);\n",
    "    counter.methods.getCounter().call().then(function(str) {console.log(str);});\n",
    "    await counter.methods.add().send({from:accounts[0],gas:100000});\n",
    "    await counter.methods.add().send({from:accounts[0],gas:100000});\n",
    "    counter.methods.getCounter().call().then(function(str) {console.log(str);});\n",
    "}\n",
    "doIt()"
   ]
  },
  {
   "cell_type": "code",
   "execution_count": 67,
   "id": "c8dae989",
   "metadata": {
    "scrolled": true
   },
   "outputs": [
    {
     "name": "stdout",
     "output_type": "stream",
     "text": [
      "Call from: 0x7455952108B0E6e559411B4B39134ff90b96Dbc7\n",
      "6\n",
      "8\n"
     ]
    }
   ],
   "source": [
    "!node src/counterUse.js"
   ]
  },
  {
   "cell_type": "markdown",
   "id": "b39689f7",
   "metadata": {},
   "source": [
    "http 서버 열기\n",
    "python -m http.server 8045"
   ]
  },
  {
   "cell_type": "code",
   "execution_count": 37,
   "id": "b98c6544",
   "metadata": {},
   "outputs": [
    {
     "name": "stdout",
     "output_type": "stream",
     "text": [
      "Overwriting scripts/simpleCounter.html\n"
     ]
    }
   ],
   "source": [
    "%%writefile scripts/simpleCounter.html\n",
    "<!doctype>\n",
    "<html>\n",
    "<head>\n",
    "<script src=\"https://cdn.jsdelivr.net/npm/web3@1.2.5/dist/web3.min.js\"></script>\n",
    "<!-- script src=\"https://cdn.jsdelivr.net/npm/web3@0.20.5/dist/web3.min.js\"></script -->\n",
    "<script type=\"text/javascript\">\n",
    "    //var Web3 = require('web3');  //can be removed\n",
    "    var web3 = new Web3(new Web3.providers.HttpProvider(\"http://localhost:8345\"));\n",
    "    \n",
    "\n",
    "    function displayCounter() {\n",
    "        var web3version = web3.version;\n",
    "        document.getElementById('web3ver').innerText = 'web3 version: '+web3version;\n",
    "\n",
    "        var counterContract = new web3.eth.Contract([{\"constant\":false,\"inputs\":[],\"name\":\"add\",\"outputs\":[],\"payable\":false,\"stateMutability\":\"nonpayable\",\"type\":\"function\"},{\"constant\":false,\"inputs\":[],\"name\":\"subtract\",\"outputs\":[],\"payable\":false,\"stateMutability\":\"nonpayable\",\"type\":\"function\"},{\"constant\":true,\"inputs\":[],\"name\":\"getCounter\",\"outputs\":[{\"name\":\"\",\"type\":\"uint256\"}],\"payable\":false,\"stateMutability\":\"view\",\"type\":\"function\"}],\n",
    "                                            \"0x810C6102d3a3e05B5a596022Bb4873514ea5f5Cc\"); \n",
    "        counterContract.methods.getCounter().call().then(function(b) {\n",
    "            document.getElementById('bc').innerText = \"b: \"+b;\n",
    "        });\n",
    "        \n",
    "        counterContract.methods.getCounter().call().then(function(a) {\n",
    "            document.getElementById('ac').innerText = \"a: \"+a;\n",
    "        });\n",
    "    }\n",
    "</script>\n",
    "</head>\n",
    "<body>\n",
    "    <h1>Hello</h1>\n",
    "    <button type=\"button\" onClick=\"displayCounter();\">Display Counter</button>\n",
    "    <div></div>\n",
    "    <div id=\"web3ver\"></div>\n",
    "    <div id=\"bc\"></div>\n",
    "    <div id=\"ac\"></div>\n",
    "</body>\n",
    "</html>\n"
   ]
  },
  {
   "cell_type": "code",
   "execution_count": 38,
   "id": "117e122e",
   "metadata": {},
   "outputs": [
    {
     "name": "stdout",
     "output_type": "stream",
     "text": [
      "Overwriting scripts/simpleCounter.html\n"
     ]
    }
   ],
   "source": [
    "%%writefile scripts/simpleCounter.html\n",
    "<!doctype>\n",
    "<html>\n",
    "<head>\n",
    "<script src=\"https://cdn.jsdelivr.net/npm/web3@1.2.5/dist/web3.min.js\"></script>\n",
    "<!-- script src=\"https://cdn.jsdelivr.net/npm/web3@0.20.5/dist/web3.min.js\"></script -->\n",
    "<script type=\"text/javascript\">\n",
    "    var web3 = new Web3(new Web3.providers.HttpProvider(\"http://localhost:8345\"));\n",
    "    console.log(\"Hi\")\n",
    "    \n",
    "    async function displayCounter() {\n",
    "        const accounts = await web3.eth.getAccounts();\n",
    "        var counter = new web3.eth.Contract([{\"constant\":false,\"inputs\":[],\"name\":\"add\",\"outputs\":[],\"payable\":false,\"stateMutability\":\"nonpayable\",\"type\":\"function\"},{\"constant\":false,\"inputs\":[],\"name\":\"subtract\",\"outputs\":[],\"payable\":false,\"stateMutability\":\"nonpayable\",\"type\":\"function\"},{\"constant\":true,\"inputs\":[],\"name\":\"getCounter\",\"outputs\":[{\"name\":\"\",\"type\":\"uint256\"}],\"payable\":false,\"stateMutability\":\"view\",\"type\":\"function\"}],\n",
    "                                            \"0x810C6102d3a3e05B5a596022Bb4873514ea5f5Cc\"); \n",
    "        counter.methods.getCounter().call().then(function(str) {\n",
    "            document.getElementById('C1').innerText = \"Before : \" + str;\n",
    "        });\n",
    "        await counter.methods.add().send({from:accounts[0],gas:100000});\n",
    "        await counter.methods.add().send({from:accounts[0],gas:100000});\n",
    "        counter.methods.getCounter().call().then(function(str) {\n",
    "            document.getElementById('C2').innerText = \"After : \" + str;\n",
    "        });\n",
    "        \n",
    "    }\n",
    "</script>\n",
    "</head>\n",
    "<body>\n",
    "    <h1>Hello</h1>\n",
    "    <button type=\"button\" onClick=\"displayCounter();\">Display Counter</button>\n",
    "    <div></div>\n",
    "    <div id=\"C1\"></div>\n",
    "    <div id=\"C2\"></div>\n",
    "</body>\n",
    "</html>"
   ]
  },
  {
   "cell_type": "markdown",
   "id": "81fcbddc",
   "metadata": {},
   "source": [
    "# Counter + Timer"
   ]
  },
  {
   "cell_type": "code",
   "execution_count": 39,
   "id": "bf36f0dd",
   "metadata": {},
   "outputs": [
    {
     "name": "stdout",
     "output_type": "stream",
     "text": [
      "Writing src/TimerCounter.sol\n"
     ]
    }
   ],
   "source": [
    "%%writefile src/TimerCounter.sol\n",
    "pragma solidity ^0.4.0;\n",
    "contract Timer {\n",
    "    uint256 startTime;\n",
    "    uint256 counter = 0;\n",
    "    function start() public {\n",
    "        //startTime=now; now is deprecated as of v0.7\n",
    "        startTime=block.timestamp;\n",
    "    }\n",
    "    function timePassed() public view returns(uint256) {\n",
    "        //return now-startTime;\n",
    "        return block.timestamp-startTime;\n",
    "    }\n",
    "    function getNow() view public returns(uint) {\n",
    "        //return now;\n",
    "        return block.timestamp;\n",
    "    }\n",
    "    function add() public {\n",
    "        counter++;\n",
    "    }\n",
    "    function subtract() public {\n",
    "        counter--;\n",
    "    }\n",
    "    function getCounter() public view returns (uint256) {\n",
    "        return counter;\n",
    "    }\n",
    "}"
   ]
  },
  {
   "cell_type": "code",
   "execution_count": 41,
   "id": "00f048bb",
   "metadata": {},
   "outputs": [],
   "source": [
    "!solc --optimize --combined-json abi,bin src/TimerCounter.sol > src/TimerCounter.json"
   ]
  },
  {
   "cell_type": "code",
   "execution_count": 43,
   "id": "5a1fad75",
   "metadata": {},
   "outputs": [
    {
     "name": "stdout",
     "output_type": "stream",
     "text": [
      "{\"contracts\":{\"src/TimerCounter.sol:Timer\":{\"abi\":\"[{\\\"constant\\\":false,\\\"inputs\\\":[],\\\"name\\\":\\\"add\\\",\\\"outputs\\\":[],\\\"payable\\\":false,\\\"stateMutability\\\":\\\"nonpayable\\\",\\\"type\\\":\\\"function\\\"},{\\\"constant\\\":false,\\\"inputs\\\":[],\\\"name\\\":\\\"subtract\\\",\\\"outputs\\\":[],\\\"payable\\\":false,\\\"stateMutability\\\":\\\"nonpayable\\\",\\\"type\\\":\\\"function\\\"},{\\\"constant\\\":true,\\\"inputs\\\":[],\\\"name\\\":\\\"getCounter\\\",\\\"outputs\\\":[{\\\"name\\\":\\\"\\\",\\\"type\\\":\\\"uint256\\\"}],\\\"payable\\\":false,\\\"stateMutability\\\":\\\"view\\\",\\\"type\\\":\\\"function\\\"},{\\\"constant\\\":true,\\\"inputs\\\":[],\\\"name\\\":\\\"timePassed\\\",\\\"outputs\\\":[{\\\"name\\\":\\\"\\\",\\\"type\\\":\\\"uint256\\\"}],\\\"payable\\\":false,\\\"stateMutability\\\":\\\"view\\\",\\\"type\\\":\\\"function\\\"},{\\\"constant\\\":true,\\\"inputs\\\":[],\\\"name\\\":\\\"getNow\\\",\\\"outputs\\\":[{\\\"name\\\":\\\"\\\",\\\"type\\\":\\\"uint256\\\"}],\\\"payable\\\":false,\\\"stateMutability\\\":\\\"view\\\",\\\"type\\\":\\\"function\\\"},{\\\"constant\\\":false,\\\"inputs\\\":[],\\\"name\\\":\\\"start\\\",\\\"outputs\\\":[],\\\"payable\\\":false,\\\"stateMutability\\\":\\\"nonpayable\\\",\\\"type\\\":\\\"function\\\"}]\",\"bin\":\"6080604052600060015534801561001557600080fd5b50610168806100256000396000f3006080604052600436106100775763ffffffff7c01000000000000000000000000000000000000000000000000000000006000350416634f2be91f811461007c5780636deebae3146100935780638ada066e146100a8578063b4454253146100cf578063bbe4fd50146100e4578063be9a6555146100f9575b600080fd5b34801561008857600080fd5b5061009161010e565b005b34801561009f57600080fd5b50610091610118565b3480156100b457600080fd5b506100bd610124565b60408051918252519081900360200190f35b3480156100db57600080fd5b506100bd61012a565b3480156100f057600080fd5b506100bd610132565b34801561010557600080fd5b50610091610136565b6001805481019055565b60018054600019019055565b60015490565b600054420390565b4290565b426000555600a165627a7a72305820decb94b759078ba1a53526a99420018df83c95579f0213e4336a91bdc7fe28e90029\"}},\"version\":\"0.4.25+commit.59dbf8f1.Windows.msvc\"}\n"
     ]
    }
   ],
   "source": [
    "!type src\\TimerCounter.json"
   ]
  },
  {
   "cell_type": "code",
   "execution_count": 44,
   "id": "9f065a50",
   "metadata": {},
   "outputs": [
    {
     "name": "stdout",
     "output_type": "stream",
     "text": [
      "Writing src/TimerCounterDeployAbiBinFromFile.js\n"
     ]
    }
   ],
   "source": [
    "%%writefile src/TimerCounterDeployAbiBinFromFile.js\n",
    "var Web3 = require('web3');\n",
    "var _abiBinJson = require('./TimerCounter.json');      //importing a javascript file\n",
    "\n",
    "var web3 = new Web3(new Web3.providers.HttpProvider(\"http://localhost:8345\"));\n",
    "\n",
    "contractName=Object.keys(_abiBinJson.contracts);\n",
    "console.log(\"- contract name: \", contractName);\n",
    "_abi=_abiBinJson.contracts[contractName].abi;\n",
    "//_abiArray=JSON.parse(JSON.stringify(_abi));\n",
    "_abiArray=JSON.parse(_abi);      //JSON parsing needed!!\n",
    "_bin=_abiBinJson.contracts[contractName].bin;\n",
    "\n",
    "console.log(\"- ABI: \" + _abi);\n",
    "console.log(\"- Bytecode: \" + _bin);\n",
    "\n",
    "async function deploy() {\n",
    "    const accounts = await web3.eth.getAccounts();\n",
    "    console.log(\"Deploying the contract from \" + accounts[0]);\n",
    "    var deployed = await new web3.eth.Contract(_abiArray)\n",
    "        .deploy({data: \"0x\"+_bin})\n",
    "        .send({from: accounts[0], gas: 364124}, function(err, transactionHash) {\n",
    "                if(!err) console.log(\"hash: \" + transactionHash); \n",
    "        })\n",
    "        //.then(function(newContractInstance){\n",
    "        //    console.log(newContractInstance)\n",
    "        //});\n",
    "    console.log(\"---> The contract deployed to: \" + deployed.options.address)\n",
    "}\n",
    "deploy()"
   ]
  },
  {
   "cell_type": "code",
   "execution_count": 45,
   "id": "2b01625d",
   "metadata": {},
   "outputs": [
    {
     "name": "stdout",
     "output_type": "stream",
     "text": [
      "- contract name:  [ 'src/TimerCounter.sol:Timer' ]\n",
      "- ABI: [{\"constant\":false,\"inputs\":[],\"name\":\"add\",\"outputs\":[],\"payable\":false,\"stateMutability\":\"nonpayable\",\"type\":\"function\"},{\"constant\":false,\"inputs\":[],\"name\":\"subtract\",\"outputs\":[],\"payable\":false,\"stateMutability\":\"nonpayable\",\"type\":\"function\"},{\"constant\":true,\"inputs\":[],\"name\":\"getCounter\",\"outputs\":[{\"name\":\"\",\"type\":\"uint256\"}],\"payable\":false,\"stateMutability\":\"view\",\"type\":\"function\"},{\"constant\":true,\"inputs\":[],\"name\":\"timePassed\",\"outputs\":[{\"name\":\"\",\"type\":\"uint256\"}],\"payable\":false,\"stateMutability\":\"view\",\"type\":\"function\"},{\"constant\":true,\"inputs\":[],\"name\":\"getNow\",\"outputs\":[{\"name\":\"\",\"type\":\"uint256\"}],\"payable\":false,\"stateMutability\":\"view\",\"type\":\"function\"},{\"constant\":false,\"inputs\":[],\"name\":\"start\",\"outputs\":[],\"payable\":false,\"stateMutability\":\"nonpayable\",\"type\":\"function\"}]\n",
      "- Bytecode: 6080604052600060015534801561001557600080fd5b50610168806100256000396000f3006080604052600436106100775763ffffffff7c01000000000000000000000000000000000000000000000000000000006000350416634f2be91f811461007c5780636deebae3146100935780638ada066e146100a8578063b4454253146100cf578063bbe4fd50146100e4578063be9a6555146100f9575b600080fd5b34801561008857600080fd5b5061009161010e565b005b34801561009f57600080fd5b50610091610118565b3480156100b457600080fd5b506100bd610124565b60408051918252519081900360200190f35b3480156100db57600080fd5b506100bd61012a565b3480156100f057600080fd5b506100bd610132565b34801561010557600080fd5b50610091610136565b6001805481019055565b60018054600019019055565b60015490565b600054420390565b4290565b426000555600a165627a7a72305820decb94b759078ba1a53526a99420018df83c95579f0213e4336a91bdc7fe28e90029\n",
      "Deploying the contract from 0x7455952108B0E6e559411B4B39134ff90b96Dbc7\n",
      "hash: 0x3d267610af5dd722ec82ea376413096b215b929e1b2a5921bfeafdf02608137f\n",
      "---> The contract deployed to: 0x2d0a3808593D3EF9cFE89f794B568360CBb77d9E\n"
     ]
    }
   ],
   "source": [
    "!node src/TimerCounterDeployAbiBinFromFile.js"
   ]
  },
  {
   "cell_type": "code",
   "execution_count": 64,
   "id": "464b713f",
   "metadata": {},
   "outputs": [
    {
     "name": "stdout",
     "output_type": "stream",
     "text": [
      "Overwriting src/timerCounterUse.js\n"
     ]
    }
   ],
   "source": [
    "%%writefile src/timerCounterUse.js\n",
    "var Web3=require('web3');\n",
    "var _abiBinJson = require('./TimerCounter.json');\n",
    "var web3 = new Web3(new Web3.providers.HttpProvider(\"http://localhost:8345\"));\n",
    "contractName=Object.keys(_abiBinJson.contracts);\n",
    "_abi=_abiBinJson.contracts[contractName].abi;\n",
    "_abiArray=JSON.parse(_abi);\n",
    "var TC = new web3.eth.Contract(_abiArray,\"0x2d0a3808593D3EF9cFE89f794B568360CBb77d9E\");\n",
    "async function doIt() {\n",
    "    const accounts = await web3.eth.getAccounts();\n",
    "    console.log(\"Call from: \" + accounts[0]);\n",
    "    var start = await TC.methods.getNow().call();\n",
    "    console.log(\"start time: \"+ start);\n",
    "    TC.methods.getCounter().call().then(function(str) {console.log(\"before: \"+str);});\n",
    "    await TC.methods.add().send({from:accounts[0],gas:100000});\n",
    "    await TC.methods.add().send({from:accounts[0],gas:100000});\n",
    "    await TC.methods.add().send({from:accounts[0],gas:100000});\n",
    "    var stop = await TC.methods.getNow().call();\n",
    "    console.log(\"stop time: \"+ stop);\n",
    "    TC.methods.getCounter().call().then(function(str) {console.log(\"after: \"+str);});\n",
    "    var time = await stop - start;\n",
    "    console.log(\"time: \"+ time);\n",
    "    \n",
    "}\n",
    "doIt()"
   ]
  },
  {
   "cell_type": "code",
   "execution_count": 65,
   "id": "3430172b",
   "metadata": {},
   "outputs": [
    {
     "name": "stdout",
     "output_type": "stream",
     "text": [
      "Call from: 0x7455952108B0E6e559411B4B39134ff90b96Dbc7\n",
      "start time: 1650719752\n",
      "before: 9\n",
      "stop time: 1650719818\n",
      "time: 66\n",
      "after: 12\n"
     ]
    }
   ],
   "source": [
    "!node src/timerCounterUse.js"
   ]
  }
 ],
 "metadata": {
  "kernelspec": {
   "display_name": "Python 3 (ipykernel)",
   "language": "python",
   "name": "python3"
  },
  "language_info": {
   "codemirror_mode": {
    "name": "ipython",
    "version": 3
   },
   "file_extension": ".py",
   "mimetype": "text/x-python",
   "name": "python",
   "nbconvert_exporter": "python",
   "pygments_lexer": "ipython3",
   "version": "3.9.7"
  }
 },
 "nbformat": 4,
 "nbformat_minor": 5
}
