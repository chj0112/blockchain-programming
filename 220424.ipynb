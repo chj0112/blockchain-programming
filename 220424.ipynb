{
 "cells": [
  {
   "cell_type": "code",
   "execution_count": 1,
   "id": "4f08f4d0",
   "metadata": {},
   "outputs": [
    {
     "name": "stdout",
     "output_type": "stream",
     "text": [
      "Writing src/Multiply7.sol\n"
     ]
    }
   ],
   "source": [
    "%%writefile src/Multiply7.sol\n",
    "pragma solidity ^0.4.0;\n",
    "\n",
    "contract Multiply7 {\n",
    "   function multiply(uint input) public pure returns (uint) {\n",
    "      return input * 7;\n",
    "   }\n",
    "}"
   ]
  },
  {
   "cell_type": "code",
   "execution_count": 2,
   "id": "eca28526",
   "metadata": {},
   "outputs": [],
   "source": [
    "!solc --optimize --combined-json abi,bin src/Multiply7.sol > src/Multiply7.json"
   ]
  },
  {
   "cell_type": "code",
   "execution_count": 3,
   "id": "d818afcb",
   "metadata": {},
   "outputs": [
    {
     "name": "stdout",
     "output_type": "stream",
     "text": [
      "{\"contracts\":{\"src/Multiply7.sol:Multiply7\":{\"abi\":\"[{\\\"constant\\\":true,\\\"inputs\\\":[{\\\"name\\\":\\\"input\\\",\\\"type\\\":\\\"uint256\\\"}],\\\"name\\\":\\\"multiply\\\",\\\"outputs\\\":[{\\\"name\\\":\\\"\\\",\\\"type\\\":\\\"uint256\\\"}],\\\"payable\\\":false,\\\"stateMutability\\\":\\\"pure\\\",\\\"type\\\":\\\"function\\\"}]\",\"bin\":\"6080604052348015600f57600080fd5b50609c8061001e6000396000f300608060405260043610603e5763ffffffff7c0100000000000000000000000000000000000000000000000000000000600035041663c6888fa181146043575b600080fd5b348015604e57600080fd5b506058600435606a565b60408051918252519081900360200190f35b600702905600a165627a7a723058205a16997a8192f08fa12e17ef374d02d73df7f5952e0f0d87724151b1da4a368e0029\"}},\"version\":\"0.4.25+commit.59dbf8f1.Windows.msvc\"}\n"
     ]
    }
   ],
   "source": [
    "!type src\\Multiply7.json"
   ]
  },
  {
   "cell_type": "code",
   "execution_count": 4,
   "id": "52d7c523",
   "metadata": {},
   "outputs": [
    {
     "name": "stdout",
     "output_type": "stream",
     "text": [
      "Writing src/Multiply7DeployAbiBinFromFile.js\n"
     ]
    }
   ],
   "source": [
    "%%writefile src/Multiply7DeployAbiBinFromFile.js\n",
    "var Web3 = require('web3');\n",
    "var _abiBinJson = require('./Multiply7.json');      //importing a javascript file\n",
    "\n",
    "var web3 = new Web3(new Web3.providers.HttpProvider(\"http://localhost:8345\"));\n",
    "\n",
    "contractName=Object.keys(_abiBinJson.contracts); // reading ['src/Timer.sol:Timer']\n",
    "console.log(\"- contract name: \", contractName);\n",
    "_abi=_abiBinJson.contracts[contractName].abi;\n",
    "//_abiArray=JSON.parse(JSON.stringify(_abi));\n",
    "_abiArray=JSON.parse(_abi);      //JSON parsing needed!!\n",
    "_bin=_abiBinJson.contracts[contractName].bin;\n",
    "\n",
    "console.log(\"- ABI: \" + _abi);\n",
    "console.log(\"- Bytecode: \" + _bin);\n",
    "\n",
    "async function deploy() {\n",
    "    const accounts = await web3.eth.getAccounts();\n",
    "    console.log(\"Deploying the contract from \" + accounts[0]);\n",
    "    var deployed = await new web3.eth.Contract(_abiArray)\n",
    "        .deploy({data: \"0x\"+_bin})\n",
    "        .send({from: accounts[0], gas: 364124}, function(err, transactionHash) {\n",
    "                if(!err) console.log(\"hash: \" + transactionHash); \n",
    "        })\n",
    "        //.then(function(newContractInstance){\n",
    "        //    console.log(newContractInstance)\n",
    "        //});\n",
    "    console.log(\"---> The contract deployed to: \" + deployed.options.address)\n",
    "}\n",
    "deploy()"
   ]
  },
  {
   "cell_type": "code",
   "execution_count": 6,
   "id": "d471f177",
   "metadata": {},
   "outputs": [
    {
     "name": "stdout",
     "output_type": "stream",
     "text": [
      "- contract name:  [ 'src/Multiply7.sol:Multiply7' ]\n",
      "- ABI: [{\"constant\":true,\"inputs\":[{\"name\":\"input\",\"type\":\"uint256\"}],\"name\":\"multiply\",\"outputs\":[{\"name\":\"\",\"type\":\"uint256\"}],\"payable\":false,\"stateMutability\":\"pure\",\"type\":\"function\"}]\n",
      "- Bytecode: 6080604052348015600f57600080fd5b50609c8061001e6000396000f300608060405260043610603e5763ffffffff7c0100000000000000000000000000000000000000000000000000000000600035041663c6888fa181146043575b600080fd5b348015604e57600080fd5b506058600435606a565b60408051918252519081900360200190f35b600702905600a165627a7a723058205a16997a8192f08fa12e17ef374d02d73df7f5952e0f0d87724151b1da4a368e0029\n",
      "Deploying the contract from 0x5D301fc3F9948FA26906244a7F7E0bc49c0efc26\n",
      "hash: 0xc22d0c73b04a9a6984270ae96ff99dd2456a884f8d73d555bfbee334cf91fd93\n",
      "---> The contract deployed to: 0xA388C6253ac117DfC361c969529Aa56170Db6d72\n"
     ]
    }
   ],
   "source": [
    "!node src/Multiply7DeployAbiBinFromFile.js"
   ]
  },
  {
   "cell_type": "code",
   "execution_count": 7,
   "id": "dcd9b091",
   "metadata": {},
   "outputs": [
    {
     "name": "stdout",
     "output_type": "stream",
     "text": [
      "Writing src/multiply7Use.js\n"
     ]
    }
   ],
   "source": [
    "%%writefile src/multiply7Use.js\n",
    "var Web3=require('web3');\n",
    "var _abiBinJson = require('./multiply7.json');\n",
    "var web3 = new Web3(new Web3.providers.HttpProvider(\"http://localhost:8345\"));\n",
    "contractName=Object.keys(_abiBinJson.contracts);\n",
    "_abi=_abiBinJson.contracts[contractName].abi;\n",
    "_abiArray=JSON.parse(_abi);\n",
    "var multi = new web3.eth.Contract(_abiArray,\"0xA388C6253ac117DfC361c969529Aa56170Db6d72\");\n",
    "multi.methods.multiply(8).call().then(function(str) {console.log(str)});"
   ]
  },
  {
   "cell_type": "code",
   "execution_count": 8,
   "id": "9a233769",
   "metadata": {},
   "outputs": [
    {
     "name": "stdout",
     "output_type": "stream",
     "text": [
      "56\n"
     ]
    }
   ],
   "source": [
    "!node src/multiply7Use.js"
   ]
  },
  {
   "cell_type": "code",
   "execution_count": 10,
   "id": "7c738593",
   "metadata": {},
   "outputs": [
    {
     "name": "stdout",
     "output_type": "stream",
     "text": [
      "Writing scripts/Multi.html\n"
     ]
    }
   ],
   "source": [
    "%%writefile scripts/Multi.html\n",
    "<!doctype>\n",
    "<html>\n",
    "<head>\n",
    "<script src=\"https://cdn.jsdelivr.net/npm/web3@1.2.5/dist/web3.min.js\"></script>\n",
    "<script type=\"text/javascript\">\n",
    "    var web3 = new Web3(new Web3.providers.HttpProvider(\"http://localhost:8345\"));\n",
    "    function displayMultiply() {\n",
    "        var multiply7Contract = new web3.eth.Contract([{\"constant\":true,\"inputs\":[{\"name\":\"input\",\"type\":\"uint256\"}],\"name\":\"multiply\",\"outputs\":[{\"name\":\"\",\"type\":\"uint256\"}],\"payable\":false,\"stateMutability\":\"pure\",\"type\":\"function\"}],\n",
    "                                            \"0xA388C6253ac117DfC361c969529Aa56170Db6d72\"); \n",
    "        multiply7Contract.methods.multiply(8).call().then(function(str) {\n",
    "            document.getElementById('multi').innerText = \"result: \"+ str;\n",
    "        });\n",
    "    }\n",
    "</script>\n",
    "</head>\n",
    "<body>\n",
    "    <h1>Hello</h1>\n",
    "    <button type=\"button\" onClick=\"displayMultiply();\">Display Multiply</button>\n",
    "    <div></div>\n",
    "    <div id=\"multi\"></div>\n",
    "</body>\n",
    "</html>"
   ]
  },
  {
   "cell_type": "markdown",
   "id": "c1dd39b7",
   "metadata": {},
   "source": [
    "# isEven"
   ]
  },
  {
   "cell_type": "code",
   "execution_count": 18,
   "id": "6801b787",
   "metadata": {},
   "outputs": [
    {
     "name": "stdout",
     "output_type": "stream",
     "text": [
      "Overwriting src/Even.sol\n"
     ]
    }
   ],
   "source": [
    "%%writefile src/Even.sol\n",
    "pragma solidity ^0.4.0;\n",
    "contract Counter {\n",
    "    uint256 counter = 0;\n",
    "    function add() public {\n",
    "        counter++;\n",
    "    }\n",
    "    function subtract() public {\n",
    "        counter--;\n",
    "    }\n",
    "    function getCounter() public view returns (uint256) {\n",
    "        return counter;\n",
    "    }\n",
    "    function isEven() public view returns (string memory) {\n",
    "        if (counter % 2 == 0) return \"Even\";\n",
    "        else return \"Odd\";\n",
    "    }\n",
    "}"
   ]
  },
  {
   "cell_type": "code",
   "execution_count": 19,
   "id": "c0fbd0da",
   "metadata": {},
   "outputs": [],
   "source": [
    "!solc --optimize --combined-json abi,bin src/Even.sol > src/Even.json"
   ]
  },
  {
   "cell_type": "code",
   "execution_count": 20,
   "id": "7b675225",
   "metadata": {},
   "outputs": [
    {
     "name": "stdout",
     "output_type": "stream",
     "text": [
      "{\"contracts\":{\"src/Even.sol:Counter\":{\"abi\":\"[{\\\"constant\\\":true,\\\"inputs\\\":[],\\\"name\\\":\\\"isEven\\\",\\\"outputs\\\":[{\\\"name\\\":\\\"\\\",\\\"type\\\":\\\"string\\\"}],\\\"payable\\\":false,\\\"stateMutability\\\":\\\"view\\\",\\\"type\\\":\\\"function\\\"},{\\\"constant\\\":false,\\\"inputs\\\":[],\\\"name\\\":\\\"add\\\",\\\"outputs\\\":[],\\\"payable\\\":false,\\\"stateMutability\\\":\\\"nonpayable\\\",\\\"type\\\":\\\"function\\\"},{\\\"constant\\\":false,\\\"inputs\\\":[],\\\"name\\\":\\\"subtract\\\",\\\"outputs\\\":[],\\\"payable\\\":false,\\\"stateMutability\\\":\\\"nonpayable\\\",\\\"type\\\":\\\"function\\\"},{\\\"constant\\\":true,\\\"inputs\\\":[],\\\"name\\\":\\\"getCounter\\\",\\\"outputs\\\":[{\\\"name\\\":\\\"\\\",\\\"type\\\":\\\"uint256\\\"}],\\\"payable\\\":false,\\\"stateMutability\\\":\\\"view\\\",\\\"type\\\":\\\"function\\\"}]\",\"bin\":\"60806040526000805534801561001457600080fd5b5061020e806100246000396000f3006080604052600436106100615763ffffffff7c010000000000000000000000000000000000000000000000000000000060003504166336b166ba81146100665780634f2be91f146100f05780636deebae3146101075780638ada066e1461011c575b600080fd5b34801561007257600080fd5b5061007b610143565b6040805160208082528351818301528351919283929083019185019080838360005b838110156100b557818101518382015260200161009d565b50505050905090810190601f1680156100e25780820380516001836020036101000a031916815260200191505b509250505060405180910390f35b3480156100fc57600080fd5b506101056101c5565b005b34801561011357600080fd5b506101056101d0565b34801561012857600080fd5b506101316101dc565b60408051918252519081900360200190f35b600054606090600116151561018c575060408051808201909152600481527f4576656e0000000000000000000000000000000000000000000000000000000060208201526101c2565b5060408051808201909152600381527f4f6464000000000000000000000000000000000000000000000000000000000060208201525b90565b600080546001019055565b60008054600019019055565b600054905600a165627a7a7230582093b9e3cb63f35fc50e6b366308bce0354d5747dbd32bdb4d61bc10fe8bd7344e0029\"}},\"version\":\"0.4.25+commit.59dbf8f1.Windows.msvc\"}\n"
     ]
    }
   ],
   "source": [
    "!type src\\Even.json"
   ]
  },
  {
   "cell_type": "code",
   "execution_count": 21,
   "id": "3ee60852",
   "metadata": {},
   "outputs": [
    {
     "name": "stdout",
     "output_type": "stream",
     "text": [
      "Writing src/EvenDeployAbiBinFromFile.js\n"
     ]
    }
   ],
   "source": [
    "%%writefile src/EvenDeployAbiBinFromFile.js\n",
    "var Web3 = require('web3');\n",
    "var _abiBinJson = require('./Even.json');      //importing a javascript file\n",
    "\n",
    "var web3 = new Web3(new Web3.providers.HttpProvider(\"http://localhost:8345\"));\n",
    "\n",
    "contractName=Object.keys(_abiBinJson.contracts); // reading ['src/Timer.sol:Timer']\n",
    "console.log(\"- contract name: \", contractName);\n",
    "_abi=_abiBinJson.contracts[contractName].abi;\n",
    "//_abiArray=JSON.parse(JSON.stringify(_abi));\n",
    "_abiArray=JSON.parse(_abi);      //JSON parsing needed!!\n",
    "_bin=_abiBinJson.contracts[contractName].bin;\n",
    "\n",
    "console.log(\"- ABI: \" + _abi);\n",
    "console.log(\"- Bytecode: \" + _bin);\n",
    "\n",
    "async function deploy() {\n",
    "    const accounts = await web3.eth.getAccounts();\n",
    "    console.log(\"Deploying the contract from \" + accounts[0]);\n",
    "    var deployed = await new web3.eth.Contract(_abiArray)\n",
    "        .deploy({data: \"0x\"+_bin})\n",
    "        .send({from: accounts[0], gas: 364124}, function(err, transactionHash) {\n",
    "                if(!err) console.log(\"hash: \" + transactionHash); \n",
    "        })\n",
    "        //.then(function(newContractInstance){\n",
    "        //    console.log(newContractInstance)\n",
    "        //});\n",
    "    console.log(\"---> The contract deployed to: \" + deployed.options.address)\n",
    "}\n",
    "deploy()"
   ]
  },
  {
   "cell_type": "code",
   "execution_count": 22,
   "id": "9dadd65d",
   "metadata": {},
   "outputs": [
    {
     "name": "stdout",
     "output_type": "stream",
     "text": [
      "- contract name:  [ 'src/Even.sol:Counter' ]\n",
      "- ABI: [{\"constant\":true,\"inputs\":[],\"name\":\"isEven\",\"outputs\":[{\"name\":\"\",\"type\":\"string\"}],\"payable\":false,\"stateMutability\":\"view\",\"type\":\"function\"},{\"constant\":false,\"inputs\":[],\"name\":\"add\",\"outputs\":[],\"payable\":false,\"stateMutability\":\"nonpayable\",\"type\":\"function\"},{\"constant\":false,\"inputs\":[],\"name\":\"subtract\",\"outputs\":[],\"payable\":false,\"stateMutability\":\"nonpayable\",\"type\":\"function\"},{\"constant\":true,\"inputs\":[],\"name\":\"getCounter\",\"outputs\":[{\"name\":\"\",\"type\":\"uint256\"}],\"payable\":false,\"stateMutability\":\"view\",\"type\":\"function\"}]\n",
      "- Bytecode: 60806040526000805534801561001457600080fd5b5061020e806100246000396000f3006080604052600436106100615763ffffffff7c010000000000000000000000000000000000000000000000000000000060003504166336b166ba81146100665780634f2be91f146100f05780636deebae3146101075780638ada066e1461011c575b600080fd5b34801561007257600080fd5b5061007b610143565b6040805160208082528351818301528351919283929083019185019080838360005b838110156100b557818101518382015260200161009d565b50505050905090810190601f1680156100e25780820380516001836020036101000a031916815260200191505b509250505060405180910390f35b3480156100fc57600080fd5b506101056101c5565b005b34801561011357600080fd5b506101056101d0565b34801561012857600080fd5b506101316101dc565b60408051918252519081900360200190f35b600054606090600116151561018c575060408051808201909152600481527f4576656e0000000000000000000000000000000000000000000000000000000060208201526101c2565b5060408051808201909152600381527f4f6464000000000000000000000000000000000000000000000000000000000060208201525b90565b600080546001019055565b60008054600019019055565b600054905600a165627a7a7230582093b9e3cb63f35fc50e6b366308bce0354d5747dbd32bdb4d61bc10fe8bd7344e0029\n",
      "Deploying the contract from 0x5D301fc3F9948FA26906244a7F7E0bc49c0efc26\n",
      "hash: 0x429f1d0e53844bb25782ce6a3b123675e02fc3e23e9583a6fffd859d6809c7b0\n",
      "---> The contract deployed to: 0xF25a4A7E08aC4E983BDAc957Aa400ee400c959e3\n"
     ]
    }
   ],
   "source": [
    "!node src/EvenDeployAbiBinFromFile.js"
   ]
  },
  {
   "cell_type": "code",
   "execution_count": 29,
   "id": "739099aa",
   "metadata": {},
   "outputs": [
    {
     "name": "stdout",
     "output_type": "stream",
     "text": [
      "Overwriting src/evenUse.js\n"
     ]
    }
   ],
   "source": [
    "%%writefile src/evenUse.js\n",
    "var Web3=require('web3');\n",
    "var _abiBinJson = require('./Even.json');\n",
    "var web3 = new Web3(new Web3.providers.HttpProvider(\"http://localhost:8345\"));\n",
    "contractName=Object.keys(_abiBinJson.contracts);\n",
    "_abi=_abiBinJson.contracts[contractName].abi;\n",
    "_abiArray=JSON.parse(_abi);\n",
    "var counter = new web3.eth.Contract(_abiArray,\"0xF25a4A7E08aC4E983BDAc957Aa400ee400c959e3\");\n",
    "async function doIt() {\n",
    "    const accounts = await web3.eth.getAccounts();\n",
    "    counter.methods.getCounter().call().then(function(str) {console.log(\"0: \" + str);});\n",
    "    await counter.methods.add().send({from:accounts[0],gas:100000});\n",
    "    counter.methods.getCounter().call().then(function(str) {console.log(\"1: \" + str);});\n",
    "    await counter.methods.add().send({from:accounts[0],gas:100000});\n",
    "    counter.methods.getCounter().call().then(function(str) {console.log(\"2: \" + str);});\n",
    "    await counter.methods.add().send({from:accounts[0],gas:100000});\n",
    "    counter.methods.getCounter().call().then(function(str) {console.log(\"3: \" + str);});\n",
    "    await counter.methods.add().send({from:accounts[0],gas:100000});\n",
    "    counter.methods.getCounter().call().then(function(str) {console.log(\"4: \" + str);});\n",
    "    counter.methods.isEven().call().then(function(str) {console.log(\"4: \" + str);});\n",
    "}\n",
    "doIt()"
   ]
  },
  {
   "cell_type": "code",
   "execution_count": 30,
   "id": "a3432f42",
   "metadata": {},
   "outputs": [
    {
     "name": "stdout",
     "output_type": "stream",
     "text": [
      "0: 20\n",
      "1: 21\n",
      "2: 22\n",
      "3: 23\n",
      "4: 24\n",
      "4: Even\n"
     ]
    }
   ],
   "source": [
    "!node src/evenUse.js"
   ]
  }
 ],
 "metadata": {
  "kernelspec": {
   "display_name": "Python 3 (ipykernel)",
   "language": "python",
   "name": "python3"
  },
  "language_info": {
   "codemirror_mode": {
    "name": "ipython",
    "version": 3
   },
   "file_extension": ".py",
   "mimetype": "text/x-python",
   "name": "python",
   "nbconvert_exporter": "python",
   "pygments_lexer": "ipython3",
   "version": "3.9.7"
  }
 },
 "nbformat": 4,
 "nbformat_minor": 5
}
