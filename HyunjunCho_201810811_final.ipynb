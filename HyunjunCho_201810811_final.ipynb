{
 "cells": [
  {
   "cell_type": "markdown",
   "id": "406e8a0e",
   "metadata": {},
   "source": [
    "# 201810811 조현준"
   ]
  },
  {
   "cell_type": "code",
   "execution_count": 41,
   "id": "c1bbddfd",
   "metadata": {},
   "outputs": [
    {
     "name": "stdout",
     "output_type": "stream",
     "text": [
      "Overwriting src/MyNFT.sol\n"
     ]
    }
   ],
   "source": [
    "%%writefile src/MyNFT.sol\n",
    "// SPDX-License-Identifier: MIT\n",
    "pragma solidity ^0.8.0;\n",
    "\n",
    "import \"@openzeppelin/contracts/token/ERC721/extensions/ERC721URIStorage.sol\";\n",
    "//import \"https://github.com/OpenZeppelin/openzeppelin-contracts/blob/v4.4.0/contracts/token/ERC721/extensions/ERC721URIStorage.sol\";\n",
    "import \"@openzeppelin/contracts/utils/Counters.sol\";\n",
    "//import \"https://github.com/OpenZeppelin/openzeppelin-contracts/blob/v4.4.0/contracts/utils/Counters.sol\";\n",
    "import \"@openzeppelin/contracts/access/Ownable.sol\";\n",
    "//import \"https://github.com/nibbstack/erc721/blob/2.6.1/src/contracts/ownership/ownable.sol\";\n",
    "\n",
    "contract MyNFT is ERC721URIStorage, Ownable {\n",
    "\tstruct Item {\n",
    "\t\taddress owner;\n",
    "\t\taddress currentOwner;\n",
    "\t\tuint256 price;\n",
    "\t\tstring uri;\n",
    "\t\tuint256 time;\n",
    "\t}\n",
    "\tusing Counters for Counters.Counter;\n",
    "\tCounters.Counter private _tokenIds;\t//NFT id\n",
    "\n",
    "\tuint256 itemCount = 0;\n",
    "\n",
    "\tmapping(uint256 => Item) public tokenIdToItem;\n",
    "\t\n",
    "\tconstructor() ERC721(\"MyNFT\", \"CHJ\") {}\n",
    "\n",
    "    function mintWithURI(address to, string memory tokenURI) public returns(uint256) {\n",
    "        _tokenIds.increment(); // add 1 by minting\n",
    "        uint256 newTokenId = _tokenIds.current();\n",
    "        _mint(to, newTokenId); // or _safeMint(to, newTokenId);\n",
    "        _setTokenURI(newTokenId, tokenURI); // need to import ERC721URIStorage\n",
    "\t\tsetTokenIdToItem(newTokenId, owner(), to, 0, tokenURI, block.timestamp);\n",
    "\n",
    "        return newTokenId;\n",
    "    }\n",
    "\tfunction mintWithIdURI(uint256 _id, address to, string memory tokenURI) public returns(uint256) {\n",
    "\t\t_mint(to, _id);\n",
    "\t\t_setTokenURI(_id, tokenURI);\n",
    "\t\tsetTokenIdToItem(_id, owner(), to, 0, tokenURI, block.timestamp);\n",
    "\n",
    "\t\treturn _id;\n",
    "\t}\n",
    "\tfunction myTransfer(address from, address to, uint256 _tokenId) public payable {\n",
    "\t\trequire(_exists(_tokenId), \"Error: TokenId not owned\");\n",
    "        require(msg.value >= tokenIdToItem[_tokenId].price, \"Error: Token costs more\");\n",
    "        _transfer(from, to, _tokenId);\n",
    "\t}\n",
    "\tfunction setTokenIdToItem(uint256 _id, address _o, address _to, uint256 _p, string memory _uri, uint256 _t) public {\n",
    "\t\tItem memory i = Item(_o, _to, _p, _uri, _t);\n",
    "\t\ttokenIdToItem[_id] = i;\n",
    "\t\titemCount++;\n",
    "\t}\n",
    "\tfunction getTokenIdToItem(uint256 tokenId) public view returns (address, address, uint256, string memory, uint256) {\n",
    "\t\tItem memory i = tokenIdToItem[tokenId];\n",
    "\t\treturn (i.owner, i.currentOwner, i.price, i.uri, i.time);\n",
    "\t}\n",
    "\tfunction getItemsLength() public view returns (uint256) {\n",
    "\t\treturn itemCount;\n",
    "\t}\n",
    "\tfunction getOwner() public view returns (address) {\n",
    "\t\treturn owner();\n",
    "\t}\n",
    "\tfunction getTokenURI(uint256 tokenId) public view returns (string memory) {\n",
    "\t\tItem memory i = tokenIdToItem[tokenId];\n",
    "\t\treturn i.uri;\n",
    "\t}\n",
    "\tfunction getTotalSupply() public view returns (uint256) {\n",
    "\t\treturn _tokenIds.current();\n",
    "\t}\n",
    "}"
   ]
  },
  {
   "cell_type": "markdown",
   "id": "ca314780",
   "metadata": {},
   "source": [
    "## (1) solution\n",
    "\n",
    "```\n",
    "transact to MyNFT.mintWithURI pending ... \n",
    "[vm]from: 0x5B3...eddC4to: MyNFT.mintWithURI(address,string) 0x7EF...8CB47value: 0 weidata: 0x0e9...00000logs: 1hash: 0xbb6...71ef1\n",
    "status\ttrue Transaction mined and execution succeed\n",
    "transaction hash\t0xbb62607b6f991b304db4216ebb497984875bc51727d81d834cbce4b90a571ef1\n",
    "from\t0x5B38Da6a701c568545dCfcB03FcB875f56beddC4\n",
    "to\tMyNFT.mintWithURI(address,string) 0x7EF2e0048f5bAeDe046f6BF797943daF4ED8CB47\n",
    "gas\t210701 gas\n",
    "transaction cost\t183218 gas \n",
    "execution cost\t183218 gas \n",
    "input\t0x0e9...00000\n",
    "decoded input\t{\n",
    "\t\"address to\": \"0xAb8483F64d9C6d1EcF9b849Ae677dD3315835cb2\",\n",
    "\t\"string tokenURI\": \"https://ipfs.io/ipfs/QmYcHDtwa8iDqsFGBCjKC3N4FZZqh1T7qPXTYxMrp2htRo\"\n",
    "}\n",
    "decoded output\t{\n",
    "\t\"0\": \"uint256: 1\"\n",
    "}\n",
    "logs\t[\n",
    "\t{\n",
    "\t\t\"from\": \"0x7EF2e0048f5bAeDe046f6BF797943daF4ED8CB47\",\n",
    "\t\t\"topic\": \"0xddf252ad1be2c89b69c2b068fc378daa952ba7f163c4a11628f55a4df523b3ef\",\n",
    "\t\t\"event\": \"Transfer\",\n",
    "\t\t\"args\": {\n",
    "\t\t\t\"0\": \"0x0000000000000000000000000000000000000000\",\n",
    "\t\t\t\"1\": \"0xAb8483F64d9C6d1EcF9b849Ae677dD3315835cb2\",\n",
    "\t\t\t\"2\": \"1\",\n",
    "\t\t\t\"from\": \"0x0000000000000000000000000000000000000000\",\n",
    "\t\t\t\"to\": \"0xAb8483F64d9C6d1EcF9b849Ae677dD3315835cb2\",\n",
    "\t\t\t\"tokenId\": \"1\"\n",
    "\t\t}\n",
    "\t}\n",
    "]\n",
    "val\t0 wei\n",
    "```"
   ]
  },
  {
   "cell_type": "markdown",
   "id": "b3226804",
   "metadata": {},
   "source": [
    "## (2) solution\n",
    "```\n",
    "transact to MyNFT.mintWithURI pending ... \n",
    "[vm]from: 0x5B3...eddC4to: MyNFT.mintWithURI(address,string) 0x7EF...8CB47value: 0 weidata: 0x0e9...00000logs: 1hash: 0x45f...71d3a\n",
    "status\ttrue Transaction mined and execution succeed\n",
    "transaction hash\t0x45f0d71d897b17997932560f193f3a276dc27460f18691b57ba13669dfc71d3a\n",
    "from\t0x5B38Da6a701c568545dCfcB03FcB875f56beddC4\n",
    "to\tMyNFT.mintWithURI(address,string) 0x7EF2e0048f5bAeDe046f6BF797943daF4ED8CB47\n",
    "gas\t191036 gas\n",
    "transaction cost\t166118 gas \n",
    "execution cost\t166118 gas \n",
    "input\t0x0e9...00000\n",
    "decoded input\t{\n",
    "\t\"address to\": \"0x4B20993Bc481177ec7E8f571ceCaE8A9e22C02db\",\n",
    "\t\"string tokenURI\": \"https://ipfs.io/ipfs/QmYknG3ST5BRp6tZRvwXkaWZAAcQiJSwacZ6UFEYvbwpNk\"\n",
    "}\n",
    "decoded output\t{\n",
    "\t\"0\": \"uint256: 2\"\n",
    "}\n",
    "logs\t[\n",
    "\t{\n",
    "\t\t\"from\": \"0x7EF2e0048f5bAeDe046f6BF797943daF4ED8CB47\",\n",
    "\t\t\"topic\": \"0xddf252ad1be2c89b69c2b068fc378daa952ba7f163c4a11628f55a4df523b3ef\",\n",
    "\t\t\"event\": \"Transfer\",\n",
    "\t\t\"args\": {\n",
    "\t\t\t\"0\": \"0x0000000000000000000000000000000000000000\",\n",
    "\t\t\t\"1\": \"0x4B20993Bc481177ec7E8f571ceCaE8A9e22C02db\",\n",
    "\t\t\t\"2\": \"2\",\n",
    "\t\t\t\"from\": \"0x0000000000000000000000000000000000000000\",\n",
    "\t\t\t\"to\": \"0x4B20993Bc481177ec7E8f571ceCaE8A9e22C02db\",\n",
    "\t\t\t\"tokenId\": \"2\"\n",
    "\t\t}\n",
    "\t}\n",
    "]\n",
    "val\t0 wei\n",
    "```"
   ]
  },
  {
   "cell_type": "markdown",
   "id": "d44128fc",
   "metadata": {},
   "source": [
    "## (3) solution\n",
    "```\n",
    "transact to MyNFT.mintWithIdURI pending ... \n",
    "[vm]from: 0x5B3...eddC4to: MyNFT.mintWithIdURI(uint256,address,string) 0x7EF...8CB47value: 0 weidata: 0x93d...00000logs: 0hash: 0x61e...7aef7\n",
    "status\tfalse Transaction mined but execution failed\n",
    "transaction hash\t0x61e934650206db058d2419597f0fe4b7dec578f474e340c5439d0edbe9d7aef7\n",
    "from\t0x5B38Da6a701c568545dCfcB03FcB875f56beddC4\n",
    "to\tMyNFT.mintWithIdURI(uint256,address,string) 0x7EF2e0048f5bAeDe046f6BF797943daF4ED8CB47\n",
    "gas\t3000000 gas\n",
    "transaction cost\t27136 gas \n",
    "execution cost\t27136 gas \n",
    "input\t0x93d...00000\n",
    "decoded input\t{\n",
    "\t\"uint256 _id\": \"1\",\n",
    "\t\"address to\": \"0xAb8483F64d9C6d1EcF9b849Ae677dD3315835cb2\",\n",
    "\t\"string tokenURI\": \"https://ipfs.io/ipfs/QmYcHDtwa8iDqsFGBCjKC3N4FZZqh1T7qPXTYxMrp2htRo\"\n",
    "}\n",
    "decoded output\t{\n",
    "\t\"0\": \"uint256: 3963877391197344453575983046348115674221700746820753546331534351508065746944\"\n",
    "}\n",
    "logs\t[]\n",
    "val\t0 wei\n",
    "transact to MyNFT.mintWithIdURI errored: VM error: revert.\n",
    "\n",
    "revert\n",
    "\tThe transaction has been reverted to the initial state.\n",
    "Reason provided by the contract: \"ERC721: token already minted\".\n",
    "Debug the transaction to get more information.\n",
    "```"
   ]
  },
  {
   "cell_type": "markdown",
   "id": "6788457b",
   "metadata": {},
   "source": [
    "## (4) solution\n",
    "```\n",
    "call to MyNFT.ownerOf\n",
    "CALL\n",
    "[call]from: 0x5B38Da6a701c568545dCfcB03FcB875f56beddC4to: MyNFT.ownerOf(uint256)data: 0x635...00001\n",
    "from\t0x5B38Da6a701c568545dCfcB03FcB875f56beddC4\n",
    "to\tMyNFT.ownerOf(uint256) 0x7EF2e0048f5bAeDe046f6BF797943daF4ED8CB47\n",
    "execution cost\t24231 gas (Cost only applies when called by a contract)\n",
    "input\t0x635...00001\n",
    "decoded input\t{\n",
    "\t\"uint256 tokenId\": \"1\"\n",
    "}\n",
    "decoded output\t{\n",
    "\t\"0\": \"address: 0xAb8483F64d9C6d1EcF9b849Ae677dD3315835cb2\"\n",
    "}\n",
    "logs\t[]\n",
    "```"
   ]
  },
  {
   "cell_type": "markdown",
   "id": "d456ec7e",
   "metadata": {},
   "source": [
    "## (5) solution\n",
    "```\n",
    "transact to MyNFT.transferFrom pending ... \n",
    "[vm]from: 0xAb8...35cb2to: MyNFT.transferFrom(address,address,uint256) 0x7EF...8CB47value: 0 weidata: 0x23b...00001logs: 2hash: 0xb6a...ea9b4\n",
    "status\ttrue Transaction mined and execution succeed\n",
    "transaction hash\t0xb6aea756120f3eb366986dd137ba99983bafaab201ae1b27d0e1b921d11ea9b4\n",
    "from\t0xAb8483F64d9C6d1EcF9b849Ae677dD3315835cb2\n",
    "to\tMyNFT.transferFrom(address,address,uint256) 0x7EF2e0048f5bAeDe046f6BF797943daF4ED8CB47\n",
    "gas\t53377 gas\n",
    "transaction cost\t41614 gas \n",
    "execution cost\t41614 gas \n",
    "input\t0x23b...00001\n",
    "decoded input\t{\n",
    "\t\"address from\": \"0xAb8483F64d9C6d1EcF9b849Ae677dD3315835cb2\",\n",
    "\t\"address to\": \"0x4B20993Bc481177ec7E8f571ceCaE8A9e22C02db\",\n",
    "\t\"uint256 tokenId\": \"1\"\n",
    "}\n",
    "decoded output\t{}\n",
    "logs\t[\n",
    "\t{\n",
    "\t\t\"from\": \"0x7EF2e0048f5bAeDe046f6BF797943daF4ED8CB47\",\n",
    "\t\t\"topic\": \"0x8c5be1e5ebec7d5bd14f71427d1e84f3dd0314c0f7b2291e5b200ac8c7c3b925\",\n",
    "\t\t\"event\": \"Approval\",\n",
    "\t\t\"args\": {\n",
    "\t\t\t\"0\": \"0xAb8483F64d9C6d1EcF9b849Ae677dD3315835cb2\",\n",
    "\t\t\t\"1\": \"0x0000000000000000000000000000000000000000\",\n",
    "\t\t\t\"2\": \"1\",\n",
    "\t\t\t\"owner\": \"0xAb8483F64d9C6d1EcF9b849Ae677dD3315835cb2\",\n",
    "\t\t\t\"approved\": \"0x0000000000000000000000000000000000000000\",\n",
    "\t\t\t\"tokenId\": \"1\"\n",
    "\t\t}\n",
    "\t},\n",
    "\t{\n",
    "\t\t\"from\": \"0x7EF2e0048f5bAeDe046f6BF797943daF4ED8CB47\",\n",
    "\t\t\"topic\": \"0xddf252ad1be2c89b69c2b068fc378daa952ba7f163c4a11628f55a4df523b3ef\",\n",
    "\t\t\"event\": \"Transfer\",\n",
    "\t\t\"args\": {\n",
    "\t\t\t\"0\": \"0xAb8483F64d9C6d1EcF9b849Ae677dD3315835cb2\",\n",
    "\t\t\t\"1\": \"0x4B20993Bc481177ec7E8f571ceCaE8A9e22C02db\",\n",
    "\t\t\t\"2\": \"1\",\n",
    "\t\t\t\"from\": \"0xAb8483F64d9C6d1EcF9b849Ae677dD3315835cb2\",\n",
    "\t\t\t\"to\": \"0x4B20993Bc481177ec7E8f571ceCaE8A9e22C02db\",\n",
    "\t\t\t\"tokenId\": \"1\"\n",
    "\t\t}\n",
    "\t}\n",
    "]\n",
    "val\t0 wei\n",
    "```"
   ]
  },
  {
   "cell_type": "markdown",
   "id": "d914196e",
   "metadata": {},
   "source": [
    "## (6) solution"
   ]
  },
  {
   "cell_type": "code",
   "execution_count": 42,
   "id": "383f57ae",
   "metadata": {},
   "outputs": [],
   "source": [
    "!solc-windows.exe @openzeppelin/=\"C:\\\\Users\\\\chohj\\\\Code\\\\201810811\\\\node_modules\\\\@openzeppelin\\\\\" --optimize --combined-json abi,bin src/MyNFT.sol > src/MyNFT.json"
   ]
  },
  {
   "cell_type": "code",
   "execution_count": 43,
   "id": "f07b82b4",
   "metadata": {},
   "outputs": [
    {
     "name": "stdout",
     "output_type": "stream",
     "text": [
      "{\"contracts\":{\"C://Users//chohj//Code//201810811//node_modules//@openzeppelin/contracts/access/Ownable.sol:Ownable\":{\"abi\":[{\"anonymous\":false,\"inputs\":[{\"indexed\":true,\"internalType\":\"address\",\"name\":\"previousOwner\",\"type\":\"address\"},{\"indexed\":true,\"internalType\":\"address\",\"name\":\"newOwner\",\"type\":\"address\"}],\"name\":\"OwnershipTransferred\",\"type\":\"event\"},{\"inputs\":[],\"name\":\"owner\",\"outputs\":[{\"internalType\":\"address\",\"name\":\"\",\"type\":\"address\"}],\"stateMutability\":\"view\",\"type\":\"function\"},{\"inputs\":[],\"name\":\"renounceOwnership\",\"outputs\":[],\"stateMutability\":\"nonpayable\",\"type\":\"function\"},{\"inputs\":[{\"internalType\":\"address\",\"name\":\"newOwner\",\"type\":\"address\"}],\"name\":\"transferOwnership\",\"outputs\":[],\"stateMutability\":\"nonpayable\",\"type\":\"function\"}],\"bin\":\"\"},\"C://Users//chohj//Code//201810811//node_modules//@openzeppelin/contracts/token/ERC721/ERC721.sol:ERC721\":{\"abi\":[{\"inputs\":[{\"internalType\":\"string\",\"name\":\"name_\",\"type\":\"string\"},{\"internalType\":\"string\",\"name\":\"symbol_\",\"type\":\"string\"}],\"stateMutability\":\"nonpayable\",\"type\":\"constructor\"},{\"anonymous\":false,\"inputs\":[{\"indexed\":true,\"internalType\":\"address\",\"name\":\"owner\",\"type\":\"address\"},{\"indexed\":true,\"internalType\":\"address\",\"name\":\"approved\",\"type\":\"address\"},{\"indexed\":true,\"internalType\":\"uint256\",\"name\":\"tokenId\",\"type\":\"uint256\"}],\"name\":\"Approval\",\"type\":\"event\"},{\"anonymous\":false,\"inputs\":[{\"indexed\":true,\"internalType\":\"address\",\"name\":\"owner\",\"type\":\"address\"},{\"indexed\":true,\"internalType\":\"address\",\"name\":\"operator\",\"type\":\"address\"},{\"indexed\":false,\"internalType\":\"bool\",\"name\":\"approved\",\"type\":\"bool\"}],\"name\":\"ApprovalForAll\",\"type\":\"event\"},{\"anonymous\":false,\"inputs\":[{\"indexed\":true,\"internalType\":\"address\",\"name\":\"from\",\"type\":\"address\"},{\"indexed\":true,\"internalType\":\"address\",\"name\":\"to\",\"type\":\"address\"},{\"indexed\":true,\"internalType\":\"uint256\",\"name\":\"tokenId\",\"type\":\"uint256\"}],\"name\":\"Transfer\",\"type\":\"event\"},{\"inputs\":[{\"internalType\":\"address\",\"name\":\"to\",\"type\":\"address\"},{\"internalType\":\"uint256\",\"name\":\"tokenId\",\"type\":\"uint256\"}],\"name\":\"approve\",\"outputs\":[],\"stateMutability\":\"nonpayable\",\"type\":\"function\"},{\"inputs\":[{\"internalType\":\"address\",\"name\":\"owner\",\"type\":\"address\"}],\"name\":\"balanceOf\",\"outputs\":[{\"internalType\":\"uint256\",\"name\":\"\",\"type\":\"uint256\"}],\"stateMutability\":\"view\",\"type\":\"function\"},{\"inputs\":[{\"internalType\":\"uint256\",\"name\":\"tokenId\",\"type\":\"uint256\"}],\"name\":\"getApproved\",\"outputs\":[{\"internalType\":\"address\",\"name\":\"\",\"type\":\"address\"}],\"stateMutability\":\"view\",\"type\":\"function\"},{\"inputs\":[{\"internalType\":\"address\",\"name\":\"owner\",\"type\":\"address\"},{\"internalType\":\"address\",\"name\":\"operator\",\"type\":\"address\"}],\"name\":\"isApprovedForAll\",\"outputs\":[{\"internalType\":\"bool\",\"name\":\"\",\"type\":\"bool\"}],\"stateMutability\":\"view\",\"type\":\"function\"},{\"inputs\":[],\"name\":\"name\",\"outputs\":[{\"internalType\":\"string\",\"name\":\"\",\"type\":\"string\"}],\"stateMutability\":\"view\",\"type\":\"function\"},{\"inputs\":[{\"internalType\":\"uint256\",\"name\":\"tokenId\",\"type\":\"uint256\"}],\"name\":\"ownerOf\",\"outputs\":[{\"internalType\":\"address\",\"name\":\"\",\"type\":\"address\"}],\"stateMutability\":\"view\",\"type\":\"function\"},{\"inputs\":[{\"internalType\":\"address\",\"name\":\"from\",\"type\":\"address\"},{\"internalType\":\"address\",\"name\":\"to\",\"type\":\"address\"},{\"internalType\":\"uint256\",\"name\":\"tokenId\",\"type\":\"uint256\"}],\"name\":\"safeTransferFrom\",\"outputs\":[],\"stateMutability\":\"nonpayable\",\"type\":\"function\"},{\"inputs\":[{\"internalType\":\"address\",\"name\":\"from\",\"type\":\"address\"},{\"internalType\":\"address\",\"name\":\"to\",\"type\":\"address\"},{\"internalType\":\"uint256\",\"name\":\"tokenId\",\"type\":\"uint256\"},{\"internalType\":\"bytes\",\"name\":\"_data\",\"type\":\"bytes\"}],\"name\":\"safeTransferFrom\",\"outputs\":[],\"stateMutability\":\"nonpayable\",\"type\":\"function\"},{\"inputs\":[{\"internalType\":\"address\",\"name\":\"operator\",\"type\":\"address\"},{\"internalType\":\"bool\",\"name\":\"approved\",\"type\":\"bool\"}],\"name\":\"setApprovalForAll\",\"outputs\":[],\"stateMutability\":\"nonpayable\",\"type\":\"function\"},{\"inputs\":[{\"internalType\":\"bytes4\",\"name\":\"interfaceId\",\"type\":\"bytes4\"}],\"name\":\"supportsInterface\",\"outputs\":[{\"internalType\":\"bool\",\"name\":\"\",\"type\":\"bool\"}],\"stateMutability\":\"view\",\"type\":\"function\"},{\"inputs\":[],\"name\":\"symbol\",\"outputs\":[{\"internalType\":\"string\",\"name\":\"\",\"type\":\"string\"}],\"stateMutability\":\"view\",\"type\":\"function\"},{\"inputs\":[{\"internalType\":\"uint256\",\"name\":\"tokenId\",\"type\":\"uint256\"}],\"name\":\"tokenURI\",\"outputs\":[{\"internalType\":\"string\",\"name\":\"\",\"type\":\"string\"}],\"stateMutability\":\"view\",\"type\":\"function\"},{\"inputs\":[{\"internalType\":\"address\",\"name\":\"from\",\"type\":\"address\"},{\"internalType\":\"address\",\"name\":\"to\",\"type\":\"address\"},{\"internalType\":\"uint256\",\"name\":\"tokenId\",\"type\":\"uint256\"}],\"name\":\"transferFrom\",\"outputs\":[],\"stateMutability\":\"nonpayable\",\"type\":\"function\"}],\"bin\":\"60806040523480156200001157600080fd5b50604051620014ed380380620014ed8339810160408190526200003491620001c5565b81516200004990600090602085019062000068565b5080516200005f90600190602084019062000068565b50505062000282565b82805462000076906200022f565b90600052602060002090601f0160209004810192826200009a5760008555620000e5565b82601f10620000b557805160ff1916838001178555620000e5565b82800160010185558215620000e5579182015b82811115620000e5578251825591602001919060010190620000c8565b50620000f3929150620000f7565b5090565b5b80821115620000f35760008155600101620000f8565b600082601f8301126200012057600080fd5b81516001600160401b03808211156200013d576200013d6200026c565b604051601f8301601f19908116603f011681019082821181831017156200016857620001686200026c565b816040528381526020925086838588010111156200018557600080fd5b600091505b83821015620001a957858201830151818301840152908201906200018a565b83821115620001bb5760008385830101525b9695505050505050565b60008060408385031215620001d957600080fd5b82516001600160401b0380821115620001f157600080fd5b620001ff868387016200010e565b935060208501519150808211156200021657600080fd5b5062000225858286016200010e565b9150509250929050565b600181811c908216806200024457607f821691505b602082108114156200026657634e487b7160e01b600052602260045260246000fd5b50919050565b634e487b7160e01b600052604160045260246000fd5b61125b80620002926000396000f3fe608060405234801561001057600080fd5b50600436106100cf5760003560e01c80636352211e1161008c578063a22cb46511610066578063a22cb465146101b3578063b88d4fde146101c6578063c87b56dd146101d9578063e985e9c5146101ec57600080fd5b80636352211e1461017757806370a082311461018a57806395d89b41146101ab57600080fd5b806301ffc9a7146100d457806306fdde03146100fc578063081812fc14610111578063095ea7b31461013c57806323b872dd1461015157806342842e0e14610164575b600080fd5b6100e76100e2366004610f3a565b610228565b60405190151581526020015b60405180910390f35b61010461027a565b6040516100f39190611025565b61012461011f366004610f74565b61030c565b6040516001600160a01b0390911681526020016100f3565b61014f61014a366004610f10565b6103a6565b005b61014f61015f366004610dbc565b6104bc565b61014f610172366004610dbc565b6104ed565b610124610185366004610f74565b610508565b61019d610198366004610d6e565b61057f565b6040519081526020016100f3565b610104610606565b61014f6101c1366004610ed4565b610615565b61014f6101d4366004610df8565b610624565b6101046101e7366004610f74565b61065c565b6100e76101fa366004610d89565b6001600160a01b03918216600090815260056020908152604080832093909416825291909152205460ff1690565b60006001600160e01b031982166380ac58cd60e01b148061025957506001600160e01b03198216635b5e139f60e01b145b8061027457506301ffc9a760e01b6001600160e01b03198316145b92915050565b6060600080546102899061114a565b80601f01602080910402602001604051908101604052809291908181526020018280546102b59061114a565b80156103025780601f106102d757610100808354040283529160200191610302565b820191906000526020600020905b8154815290600101906020018083116102e557829003601f168201915b5050505050905090565b6000818152600260205260408120546001600160a01b031661038a5760405162461bcd60e51b815260206004820152602c60248201527f4552433732313a20617070726f76656420717565727920666f72206e6f6e657860448201526b34b9ba32b73a103a37b5b2b760a11b60648201526084015b60405180910390fd5b506000908152600460205260409020546001600160a01b031690565b60006103b182610508565b9050806001600160a01b0316836001600160a01b0316141561041f5760405162461bcd60e51b815260206004820152602160248201527f4552433732313a20617070726f76616c20746f2063757272656e74206f776e656044820152603960f91b6064820152608401610381565b336001600160a01b038216148061043b575061043b81336101fa565b6104ad5760405162461bcd60e51b815260206004820152603860248201527f4552433732313a20617070726f76652063616c6c6572206973206e6f74206f7760448201527f6e6572206e6f7220617070726f76656420666f7220616c6c00000000000000006064820152608401610381565b6104b78383610744565b505050565b6104c633826107b2565b6104e25760405162461bcd60e51b81526004016103819061108a565b6104b78383836108a9565b6104b783838360405180602001604052806000815250610624565b6000818152600260205260408120546001600160a01b0316806102745760405162461bcd60e51b815260206004820152602960248201527f4552433732313a206f776e657220717565727920666f72206e6f6e657869737460448201526832b73a103a37b5b2b760b91b6064820152608401610381565b60006001600160a01b0382166105ea5760405162461bcd60e51b815260206004820152602a60248201527f4552433732313a2062616c616e636520717565727920666f7220746865207a65604482015269726f206164647265737360b01b6064820152608401610381565b506001600160a01b031660009081526003602052604090205490565b6060600180546102899061114a565b610620338383610a45565b5050565b61062e33836107b2565b61064a5760405162461bcd60e51b81526004016103819061108a565b61065684848484610b14565b50505050565b6000818152600260205260409020546060906001600160a01b03166106db5760405162461bcd60e51b815260206004820152602f60248201527f4552433732314d657461646174613a2055524920717565727920666f72206e6f60448201526e3732bc34b9ba32b73a103a37b5b2b760891b6064820152608401610381565b60006106f260408051602081019091526000815290565b90506000815111610712576040518060200160405280600081525061073d565b8061071c84610b47565b60405160200161072d929190610fb9565b6040516020818303038152906040525b9392505050565b600081815260046020526040902080546001600160a01b0319166001600160a01b038416908117909155819061077982610508565b6001600160a01b03167f8c5be1e5ebec7d5bd14f71427d1e84f3dd0314c0f7b2291e5b200ac8c7c3b92560405160405180910390a45050565b6000818152600260205260408120546001600160a01b031661082b5760405162461bcd60e51b815260206004820152602c60248201527f4552433732313a206f70657261746f7220717565727920666f72206e6f6e657860448201526b34b9ba32b73a103a37b5b2b760a11b6064820152608401610381565b600061083683610508565b9050806001600160a01b0316846001600160a01b0316148061087d57506001600160a01b0380821660009081526005602090815260408083209388168352929052205460ff165b806108a15750836001600160a01b03166108968461030c565b6001600160a01b0316145b949350505050565b826001600160a01b03166108bc82610508565b6001600160a01b0316146109205760405162461bcd60e51b815260206004820152602560248201527f4552433732313a207472616e736665722066726f6d20696e636f72726563742060448201526437bbb732b960d91b6064820152608401610381565b6001600160a01b0382166109825760405162461bcd60e51b8152602060048201526024808201527f4552433732313a207472616e7366657220746f20746865207a65726f206164646044820152637265737360e01b6064820152608401610381565b61098d600082610744565b6001600160a01b03831660009081526003602052604081208054600192906109b6908490611107565b90915550506001600160a01b03821660009081526003602052604081208054600192906109e49084906110db565b909155505060008181526002602052604080822080546001600160a01b0319166001600160a01b0386811691821790925591518493918716917fddf252ad1be2c89b69c2b068fc378daa952ba7f163c4a11628f55a4df523b3ef91a4505050565b816001600160a01b0316836001600160a01b03161415610aa75760405162461bcd60e51b815260206004820152601960248201527f4552433732313a20617070726f766520746f2063616c6c6572000000000000006044820152606401610381565b6001600160a01b03838116600081815260056020908152604080832094871680845294825291829020805460ff191686151590811790915591519182527f17307eab39ab6107e8899845ad3d59bd9653f200f220920489ca2b5937696c31910160405180910390a3505050565b610b1f8484846108a9565b610b2b84848484610c45565b6106565760405162461bcd60e51b815260040161038190611038565b606081610b6b5750506040805180820190915260018152600360fc1b602082015290565b8160005b8115610b955780610b7f81611185565b9150610b8e9050600a836110f3565b9150610b6f565b60008167ffffffffffffffff811115610bb057610bb06111f6565b6040519080825280601f01601f191660200182016040528015610bda576020820181803683370190505b5090505b84156108a157610bef600183611107565b9150610bfc600a866111a0565b610c079060306110db565b60f81b818381518110610c1c57610c1c6111e0565b60200101906001600160f81b031916908160001a905350610c3e600a866110f3565b9450610bde565b60006001600160a01b0384163b15610d4757604051630a85bd0160e11b81526001600160a01b0385169063150b7a0290610c89903390899088908890600401610fe8565b602060405180830381600087803b158015610ca357600080fd5b505af1925050508015610cd3575060408051601f3d908101601f19168201909252610cd091810190610f57565b60015b610d2d573d808015610d01576040519150601f19603f3d011682016040523d82523d6000602084013e610d06565b606091505b508051610d255760405162461bcd60e51b815260040161038190611038565b805181602001fd5b6001600160e01b031916630a85bd0160e11b1490506108a1565b506001949350505050565b80356001600160a01b0381168114610d6957600080fd5b919050565b600060208284031215610d8057600080fd5b61073d82610d52565b60008060408385031215610d9c57600080fd5b610da583610d52565b9150610db360208401610d52565b90509250929050565b600080600060608486031215610dd157600080fd5b610dda84610d52565b9250610de860208501610d52565b9150604084013590509250925092565b60008060008060808587031215610e0e57600080fd5b610e1785610d52565b9350610e2560208601610d52565b925060408501359150606085013567ffffffffffffffff80821115610e4957600080fd5b818701915087601f830112610e5d57600080fd5b813581811115610e6f57610e6f6111f6565b604051601f8201601f19908116603f01168101908382118183101715610e9757610e976111f6565b816040528281528a6020848701011115610eb057600080fd5b82602086016020830137600060208483010152809550505050505092959194509250565b60008060408385031215610ee757600080fd5b610ef083610d52565b915060208301358015158114610f0557600080fd5b809150509250929050565b60008060408385031215610f2357600080fd5b610f2c83610d52565b946020939093013593505050565b600060208284031215610f4c57600080fd5b813561073d8161120c565b600060208284031215610f6957600080fd5b815161073d8161120c565b600060208284031215610f8657600080fd5b5035919050565b60008151808452610fa581602086016020860161111e565b601f01601f19169290920160200192915050565b60008351610fcb81846020880161111e565b835190830190610fdf81836020880161111e565b01949350505050565b6001600160a01b038581168252841660208201526040810183905260806060820181905260009061101b90830184610f8d565b9695505050505050565b60208152600061073d6020830184610f8d565b60208082526032908201527f4552433732313a207472616e7366657220746f206e6f6e20455243373231526560408201527131b2b4bb32b91034b6b83632b6b2b73a32b960711b606082015260800190565b60208082526031908201527f4552433732313a207472616e736665722063616c6c6572206973206e6f74206f6040820152701ddb995c881b9bdc88185c1c1c9bdd9959607a1b606082015260800190565b600082198211156110ee576110ee6111b4565b500190565b600082611102576111026111ca565b500490565b600082821015611119576111196111b4565b500390565b60005b83811015611139578181015183820152602001611121565b838111156106565750506000910152565b600181811c9082168061115e57607f821691505b6020821081141561117f57634e487b7160e01b600052602260045260246000fd5b50919050565b6000600019821415611199576111996111b4565b5060010190565b6000826111af576111af6111ca565b500690565b634e487b7160e01b600052601160045260246000fd5b634e487b7160e01b600052601260045260246000fd5b634e487b7160e01b600052603260045260246000fd5b634e487b7160e01b600052604160045260246000fd5b6001600160e01b03198116811461122257600080fd5b5056fea2646970667358221220dde1e1bf4667e2578204bc5b282a56ece4adabf0ab012c4ea7e959b6153585d364736f6c63430008070033\"},\"C://Users//chohj//Code//201810811//node_modules//@openzeppelin/contracts/token/ERC721/IERC721.sol:IERC721\":{\"abi\":[{\"anonymous\":false,\"inputs\":[{\"indexed\":true,\"internalType\":\"address\",\"name\":\"owner\",\"type\":\"address\"},{\"indexed\":true,\"internalType\":\"address\",\"name\":\"approved\",\"type\":\"address\"},{\"indexed\":true,\"internalType\":\"uint256\",\"name\":\"tokenId\",\"type\":\"uint256\"}],\"name\":\"Approval\",\"type\":\"event\"},{\"anonymous\":false,\"inputs\":[{\"indexed\":true,\"internalType\":\"address\",\"name\":\"owner\",\"type\":\"address\"},{\"indexed\":true,\"internalType\":\"address\",\"name\":\"operator\",\"type\":\"address\"},{\"indexed\":false,\"internalType\":\"bool\",\"name\":\"approved\",\"type\":\"bool\"}],\"name\":\"ApprovalForAll\",\"type\":\"event\"},{\"anonymous\":false,\"inputs\":[{\"indexed\":true,\"internalType\":\"address\",\"name\":\"from\",\"type\":\"address\"},{\"indexed\":true,\"internalType\":\"address\",\"name\":\"to\",\"type\":\"address\"},{\"indexed\":true,\"internalType\":\"uint256\",\"name\":\"tokenId\",\"type\":\"uint256\"}],\"name\":\"Transfer\",\"type\":\"event\"},{\"inputs\":[{\"internalType\":\"address\",\"name\":\"to\",\"type\":\"address\"},{\"internalType\":\"uint256\",\"name\":\"tokenId\",\"type\":\"uint256\"}],\"name\":\"approve\",\"outputs\":[],\"stateMutability\":\"nonpayable\",\"type\":\"function\"},{\"inputs\":[{\"internalType\":\"address\",\"name\":\"owner\",\"type\":\"address\"}],\"name\":\"balanceOf\",\"outputs\":[{\"internalType\":\"uint256\",\"name\":\"balance\",\"type\":\"uint256\"}],\"stateMutability\":\"view\",\"type\":\"function\"},{\"inputs\":[{\"internalType\":\"uint256\",\"name\":\"tokenId\",\"type\":\"uint256\"}],\"name\":\"getApproved\",\"outputs\":[{\"internalType\":\"address\",\"name\":\"operator\",\"type\":\"address\"}],\"stateMutability\":\"view\",\"type\":\"function\"},{\"inputs\":[{\"internalType\":\"address\",\"name\":\"owner\",\"type\":\"address\"},{\"internalType\":\"address\",\"name\":\"operator\",\"type\":\"address\"}],\"name\":\"isApprovedForAll\",\"outputs\":[{\"internalType\":\"bool\",\"name\":\"\",\"type\":\"bool\"}],\"stateMutability\":\"view\",\"type\":\"function\"},{\"inputs\":[{\"internalType\":\"uint256\",\"name\":\"tokenId\",\"type\":\"uint256\"}],\"name\":\"ownerOf\",\"outputs\":[{\"internalType\":\"address\",\"name\":\"owner\",\"type\":\"address\"}],\"stateMutability\":\"view\",\"type\":\"function\"},{\"inputs\":[{\"internalType\":\"address\",\"name\":\"from\",\"type\":\"address\"},{\"internalType\":\"address\",\"name\":\"to\",\"type\":\"address\"},{\"internalType\":\"uint256\",\"name\":\"tokenId\",\"type\":\"uint256\"}],\"name\":\"safeTransferFrom\",\"outputs\":[],\"stateMutability\":\"nonpayable\",\"type\":\"function\"},{\"inputs\":[{\"internalType\":\"address\",\"name\":\"from\",\"type\":\"address\"},{\"internalType\":\"address\",\"name\":\"to\",\"type\":\"address\"},{\"internalType\":\"uint256\",\"name\":\"tokenId\",\"type\":\"uint256\"},{\"internalType\":\"bytes\",\"name\":\"data\",\"type\":\"bytes\"}],\"name\":\"safeTransferFrom\",\"outputs\":[],\"stateMutability\":\"nonpayable\",\"type\":\"function\"},{\"inputs\":[{\"internalType\":\"address\",\"name\":\"operator\",\"type\":\"address\"},{\"internalType\":\"bool\",\"name\":\"_approved\",\"type\":\"bool\"}],\"name\":\"setApprovalForAll\",\"outputs\":[],\"stateMutability\":\"nonpayable\",\"type\":\"function\"},{\"inputs\":[{\"internalType\":\"bytes4\",\"name\":\"interfaceId\",\"type\":\"bytes4\"}],\"name\":\"supportsInterface\",\"outputs\":[{\"internalType\":\"bool\",\"name\":\"\",\"type\":\"bool\"}],\"stateMutability\":\"view\",\"type\":\"function\"},{\"inputs\":[{\"internalType\":\"address\",\"name\":\"from\",\"type\":\"address\"},{\"internalType\":\"address\",\"name\":\"to\",\"type\":\"address\"},{\"internalType\":\"uint256\",\"name\":\"tokenId\",\"type\":\"uint256\"}],\"name\":\"transferFrom\",\"outputs\":[],\"stateMutability\":\"nonpayable\",\"type\":\"function\"}],\"bin\":\"\"},\"C://Users//chohj//Code//201810811//node_modules//@openzeppelin/contracts/token/ERC721/IERC721Receiver.sol:IERC721Receiver\":{\"abi\":[{\"inputs\":[{\"internalType\":\"address\",\"name\":\"operator\",\"type\":\"address\"},{\"internalType\":\"address\",\"name\":\"from\",\"type\":\"address\"},{\"internalType\":\"uint256\",\"name\":\"tokenId\",\"type\":\"uint256\"},{\"internalType\":\"bytes\",\"name\":\"data\",\"type\":\"bytes\"}],\"name\":\"onERC721Received\",\"outputs\":[{\"internalType\":\"bytes4\",\"name\":\"\",\"type\":\"bytes4\"}],\"stateMutability\":\"nonpayable\",\"type\":\"function\"}],\"bin\":\"\"},\"C://Users//chohj//Code//201810811//node_modules//@openzeppelin/contracts/token/ERC721/extensions/ERC721URIStorage.sol:ERC721URIStorage\":{\"abi\":[{\"anonymous\":false,\"inputs\":[{\"indexed\":true,\"internalType\":\"address\",\"name\":\"owner\",\"type\":\"address\"},{\"indexed\":true,\"internalType\":\"address\",\"name\":\"approved\",\"type\":\"address\"},{\"indexed\":true,\"internalType\":\"uint256\",\"name\":\"tokenId\",\"type\":\"uint256\"}],\"name\":\"Approval\",\"type\":\"event\"},{\"anonymous\":false,\"inputs\":[{\"indexed\":true,\"internalType\":\"address\",\"name\":\"owner\",\"type\":\"address\"},{\"indexed\":true,\"internalType\":\"address\",\"name\":\"operator\",\"type\":\"address\"},{\"indexed\":false,\"internalType\":\"bool\",\"name\":\"approved\",\"type\":\"bool\"}],\"name\":\"ApprovalForAll\",\"type\":\"event\"},{\"anonymous\":false,\"inputs\":[{\"indexed\":true,\"internalType\":\"address\",\"name\":\"from\",\"type\":\"address\"},{\"indexed\":true,\"internalType\":\"address\",\"name\":\"to\",\"type\":\"address\"},{\"indexed\":true,\"internalType\":\"uint256\",\"name\":\"tokenId\",\"type\":\"uint256\"}],\"name\":\"Transfer\",\"type\":\"event\"},{\"inputs\":[{\"internalType\":\"address\",\"name\":\"to\",\"type\":\"address\"},{\"internalType\":\"uint256\",\"name\":\"tokenId\",\"type\":\"uint256\"}],\"name\":\"approve\",\"outputs\":[],\"stateMutability\":\"nonpayable\",\"type\":\"function\"},{\"inputs\":[{\"internalType\":\"address\",\"name\":\"owner\",\"type\":\"address\"}],\"name\":\"balanceOf\",\"outputs\":[{\"internalType\":\"uint256\",\"name\":\"\",\"type\":\"uint256\"}],\"stateMutability\":\"view\",\"type\":\"function\"},{\"inputs\":[{\"internalType\":\"uint256\",\"name\":\"tokenId\",\"type\":\"uint256\"}],\"name\":\"getApproved\",\"outputs\":[{\"internalType\":\"address\",\"name\":\"\",\"type\":\"address\"}],\"stateMutability\":\"view\",\"type\":\"function\"},{\"inputs\":[{\"internalType\":\"address\",\"name\":\"owner\",\"type\":\"address\"},{\"internalType\":\"address\",\"name\":\"operator\",\"type\":\"address\"}],\"name\":\"isApprovedForAll\",\"outputs\":[{\"internalType\":\"bool\",\"name\":\"\",\"type\":\"bool\"}],\"stateMutability\":\"view\",\"type\":\"function\"},{\"inputs\":[],\"name\":\"name\",\"outputs\":[{\"internalType\":\"string\",\"name\":\"\",\"type\":\"string\"}],\"stateMutability\":\"view\",\"type\":\"function\"},{\"inputs\":[{\"internalType\":\"uint256\",\"name\":\"tokenId\",\"type\":\"uint256\"}],\"name\":\"ownerOf\",\"outputs\":[{\"internalType\":\"address\",\"name\":\"\",\"type\":\"address\"}],\"stateMutability\":\"view\",\"type\":\"function\"},{\"inputs\":[{\"internalType\":\"address\",\"name\":\"from\",\"type\":\"address\"},{\"internalType\":\"address\",\"name\":\"to\",\"type\":\"address\"},{\"internalType\":\"uint256\",\"name\":\"tokenId\",\"type\":\"uint256\"}],\"name\":\"safeTransferFrom\",\"outputs\":[],\"stateMutability\":\"nonpayable\",\"type\":\"function\"},{\"inputs\":[{\"internalType\":\"address\",\"name\":\"from\",\"type\":\"address\"},{\"internalType\":\"address\",\"name\":\"to\",\"type\":\"address\"},{\"internalType\":\"uint256\",\"name\":\"tokenId\",\"type\":\"uint256\"},{\"internalType\":\"bytes\",\"name\":\"_data\",\"type\":\"bytes\"}],\"name\":\"safeTransferFrom\",\"outputs\":[],\"stateMutability\":\"nonpayable\",\"type\":\"function\"},{\"inputs\":[{\"internalType\":\"address\",\"name\":\"operator\",\"type\":\"address\"},{\"internalType\":\"bool\",\"name\":\"approved\",\"type\":\"bool\"}],\"name\":\"setApprovalForAll\",\"outputs\":[],\"stateMutability\":\"nonpayable\",\"type\":\"function\"},{\"inputs\":[{\"internalType\":\"bytes4\",\"name\":\"interfaceId\",\"type\":\"bytes4\"}],\"name\":\"supportsInterface\",\"outputs\":[{\"internalType\":\"bool\",\"name\":\"\",\"type\":\"bool\"}],\"stateMutability\":\"view\",\"type\":\"function\"},{\"inputs\":[],\"name\":\"symbol\",\"outputs\":[{\"internalType\":\"string\",\"name\":\"\",\"type\":\"string\"}],\"stateMutability\":\"view\",\"type\":\"function\"},{\"inputs\":[{\"internalType\":\"uint256\",\"name\":\"tokenId\",\"type\":\"uint256\"}],\"name\":\"tokenURI\",\"outputs\":[{\"internalType\":\"string\",\"name\":\"\",\"type\":\"string\"}],\"stateMutability\":\"view\",\"type\":\"function\"},{\"inputs\":[{\"internalType\":\"address\",\"name\":\"from\",\"type\":\"address\"},{\"internalType\":\"address\",\"name\":\"to\",\"type\":\"address\"},{\"internalType\":\"uint256\",\"name\":\"tokenId\",\"type\":\"uint256\"}],\"name\":\"transferFrom\",\"outputs\":[],\"stateMutability\":\"nonpayable\",\"type\":\"function\"}],\"bin\":\"\"},\"C://Users//chohj//Code//201810811//node_modules//@openzeppelin/contracts/token/ERC721/extensions/IERC721Metadata.sol:IERC721Metadata\":{\"abi\":[{\"anonymous\":false,\"inputs\":[{\"indexed\":true,\"internalType\":\"address\",\"name\":\"owner\",\"type\":\"address\"},{\"indexed\":true,\"internalType\":\"address\",\"name\":\"approved\",\"type\":\"address\"},{\"indexed\":true,\"internalType\":\"uint256\",\"name\":\"tokenId\",\"type\":\"uint256\"}],\"name\":\"Approval\",\"type\":\"event\"},{\"anonymous\":false,\"inputs\":[{\"indexed\":true,\"internalType\":\"address\",\"name\":\"owner\",\"type\":\"address\"},{\"indexed\":true,\"internalType\":\"address\",\"name\":\"operator\",\"type\":\"address\"},{\"indexed\":false,\"internalType\":\"bool\",\"name\":\"approved\",\"type\":\"bool\"}],\"name\":\"ApprovalForAll\",\"type\":\"event\"},{\"anonymous\":false,\"inputs\":[{\"indexed\":true,\"internalType\":\"address\",\"name\":\"from\",\"type\":\"address\"},{\"indexed\":true,\"internalType\":\"address\",\"name\":\"to\",\"type\":\"address\"},{\"indexed\":true,\"internalType\":\"uint256\",\"name\":\"tokenId\",\"type\":\"uint256\"}],\"name\":\"Transfer\",\"type\":\"event\"},{\"inputs\":[{\"internalType\":\"address\",\"name\":\"to\",\"type\":\"address\"},{\"internalType\":\"uint256\",\"name\":\"tokenId\",\"type\":\"uint256\"}],\"name\":\"approve\",\"outputs\":[],\"stateMutability\":\"nonpayable\",\"type\":\"function\"},{\"inputs\":[{\"internalType\":\"address\",\"name\":\"owner\",\"type\":\"address\"}],\"name\":\"balanceOf\",\"outputs\":[{\"internalType\":\"uint256\",\"name\":\"balance\",\"type\":\"uint256\"}],\"stateMutability\":\"view\",\"type\":\"function\"},{\"inputs\":[{\"internalType\":\"uint256\",\"name\":\"tokenId\",\"type\":\"uint256\"}],\"name\":\"getApproved\",\"outputs\":[{\"internalType\":\"address\",\"name\":\"operator\",\"type\":\"address\"}],\"stateMutability\":\"view\",\"type\":\"function\"},{\"inputs\":[{\"internalType\":\"address\",\"name\":\"owner\",\"type\":\"address\"},{\"internalType\":\"address\",\"name\":\"operator\",\"type\":\"address\"}],\"name\":\"isApprovedForAll\",\"outputs\":[{\"internalType\":\"bool\",\"name\":\"\",\"type\":\"bool\"}],\"stateMutability\":\"view\",\"type\":\"function\"},{\"inputs\":[],\"name\":\"name\",\"outputs\":[{\"internalType\":\"string\",\"name\":\"\",\"type\":\"string\"}],\"stateMutability\":\"view\",\"type\":\"function\"},{\"inputs\":[{\"internalType\":\"uint256\",\"name\":\"tokenId\",\"type\":\"uint256\"}],\"name\":\"ownerOf\",\"outputs\":[{\"internalType\":\"address\",\"name\":\"owner\",\"type\":\"address\"}],\"stateMutability\":\"view\",\"type\":\"function\"},{\"inputs\":[{\"internalType\":\"address\",\"name\":\"from\",\"type\":\"address\"},{\"internalType\":\"address\",\"name\":\"to\",\"type\":\"address\"},{\"internalType\":\"uint256\",\"name\":\"tokenId\",\"type\":\"uint256\"}],\"name\":\"safeTransferFrom\",\"outputs\":[],\"stateMutability\":\"nonpayable\",\"type\":\"function\"},{\"inputs\":[{\"internalType\":\"address\",\"name\":\"from\",\"type\":\"address\"},{\"internalType\":\"address\",\"name\":\"to\",\"type\":\"address\"},{\"internalType\":\"uint256\",\"name\":\"tokenId\",\"type\":\"uint256\"},{\"internalType\":\"bytes\",\"name\":\"data\",\"type\":\"bytes\"}],\"name\":\"safeTransferFrom\",\"outputs\":[],\"stateMutability\":\"nonpayable\",\"type\":\"function\"},{\"inputs\":[{\"internalType\":\"address\",\"name\":\"operator\",\"type\":\"address\"},{\"internalType\":\"bool\",\"name\":\"_approved\",\"type\":\"bool\"}],\"name\":\"setApprovalForAll\",\"outputs\":[],\"stateMutability\":\"nonpayable\",\"type\":\"function\"},{\"inputs\":[{\"internalType\":\"bytes4\",\"name\":\"interfaceId\",\"type\":\"bytes4\"}],\"name\":\"supportsInterface\",\"outputs\":[{\"internalType\":\"bool\",\"name\":\"\",\"type\":\"bool\"}],\"stateMutability\":\"view\",\"type\":\"function\"},{\"inputs\":[],\"name\":\"symbol\",\"outputs\":[{\"internalType\":\"string\",\"name\":\"\",\"type\":\"string\"}],\"stateMutability\":\"view\",\"type\":\"function\"},{\"inputs\":[{\"internalType\":\"uint256\",\"name\":\"tokenId\",\"type\":\"uint256\"}],\"name\":\"tokenURI\",\"outputs\":[{\"internalType\":\"string\",\"name\":\"\",\"type\":\"string\"}],\"stateMutability\":\"view\",\"type\":\"function\"},{\"inputs\":[{\"internalType\":\"address\",\"name\":\"from\",\"type\":\"address\"},{\"internalType\":\"address\",\"name\":\"to\",\"type\":\"address\"},{\"internalType\":\"uint256\",\"name\":\"tokenId\",\"type\":\"uint256\"}],\"name\":\"transferFrom\",\"outputs\":[],\"stateMutability\":\"nonpayable\",\"type\":\"function\"}],\"bin\":\"\"},\"C://Users//chohj//Code//201810811//node_modules//@openzeppelin/contracts/utils/Address.sol:Address\":{\"abi\":[],\"bin\":\"60566037600b82828239805160001a607314602a57634e487b7160e01b600052600060045260246000fd5b30600052607381538281f3fe73000000000000000000000000000000000000000030146080604052600080fdfea26469706673582212206ade4092664aeb530b55f094bb7dd3552523facbd08347d0a5f41e1d046a214164736f6c63430008070033\"},\"C://Users//chohj//Code//201810811//node_modules//@openzeppelin/contracts/utils/Context.sol:Context\":{\"abi\":[],\"bin\":\"\"},\"C://Users//chohj//Code//201810811//node_modules//@openzeppelin/contracts/utils/Counters.sol:Counters\":{\"abi\":[],\"bin\":\"60566037600b82828239805160001a607314602a57634e487b7160e01b600052600060045260246000fd5b30600052607381538281f3fe73000000000000000000000000000000000000000030146080604052600080fdfea264697066735822122037e9d9833e93a9d650cb30d96120a26bbd44b3b7ed5662d4bf2c54df9a2b302764736f6c63430008070033\"},\"C://Users//chohj//Code//201810811//node_modules//@openzeppelin/contracts/utils/Strings.sol:Strings\":{\"abi\":[],\"bin\":\"60566037600b82828239805160001a607314602a57634e487b7160e01b600052600060045260246000fd5b30600052607381538281f3fe73000000000000000000000000000000000000000030146080604052600080fdfea2646970667358221220e69fc1c2a0e01e29bcafe7f6432b3f333a9d7889ab2c3b3c947af18dae91808d64736f6c63430008070033\"},\"C://Users//chohj//Code//201810811//node_modules//@openzeppelin/contracts/utils/introspection/ERC165.sol:ERC165\":{\"abi\":[{\"inputs\":[{\"internalType\":\"bytes4\",\"name\":\"interfaceId\",\"type\":\"bytes4\"}],\"name\":\"supportsInterface\",\"outputs\":[{\"internalType\":\"bool\",\"name\":\"\",\"type\":\"bool\"}],\"stateMutability\":\"view\",\"type\":\"function\"}],\"bin\":\"\"},\"C://Users//chohj//Code//201810811//node_modules//@openzeppelin/contracts/utils/introspection/IERC165.sol:IERC165\":{\"abi\":[{\"inputs\":[{\"internalType\":\"bytes4\",\"name\":\"interfaceId\",\"type\":\"bytes4\"}],\"name\":\"supportsInterface\",\"outputs\":[{\"internalType\":\"bool\",\"name\":\"\",\"type\":\"bool\"}],\"stateMutability\":\"view\",\"type\":\"function\"}],\"bin\":\"\"},\"src/MyNFT.sol:MyNFT\":{\"abi\":[{\"inputs\":[],\"stateMutability\":\"nonpayable\",\"type\":\"constructor\"},{\"anonymous\":false,\"inputs\":[{\"indexed\":true,\"internalType\":\"address\",\"name\":\"owner\",\"type\":\"address\"},{\"indexed\":true,\"internalType\":\"address\",\"name\":\"approved\",\"type\":\"address\"},{\"indexed\":true,\"internalType\":\"uint256\",\"name\":\"tokenId\",\"type\":\"uint256\"}],\"name\":\"Approval\",\"type\":\"event\"},{\"anonymous\":false,\"inputs\":[{\"indexed\":true,\"internalType\":\"address\",\"name\":\"owner\",\"type\":\"address\"},{\"indexed\":true,\"internalType\":\"address\",\"name\":\"operator\",\"type\":\"address\"},{\"indexed\":false,\"internalType\":\"bool\",\"name\":\"approved\",\"type\":\"bool\"}],\"name\":\"ApprovalForAll\",\"type\":\"event\"},{\"anonymous\":false,\"inputs\":[{\"indexed\":true,\"internalType\":\"address\",\"name\":\"previousOwner\",\"type\":\"address\"},{\"indexed\":true,\"internalType\":\"address\",\"name\":\"newOwner\",\"type\":\"address\"}],\"name\":\"OwnershipTransferred\",\"type\":\"event\"},{\"anonymous\":false,\"inputs\":[{\"indexed\":true,\"internalType\":\"address\",\"name\":\"from\",\"type\":\"address\"},{\"indexed\":true,\"internalType\":\"address\",\"name\":\"to\",\"type\":\"address\"},{\"indexed\":true,\"internalType\":\"uint256\",\"name\":\"tokenId\",\"type\":\"uint256\"}],\"name\":\"Transfer\",\"type\":\"event\"},{\"inputs\":[{\"internalType\":\"address\",\"name\":\"to\",\"type\":\"address\"},{\"internalType\":\"uint256\",\"name\":\"tokenId\",\"type\":\"uint256\"}],\"name\":\"approve\",\"outputs\":[],\"stateMutability\":\"nonpayable\",\"type\":\"function\"},{\"inputs\":[{\"internalType\":\"address\",\"name\":\"owner\",\"type\":\"address\"}],\"name\":\"balanceOf\",\"outputs\":[{\"internalType\":\"uint256\",\"name\":\"\",\"type\":\"uint256\"}],\"stateMutability\":\"view\",\"type\":\"function\"},{\"inputs\":[{\"internalType\":\"uint256\",\"name\":\"tokenId\",\"type\":\"uint256\"}],\"name\":\"getApproved\",\"outputs\":[{\"internalType\":\"address\",\"name\":\"\",\"type\":\"address\"}],\"stateMutability\":\"view\",\"type\":\"function\"},{\"inputs\":[],\"name\":\"getItemsLength\",\"outputs\":[{\"internalType\":\"uint256\",\"name\":\"\",\"type\":\"uint256\"}],\"stateMutability\":\"view\",\"type\":\"function\"},{\"inputs\":[],\"name\":\"getOwner\",\"outputs\":[{\"internalType\":\"address\",\"name\":\"\",\"type\":\"address\"}],\"stateMutability\":\"view\",\"type\":\"function\"},{\"inputs\":[{\"internalType\":\"uint256\",\"name\":\"tokenId\",\"type\":\"uint256\"}],\"name\":\"getTokenIdToItem\",\"outputs\":[{\"internalType\":\"address\",\"name\":\"\",\"type\":\"address\"},{\"internalType\":\"address\",\"name\":\"\",\"type\":\"address\"},{\"internalType\":\"uint256\",\"name\":\"\",\"type\":\"uint256\"},{\"internalType\":\"string\",\"name\":\"\",\"type\":\"string\"},{\"internalType\":\"uint256\",\"name\":\"\",\"type\":\"uint256\"}],\"stateMutability\":\"view\",\"type\":\"function\"},{\"inputs\":[{\"internalType\":\"uint256\",\"name\":\"tokenId\",\"type\":\"uint256\"}],\"name\":\"getTokenURI\",\"outputs\":[{\"internalType\":\"string\",\"name\":\"\",\"type\":\"string\"}],\"stateMutability\":\"view\",\"type\":\"function\"},{\"inputs\":[],\"name\":\"getTotalSupply\",\"outputs\":[{\"internalType\":\"uint256\",\"name\":\"\",\"type\":\"uint256\"}],\"stateMutability\":\"view\",\"type\":\"function\"},{\"inputs\":[{\"internalType\":\"address\",\"name\":\"owner\",\"type\":\"address\"},{\"internalType\":\"address\",\"name\":\"operator\",\"type\":\"address\"}],\"name\":\"isApprovedForAll\",\"outputs\":[{\"internalType\":\"bool\",\"name\":\"\",\"type\":\"bool\"}],\"stateMutability\":\"view\",\"type\":\"function\"},{\"inputs\":[{\"internalType\":\"uint256\",\"name\":\"_id\",\"type\":\"uint256\"},{\"internalType\":\"address\",\"name\":\"to\",\"type\":\"address\"},{\"internalType\":\"string\",\"name\":\"tokenURI\",\"type\":\"string\"}],\"name\":\"mintWithIdURI\",\"outputs\":[{\"internalType\":\"uint256\",\"name\":\"\",\"type\":\"uint256\"}],\"stateMutability\":\"nonpayable\",\"type\":\"function\"},{\"inputs\":[{\"internalType\":\"address\",\"name\":\"to\",\"type\":\"address\"},{\"internalType\":\"string\",\"name\":\"tokenURI\",\"type\":\"string\"}],\"name\":\"mintWithURI\",\"outputs\":[{\"internalType\":\"uint256\",\"name\":\"\",\"type\":\"uint256\"}],\"stateMutability\":\"nonpayable\",\"type\":\"function\"},{\"inputs\":[{\"internalType\":\"address\",\"name\":\"from\",\"type\":\"address\"},{\"internalType\":\"address\",\"name\":\"to\",\"type\":\"address\"},{\"internalType\":\"uint256\",\"name\":\"_tokenId\",\"type\":\"uint256\"}],\"name\":\"myTransfer\",\"outputs\":[],\"stateMutability\":\"payable\",\"type\":\"function\"},{\"inputs\":[],\"name\":\"name\",\"outputs\":[{\"internalType\":\"string\",\"name\":\"\",\"type\":\"string\"}],\"stateMutability\":\"view\",\"type\":\"function\"},{\"inputs\":[],\"name\":\"owner\",\"outputs\":[{\"internalType\":\"address\",\"name\":\"\",\"type\":\"address\"}],\"stateMutability\":\"view\",\"type\":\"function\"},{\"inputs\":[{\"internalType\":\"uint256\",\"name\":\"tokenId\",\"type\":\"uint256\"}],\"name\":\"ownerOf\",\"outputs\":[{\"internalType\":\"address\",\"name\":\"\",\"type\":\"address\"}],\"stateMutability\":\"view\",\"type\":\"function\"},{\"inputs\":[],\"name\":\"renounceOwnership\",\"outputs\":[],\"stateMutability\":\"nonpayable\",\"type\":\"function\"},{\"inputs\":[{\"internalType\":\"address\",\"name\":\"from\",\"type\":\"address\"},{\"internalType\":\"address\",\"name\":\"to\",\"type\":\"address\"},{\"internalType\":\"uint256\",\"name\":\"tokenId\",\"type\":\"uint256\"}],\"name\":\"safeTransferFrom\",\"outputs\":[],\"stateMutability\":\"nonpayable\",\"type\":\"function\"},{\"inputs\":[{\"internalType\":\"address\",\"name\":\"from\",\"type\":\"address\"},{\"internalType\":\"address\",\"name\":\"to\",\"type\":\"address\"},{\"internalType\":\"uint256\",\"name\":\"tokenId\",\"type\":\"uint256\"},{\"internalType\":\"bytes\",\"name\":\"_data\",\"type\":\"bytes\"}],\"name\":\"safeTransferFrom\",\"outputs\":[],\"stateMutability\":\"nonpayable\",\"type\":\"function\"},{\"inputs\":[{\"internalType\":\"address\",\"name\":\"operator\",\"type\":\"address\"},{\"internalType\":\"bool\",\"name\":\"approved\",\"type\":\"bool\"}],\"name\":\"setApprovalForAll\",\"outputs\":[],\"stateMutability\":\"nonpayable\",\"type\":\"function\"},{\"inputs\":[{\"internalType\":\"uint256\",\"name\":\"_id\",\"type\":\"uint256\"},{\"internalType\":\"address\",\"name\":\"_o\",\"type\":\"address\"},{\"internalType\":\"address\",\"name\":\"_to\",\"type\":\"address\"},{\"internalType\":\"uint256\",\"name\":\"_p\",\"type\":\"uint256\"},{\"internalType\":\"string\",\"name\":\"_uri\",\"type\":\"string\"},{\"internalType\":\"uint256\",\"name\":\"_t\",\"type\":\"uint256\"}],\"name\":\"setTokenIdToItem\",\"outputs\":[],\"stateMutability\":\"nonpayable\",\"type\":\"function\"},{\"inputs\":[{\"internalType\":\"bytes4\",\"name\":\"interfaceId\",\"type\":\"bytes4\"}],\"name\":\"supportsInterface\",\"outputs\":[{\"internalType\":\"bool\",\"name\":\"\",\"type\":\"bool\"}],\"stateMutability\":\"view\",\"type\":\"function\"},{\"inputs\":[],\"name\":\"symbol\",\"outputs\":[{\"internalType\":\"string\",\"name\":\"\",\"type\":\"string\"}],\"stateMutability\":\"view\",\"type\":\"function\"},{\"inputs\":[{\"internalType\":\"uint256\",\"name\":\"\",\"type\":\"uint256\"}],\"name\":\"tokenIdToItem\",\"outputs\":[{\"internalType\":\"address\",\"name\":\"owner\",\"type\":\"address\"},{\"internalType\":\"address\",\"name\":\"currentOwner\",\"type\":\"address\"},{\"internalType\":\"uint256\",\"name\":\"price\",\"type\":\"uint256\"},{\"internalType\":\"string\",\"name\":\"uri\",\"type\":\"string\"},{\"internalType\":\"uint256\",\"name\":\"time\",\"type\":\"uint256\"}],\"stateMutability\":\"view\",\"type\":\"function\"},{\"inputs\":[{\"internalType\":\"uint256\",\"name\":\"tokenId\",\"type\":\"uint256\"}],\"name\":\"tokenURI\",\"outputs\":[{\"internalType\":\"string\",\"name\":\"\",\"type\":\"string\"}],\"stateMutability\":\"view\",\"type\":\"function\"},{\"inputs\":[{\"internalType\":\"address\",\"name\":\"from\",\"type\":\"address\"},{\"internalType\":\"address\",\"name\":\"to\",\"type\":\"address\"},{\"internalType\":\"uint256\",\"name\":\"tokenId\",\"type\":\"uint256\"}],\"name\":\"transferFrom\",\"outputs\":[],\"stateMutability\":\"nonpayable\",\"type\":\"function\"},{\"inputs\":[{\"internalType\":\"address\",\"name\":\"newOwner\",\"type\":\"address\"}],\"name\":\"transferOwnership\",\"outputs\":[],\"stateMutability\":\"nonpayable\",\"type\":\"function\"}],\"bin\":\"608060405260006009553480156200001657600080fd5b506040805180820182526005815264135e53919560da1b60208083019182528351808501909452600384526221a42560e91b9084015281519192916200005f91600091620000ee565b50805162000075906001906020840190620000ee565b505050620000926200008c6200009860201b60201c565b6200009c565b620001d1565b3390565b600780546001600160a01b038381166001600160a01b0319831681179093556040519116919082907f8be0079c531659141344cd1fd0a4f28419497f9722a3daafe3b4186f6b6457e090600090a35050565b828054620000fc9062000194565b90600052602060002090601f0160209004810192826200012057600085556200016b565b82601f106200013b57805160ff19168380011785556200016b565b828001600101855582156200016b579182015b828111156200016b5782518255916020019190600101906200014e565b50620001799291506200017d565b5090565b5b808211156200017957600081556001016200017e565b600181811c90821680620001a957607f821691505b60208210811415620001cb57634e487b7160e01b600052602260045260246000fd5b50919050565b6120ff80620001e16000396000f3fe6080604052600436106101815760003560e01c806370a08231116100d1578063a22cb4651161008a578063c87b56dd11610064578063c87b56dd1461045d578063e985e9c51461047d578063f2fde38b146104c6578063fc4d01da146104e657600080fd5b8063a22cb46514610408578063b88d4fde14610428578063c4e41b221461044857600080fd5b806370a082311461036b578063715018a61461038b578063893d20e8146103a05780638da5cb5b146103b557806393deedbe146103d357806395d89b41146103f357600080fd5b80631e26f7451161013e5780633bb3a24d116101185780633bb3a24d146102eb57806342842e0e1461030b5780635d36a3641461032b5780636352211e1461034b57600080fd5b80631e26f7451461027a57806323b872dd146102ab5780632d29b031146102cb57600080fd5b806301ffc9a71461018657806306fdde03146101bb578063081812fc146101dd578063095ea7b3146102155780630e98060214610237578063194f479514610265575b600080fd5b34801561019257600080fd5b506101a66101a1366004611ccb565b6104f9565b60405190151581526020015b60405180910390f35b3480156101c757600080fd5b506101d061054b565b6040516101b29190611ecc565b3480156101e957600080fd5b506101fd6101f8366004611d05565b6105dd565b6040516001600160a01b0390911681526020016101b2565b34801561022157600080fd5b50610235610230366004611ca1565b61066a565b005b34801561024357600080fd5b50610257610252366004611c53565b610780565b6040519081526020016101b2565b34801561027157600080fd5b50600954610257565b34801561028657600080fd5b5061029a610295366004611d05565b6107d8565b6040516101b2959493929190611e87565b3480156102b757600080fd5b506102356102c6366004611b5f565b6108ef565b3480156102d757600080fd5b506102356102e6366004611d1e565b610920565b3480156102f757600080fd5b506101d0610306366004611d05565b6109db565b34801561031757600080fd5b50610235610326366004611b5f565b610ace565b34801561033757600080fd5b5061029a610346366004611d05565b610ae9565b34801561035757600080fd5b506101fd610366366004611d05565b610bae565b34801561037757600080fd5b50610257610386366004611b11565b610c25565b34801561039757600080fd5b50610235610cac565b3480156103ac57600080fd5b506101fd610d12565b3480156103c157600080fd5b506007546001600160a01b03166101fd565b3480156103df57600080fd5b506102576103ee366004611d98565b610d2b565b3480156103ff57600080fd5b506101d0610d69565b34801561041457600080fd5b50610235610423366004611c17565b610d78565b34801561043457600080fd5b50610235610443366004611b9b565b610d87565b34801561045457600080fd5b50610257610dbf565b34801561046957600080fd5b506101d0610478366004611d05565b610dca565b34801561048957600080fd5b506101a6610498366004611b2c565b6001600160a01b03918216600090815260056020908152604080832093909416825291909152205460ff1690565b3480156104d257600080fd5b506102356104e1366004611b11565b610f41565b6102356104f4366004611b5f565b61100c565b60006001600160e01b031982166380ac58cd60e01b148061052a57506001600160e01b03198216635b5e139f60e01b145b8061054557506301ffc9a760e01b6001600160e01b03198316145b92915050565b60606000805461055a90611ff1565b80601f016020809104026020016040519081016040528092919081815260200182805461058690611ff1565b80156105d35780601f106105a8576101008083540402835291602001916105d3565b820191906000526020600020905b8154815290600101906020018083116105b657829003601f168201915b5050505050905090565b60006105e8826110c2565b61064e5760405162461bcd60e51b815260206004820152602c60248201527f4552433732313a20617070726f76656420717565727920666f72206e6f6e657860448201526b34b9ba32b73a103a37b5b2b760a11b60648201526084015b60405180910390fd5b506000908152600460205260409020546001600160a01b031690565b600061067582610bae565b9050806001600160a01b0316836001600160a01b031614156106e35760405162461bcd60e51b815260206004820152602160248201527f4552433732313a20617070726f76616c20746f2063757272656e74206f776e656044820152603960f91b6064820152608401610645565b336001600160a01b03821614806106ff57506106ff8133610498565b6107715760405162461bcd60e51b815260206004820152603860248201527f4552433732313a20617070726f76652063616c6c6572206973206e6f74206f7760448201527f6e6572206e6f7220617070726f76656420666f7220616c6c00000000000000006064820152608401610645565b61077b83836110df565b505050565b6000610790600880546001019055565b600061079b60085490565b90506107a7848261114d565b6107b18184611280565b6107d1816107c76007546001600160a01b031690565b8660008742610920565b9392505050565b6000818152600a60209081526040808320815160a08101835281546001600160a01b03908116825260018301541693810193909352600281015491830191909152600381018054849384936060938593849392918387019161083990611ff1565b80601f016020809104026020016040519081016040528092919081815260200182805461086590611ff1565b80156108b25780601f10610887576101008083540402835291602001916108b2565b820191906000526020600020905b81548152906001019060200180831161089557829003601f168201915b50505091835250506004919091015460209182015281519082015160408301516060840151608090940151929b919a509850919650945092505050565b6108f9338261130b565b6109155760405162461bcd60e51b815260040161064590611f31565b61077b8383836113f4565b6040805160a0810182526001600160a01b0387811682528681166020808401918252838501888152606085018881526080860188905260008d8152600a845296909620855181546001600160a01b031990811691871691909117825593516001820180549095169516949094179092559051600283015592518051929384936109af92600385019201906119c6565b5060809190910151600490910155600980549060006109cd8361202c565b919050555050505050505050565b6000818152600a60209081526040808320815160a08101835281546001600160a01b0390811682526001830154169381019390935260028101549183019190915260038101805460609493929183860191610a3590611ff1565b80601f0160208091040260200160405190810160405280929190818152602001828054610a6190611ff1565b8015610aae5780601f10610a8357610100808354040283529160200191610aae565b820191906000526020600020905b815481529060010190602001808311610a9157829003601f168201915b505050918352505060049190910154602090910152606001519392505050565b61077b83838360405180602001604052806000815250610d87565b600a6020526000908152604090208054600182015460028301546003840180546001600160a01b039485169594909316939192610b2590611ff1565b80601f0160208091040260200160405190810160405280929190818152602001828054610b5190611ff1565b8015610b9e5780601f10610b7357610100808354040283529160200191610b9e565b820191906000526020600020905b815481529060010190602001808311610b8157829003601f168201915b5050505050908060040154905085565b6000818152600260205260408120546001600160a01b0316806105455760405162461bcd60e51b815260206004820152602960248201527f4552433732313a206f776e657220717565727920666f72206e6f6e657869737460448201526832b73a103a37b5b2b760b91b6064820152608401610645565b60006001600160a01b038216610c905760405162461bcd60e51b815260206004820152602a60248201527f4552433732313a2062616c616e636520717565727920666f7220746865207a65604482015269726f206164647265737360b01b6064820152608401610645565b506001600160a01b031660009081526003602052604090205490565b6007546001600160a01b03163314610d065760405162461bcd60e51b815260206004820181905260248201527f4f776e61626c653a2063616c6c6572206973206e6f7420746865206f776e65726044820152606401610645565b610d106000611590565b565b6000610d266007546001600160a01b031690565b905090565b6000610d37838561114d565b610d418483611280565b610d6184610d576007546001600160a01b031690565b8560008642610920565b509192915050565b60606001805461055a90611ff1565b610d833383836115e2565b5050565b610d91338361130b565b610dad5760405162461bcd60e51b815260040161064590611f31565b610db9848484846116b1565b50505050565b6000610d2660085490565b6060610dd5826110c2565b610e3b5760405162461bcd60e51b815260206004820152603160248201527f45524337323155524953746f726167653a2055524920717565727920666f72206044820152703737b732bc34b9ba32b73a103a37b5b2b760791b6064820152608401610645565b60008281526006602052604081208054610e5490611ff1565b80601f0160208091040260200160405190810160405280929190818152602001828054610e8090611ff1565b8015610ecd5780601f10610ea257610100808354040283529160200191610ecd565b820191906000526020600020905b815481529060010190602001808311610eb057829003601f168201915b505050505090506000610eeb60408051602081019091526000815290565b9050805160001415610efe575092915050565b815115610f30578082604051602001610f18929190611e1b565b60405160208183030381529060405292505050919050565b610f39846116e4565b949350505050565b6007546001600160a01b03163314610f9b5760405162461bcd60e51b815260206004820181905260248201527f4f776e61626c653a2063616c6c6572206973206e6f7420746865206f776e65726044820152606401610645565b6001600160a01b0381166110005760405162461bcd60e51b815260206004820152602660248201527f4f776e61626c653a206e6577206f776e657220697320746865207a65726f206160448201526564647265737360d01b6064820152608401610645565b61100981611590565b50565b611015816110c2565b6110615760405162461bcd60e51b815260206004820152601860248201527f4572726f723a20546f6b656e4964206e6f74206f776e656400000000000000006044820152606401610645565b6000818152600a60205260409020600201543410156109155760405162461bcd60e51b815260206004820152601760248201527f4572726f723a20546f6b656e20636f737473206d6f72650000000000000000006044820152606401610645565b6000908152600260205260409020546001600160a01b0316151590565b600081815260046020526040902080546001600160a01b0319166001600160a01b038416908117909155819061111482610bae565b6001600160a01b03167f8c5be1e5ebec7d5bd14f71427d1e84f3dd0314c0f7b2291e5b200ac8c7c3b92560405160405180910390a45050565b6001600160a01b0382166111a35760405162461bcd60e51b815260206004820181905260248201527f4552433732313a206d696e7420746f20746865207a65726f20616464726573736044820152606401610645565b6111ac816110c2565b156111f95760405162461bcd60e51b815260206004820152601c60248201527f4552433732313a20746f6b656e20616c7265616479206d696e746564000000006044820152606401610645565b6001600160a01b0382166000908152600360205260408120805460019290611222908490611f82565b909155505060008181526002602052604080822080546001600160a01b0319166001600160a01b03861690811790915590518392907fddf252ad1be2c89b69c2b068fc378daa952ba7f163c4a11628f55a4df523b3ef908290a45050565b611289826110c2565b6112ec5760405162461bcd60e51b815260206004820152602e60248201527f45524337323155524953746f726167653a2055524920736574206f66206e6f6e60448201526d32bc34b9ba32b73a103a37b5b2b760911b6064820152608401610645565b6000828152600660209081526040909120825161077b928401906119c6565b6000611316826110c2565b6113775760405162461bcd60e51b815260206004820152602c60248201527f4552433732313a206f70657261746f7220717565727920666f72206e6f6e657860448201526b34b9ba32b73a103a37b5b2b760a11b6064820152608401610645565b600061138283610bae565b9050806001600160a01b0316846001600160a01b031614806113c957506001600160a01b0380821660009081526005602090815260408083209388168352929052205460ff165b80610f395750836001600160a01b03166113e2846105dd565b6001600160a01b031614949350505050565b826001600160a01b031661140782610bae565b6001600160a01b03161461146b5760405162461bcd60e51b815260206004820152602560248201527f4552433732313a207472616e736665722066726f6d20696e636f72726563742060448201526437bbb732b960d91b6064820152608401610645565b6001600160a01b0382166114cd5760405162461bcd60e51b8152602060048201526024808201527f4552433732313a207472616e7366657220746f20746865207a65726f206164646044820152637265737360e01b6064820152608401610645565b6114d86000826110df565b6001600160a01b0383166000908152600360205260408120805460019290611501908490611fae565b90915550506001600160a01b038216600090815260036020526040812080546001929061152f908490611f82565b909155505060008181526002602052604080822080546001600160a01b0319166001600160a01b0386811691821790925591518493918716917fddf252ad1be2c89b69c2b068fc378daa952ba7f163c4a11628f55a4df523b3ef91a4505050565b600780546001600160a01b038381166001600160a01b0319831681179093556040519116919082907f8be0079c531659141344cd1fd0a4f28419497f9722a3daafe3b4186f6b6457e090600090a35050565b816001600160a01b0316836001600160a01b031614156116445760405162461bcd60e51b815260206004820152601960248201527f4552433732313a20617070726f766520746f2063616c6c6572000000000000006044820152606401610645565b6001600160a01b03838116600081815260056020908152604080832094871680845294825291829020805460ff191686151590811790915591519182527f17307eab39ab6107e8899845ad3d59bd9653f200f220920489ca2b5937696c31910160405180910390a3505050565b6116bc8484846113f4565b6116c8848484846117bb565b610db95760405162461bcd60e51b815260040161064590611edf565b60606116ef826110c2565b6117535760405162461bcd60e51b815260206004820152602f60248201527f4552433732314d657461646174613a2055524920717565727920666f72206e6f60448201526e3732bc34b9ba32b73a103a37b5b2b760891b6064820152608401610645565b600061176a60408051602081019091526000815290565b9050600081511161178a57604051806020016040528060008152506107d1565b80611794846118c8565b6040516020016117a5929190611e1b565b6040516020818303038152906040529392505050565b60006001600160a01b0384163b156118bd57604051630a85bd0160e11b81526001600160a01b0385169063150b7a02906117ff903390899088908890600401611e4a565b602060405180830381600087803b15801561181957600080fd5b505af1925050508015611849575060408051601f3d908101601f1916820190925261184691810190611ce8565b60015b6118a3573d808015611877576040519150601f19603f3d011682016040523d82523d6000602084013e61187c565b606091505b50805161189b5760405162461bcd60e51b815260040161064590611edf565b805181602001fd5b6001600160e01b031916630a85bd0160e11b149050610f39565b506001949350505050565b6060816118ec5750506040805180820190915260018152600360fc1b602082015290565b8160005b811561191657806119008161202c565b915061190f9050600a83611f9a565b91506118f0565b60008167ffffffffffffffff8111156119315761193161209d565b6040519080825280601f01601f19166020018201604052801561195b576020820181803683370190505b5090505b8415610f3957611970600183611fae565b915061197d600a86612047565b611988906030611f82565b60f81b81838151811061199d5761199d612087565b60200101906001600160f81b031916908160001a9053506119bf600a86611f9a565b945061195f565b8280546119d290611ff1565b90600052602060002090601f0160209004810192826119f45760008555611a3a565b82601f10611a0d57805160ff1916838001178555611a3a565b82800160010185558215611a3a579182015b82811115611a3a578251825591602001919060010190611a1f565b50611a46929150611a4a565b5090565b5b80821115611a465760008155600101611a4b565b600067ffffffffffffffff80841115611a7a57611a7a61209d565b604051601f8501601f19908116603f01168101908282118183101715611aa257611aa261209d565b81604052809350858152868686011115611abb57600080fd5b858560208301376000602087830101525050509392505050565b80356001600160a01b0381168114611aec57600080fd5b919050565b600082601f830112611b0257600080fd5b6107d183833560208501611a5f565b600060208284031215611b2357600080fd5b6107d182611ad5565b60008060408385031215611b3f57600080fd5b611b4883611ad5565b9150611b5660208401611ad5565b90509250929050565b600080600060608486031215611b7457600080fd5b611b7d84611ad5565b9250611b8b60208501611ad5565b9150604084013590509250925092565b60008060008060808587031215611bb157600080fd5b611bba85611ad5565b9350611bc860208601611ad5565b925060408501359150606085013567ffffffffffffffff811115611beb57600080fd5b8501601f81018713611bfc57600080fd5b611c0b87823560208401611a5f565b91505092959194509250565b60008060408385031215611c2a57600080fd5b611c3383611ad5565b915060208301358015158114611c4857600080fd5b809150509250929050565b60008060408385031215611c6657600080fd5b611c6f83611ad5565b9150602083013567ffffffffffffffff811115611c8b57600080fd5b611c9785828601611af1565b9150509250929050565b60008060408385031215611cb457600080fd5b611cbd83611ad5565b946020939093013593505050565b600060208284031215611cdd57600080fd5b81356107d1816120b3565b600060208284031215611cfa57600080fd5b81516107d1816120b3565b600060208284031215611d1757600080fd5b5035919050565b60008060008060008060c08789031215611d3757600080fd5b86359550611d4760208801611ad5565b9450611d5560408801611ad5565b935060608701359250608087013567ffffffffffffffff811115611d7857600080fd5b611d8489828a01611af1565b92505060a087013590509295509295509295565b600080600060608486031215611dad57600080fd5b83359250611dbd60208501611ad5565b9150604084013567ffffffffffffffff811115611dd957600080fd5b611de586828701611af1565b9150509250925092565b60008151808452611e07816020860160208601611fc5565b601f01601f19169290920160200192915050565b60008351611e2d818460208801611fc5565b835190830190611e41818360208801611fc5565b01949350505050565b6001600160a01b0385811682528416602082015260408101839052608060608201819052600090611e7d90830184611def565b9695505050505050565b6001600160a01b038681168252851660208201526040810184905260a060608201819052600090611eba90830185611def565b90508260808301529695505050505050565b6020815260006107d16020830184611def565b60208082526032908201527f4552433732313a207472616e7366657220746f206e6f6e20455243373231526560408201527131b2b4bb32b91034b6b83632b6b2b73a32b960711b606082015260800190565b60208082526031908201527f4552433732313a207472616e736665722063616c6c6572206973206e6f74206f6040820152701ddb995c881b9bdc88185c1c1c9bdd9959607a1b606082015260800190565b60008219821115611f9557611f9561205b565b500190565b600082611fa957611fa9612071565b500490565b600082821015611fc057611fc061205b565b500390565b60005b83811015611fe0578181015183820152602001611fc8565b83811115610db95750506000910152565b600181811c9082168061200557607f821691505b6020821081141561202657634e487b7160e01b600052602260045260246000fd5b50919050565b60006000198214156120405761204061205b565b5060010190565b60008261205657612056612071565b500690565b634e487b7160e01b600052601160045260246000fd5b634e487b7160e01b600052601260045260246000fd5b634e487b7160e01b600052603260045260246000fd5b634e487b7160e01b600052604160045260246000fd5b6001600160e01b03198116811461100957600080fdfea264697066735822122082361741741697a06acc97293a91f1cf7086b4667f4510ba51fde5a9ab4500c464736f6c63430008070033\"}},\"version\":\"0.8.7+commit.e28d00a7.Windows.msvc\"}\n"
     ]
    }
   ],
   "source": [
    "!type src\\MyNFT.json"
   ]
  },
  {
   "cell_type": "markdown",
   "id": "68858295",
   "metadata": {},
   "source": [
    "## (7) solution"
   ]
  },
  {
   "cell_type": "code",
   "execution_count": 44,
   "id": "2dba3ba9",
   "metadata": {},
   "outputs": [
    {
     "name": "stdout",
     "output_type": "stream",
     "text": [
      "Overwriting src/MyNFTDeploy.js\n"
     ]
    }
   ],
   "source": [
    "%%writefile src/MyNFTDeploy.js\n",
    "var Web3 = require('web3');\n",
    "var _abiBinJson = require('./MyNFT.json');      //importing a javascript file\n",
    "\n",
    "var web3 = new Web3(new Web3.providers.HttpProvider(\"http://localhost:8345\"));\n",
    "\n",
    "contractName=Object.keys(_abiBinJson.contracts);\n",
    "//console.log(contractName);\n",
    "console.log(\"- contract name: \", contractName[12]);\n",
    "_abiArray=_abiBinJson.contracts[contractName[12]].abi;\n",
    "//_abiArray=JSON.parse(JSON.stringify(_abi));\n",
    "//_abiArray=JSON.parse(_abi);      //JSON parsing needed!! //SyntaxError: Unexpected token o in JSON at position 1\n",
    "_bin=\"0x\"+_abiBinJson.contracts[contractName[12]].bin;\n",
    "\n",
    "//console.log(\"- ABI: \" + _abiArray);\n",
    "//console.log(\"- Bytecode: \" + _bin);\n",
    "\n",
    "async function deploy() {\n",
    "    const accounts = await web3.eth.getAccounts();\n",
    "    console.log(\"Deploying the contract from \" + accounts[0]);\n",
    "    var deployed = await new web3.eth.Contract(_abiArray)\n",
    "        .deploy({data: _bin})\n",
    "        .send({from: accounts[0], gas: 5000000}, function(err, transactionHash) {\n",
    "                if(!err) console.log(\"hash: \" + transactionHash); \n",
    "        })\n",
    "        //.then(function(newContractInstance){\n",
    "        //    console.log(newContractInstance)\n",
    "        //});\n",
    "    console.log(\"---> The contract deployed to: \" + deployed.options.address)\n",
    "}\n",
    "deploy()"
   ]
  },
  {
   "cell_type": "code",
   "execution_count": 46,
   "id": "516046e5",
   "metadata": {},
   "outputs": [
    {
     "name": "stdout",
     "output_type": "stream",
     "text": [
      "- contract name:  src/MyNFT.sol:MyNFT\n",
      "Deploying the contract from 0x38E7751FE24a07D25929632297577b4E107cE99e\n",
      "hash: 0xee43f00572f6365da02212e6522a8f5440a64efbfeeca3a47ca9895ee874ac97\n",
      "---> The contract deployed to: 0x9826e08Efb0a5768DD142e6B5Be540e0BB1230f7\n"
     ]
    }
   ],
   "source": [
    "!node src/MyNFTDeploy.js"
   ]
  },
  {
   "cell_type": "code",
   "execution_count": 61,
   "id": "4438b797",
   "metadata": {},
   "outputs": [
    {
     "name": "stdout",
     "output_type": "stream",
     "text": [
      "Overwriting src/MyNFTUse.js\n"
     ]
    }
   ],
   "source": [
    "%%writefile src/MyNFTUse.js\n",
    "var Web3=require('web3');\n",
    "var _abiBinJson = require('./MyNFT.json');      //importing a javascript file\n",
    "\n",
    "var web3 = new Web3(new Web3.providers.HttpProvider(\"http://localhost:8345\"));\n",
    "//var web3 = new Web3(new Web3.providers.WebsocketProvider(\"ws://localhost:8345\"));\n",
    "contractName=Object.keys(_abiBinJson.contracts);\n",
    "console.log(\"- contract name: \", contractName[12]);\n",
    "_abiArray=_abiBinJson.contracts[contractName[12]].abi;\n",
    "//_abiArray=JSON.parse(JSON.stringify(_abi));\n",
    "//_abiArray=JSON.parse(_abi);      //JSON parsing needed!! //SyntaxError: Unexpected token o in JSON at position 1\n",
    "_bin=\"0x\"+_abiBinJson.contracts[contractName[12]].bin;\n",
    "var _nft = new web3.eth.Contract(_abiArray,\"0x9826e08Efb0a5768DD142e6B5Be540e0BB1230f7\");\n",
    "var event = _nft.events.Transfer({fromBlock: 0}, function (error, result) {\n",
    "    if (!error) {\n",
    "        console.log(\"Event fired: \" + JSON.stringify(result.returnValues));\n",
    "    }\n",
    "});\n",
    "\n",
    "\n",
    "async function doIt() {\n",
    "    const accounts = await web3.eth.getAccounts();\n",
    "\n",
    "    console.log(accounts[0], accounts[1], accounts[2]);\n",
    "    await _nft.methods.mintWithURI(accounts[1], \"https://ipfs.io/ipfs/QmYcHDtwa8iDqsFGBCjKC3N4FZZqh1T7qPXTYxMrp2htRo\")\n",
    "    .send({from: accounts[0], gas: 1000000})\n",
    "    .then(function(res) {\n",
    "        console.log(\"(8) minting from \" + res.from + \" to \" + res.events.Transfer.returnValues.to);\n",
    "    });\n",
    "    \n",
    "    await _nft.methods.mintWithURI(accounts[2], \"https://ipfs.io/ipfs/QmYknG3ST5BRp6tZRvwXkaWZAAcQiJSwacZ6UFEYvbwpNk\")\n",
    "    .send({from: accounts[0], gas: 1000000})\n",
    "    .then(function(res) {\n",
    "        console.log(\"(9) minting from \" + res.from + \" to \" + res.events.Transfer.returnValues.to);\n",
    "    });\n",
    "    \n",
    "    await _nft.methods.getItemsLength().call().then(function(res) {\n",
    "        console.log(\"(10) \" + res);\n",
    "    });\n",
    "    \n",
    "    console.log(\"(11) no solution\");\n",
    "    \n",
    "    await _nft.methods.getTokenURI(1).call().then(function(res) {\n",
    "        console.log(\"(12) tokenURI of tokenId 1: \" + res)\n",
    "    })\n",
    "    await _nft.methods.getTokenIdToItem(1).call().then(function(res) {\n",
    "        console.log(\"(13) tokenId 1: \" + JSON.stringify(res));\n",
    "    });\n",
    "\n",
    "    await _nft.methods.myTransfer(accounts[1], accounts[2], 1).send({from: accounts[0], gas: 1000000});\n",
    "    \n",
    "}\n",
    "doIt()"
   ]
  },
  {
   "cell_type": "code",
   "execution_count": 62,
   "id": "d5418230",
   "metadata": {},
   "outputs": [
    {
     "name": "stdout",
     "output_type": "stream",
     "text": [
      "- contract name:  src/MyNFT.sol:MyNFT\n",
      "0x38E7751FE24a07D25929632297577b4E107cE99e 0xFAB9Afb80D9811947DE6520794255dF06997bf01 0x6c3c98050A0E9864907BBEFFc696b91fc5900F71\n",
      "(8) minting from 0x38e7751fe24a07d25929632297577b4e107ce99e to 0xFAB9Afb80D9811947DE6520794255dF06997bf01\n",
      "(9) minting from 0x38e7751fe24a07d25929632297577b4e107ce99e to 0x6c3c98050A0E9864907BBEFFc696b91fc5900F71\n",
      "(10) 14\n",
      "(11) no solution\n",
      "(12) tokenURI of tokenId 1: https://ipfs.io/ipfs/QmYcHDtwa8iDqsFGBCjKC3N4FZZqh1T7qPXTYxMrp2htRo\n",
      "(13) tokenId 1: {\"0\":\"0x38E7751FE24a07D25929632297577b4E107cE99e\",\"1\":\"0xFAB9Afb80D9811947DE6520794255dF06997bf01\",\"2\":\"0\",\"3\":\"https://ipfs.io/ipfs/QmYcHDtwa8iDqsFGBCjKC3N4FZZqh1T7qPXTYxMrp2htRo\",\"4\":\"1655712911\"}\n"
     ]
    }
   ],
   "source": [
    "!node src/MyNFTUse.js"
   ]
  }
 ],
 "metadata": {
  "kernelspec": {
   "display_name": "Python 3 (ipykernel)",
   "language": "python",
   "name": "python3"
  },
  "language_info": {
   "codemirror_mode": {
    "name": "ipython",
    "version": 3
   },
   "file_extension": ".py",
   "mimetype": "text/x-python",
   "name": "python",
   "nbconvert_exporter": "python",
   "pygments_lexer": "ipython3",
   "version": "3.9.7"
  }
 },
 "nbformat": 4,
 "nbformat_minor": 5
}
