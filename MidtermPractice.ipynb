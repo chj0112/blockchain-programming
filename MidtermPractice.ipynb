{
 "cells": [
  {
   "cell_type": "markdown",
   "id": "4af1745a",
   "metadata": {},
   "source": [
    "# e3\n",
    "## 3-1 사설망을 구성하고 접속하기\n",
    "1. genesis.json 설정\n",
    "2. geth 네트워크 초기화\n",
    "3. 계정 발급\n",
    "4. geth 사설망 접속\n",
    "5. 충전\n",
    "6. geth 종료하기"
   ]
  },
  {
   "cell_type": "markdown",
   "id": "fa7fbf84",
   "metadata": {},
   "source": [
    "# e4\n",
    "## 4-1 계정을 생성하기\n",
    "* 상동\n",
    "## 4-2 계정을 coinbase로 정하기\n",
    "* miner.setEtherbase(eth.accounts[0])"
   ]
  }
 ],
 "metadata": {
  "kernelspec": {
   "display_name": "Python 3 (ipykernel)",
   "language": "python",
   "name": "python3"
  },
  "language_info": {
   "codemirror_mode": {
    "name": "ipython",
    "version": 3
   },
   "file_extension": ".py",
   "mimetype": "text/x-python",
   "name": "python",
   "nbconvert_exporter": "python",
   "pygments_lexer": "ipython3",
   "version": "3.9.7"
  }
 },
 "nbformat": 4,
 "nbformat_minor": 5
}
