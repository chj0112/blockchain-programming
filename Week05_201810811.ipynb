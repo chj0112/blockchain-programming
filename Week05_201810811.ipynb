{
 "cells": [
  {
   "cell_type": "markdown",
   "id": "b370bf54",
   "metadata": {},
   "source": [
    "# 5주\n",
    "\n",
    "아래 문제를 주피터 노트북에서 풀고, ipynb를 제출.\n",
    "\n",
    "모든 문항은 nodejs로 프로그램하세요."
   ]
  },
  {
   "cell_type": "markdown",
   "id": "2671977d",
   "metadata": {},
   "source": [
    "## 문제1\n",
    "\n",
    "* 1-1: ganache를 백그라운드로 띄우고, node에서 연결하여, coinbase주소를 출력하세요."
   ]
  },
  {
   "cell_type": "code",
   "execution_count": 11,
   "id": "a2c6c2dc",
   "metadata": {},
   "outputs": [
    {
     "name": "stdout",
     "output_type": "stream",
     "text": [
      "Overwriting src/web3account0.js\n"
     ]
    }
   ],
   "source": [
    "%%writefile src/web3account0.js\n",
    "var Web3 = require('web3');\n",
    "var web3 = new Web3('http://localhost:8345');\n",
    "async function getAccount0() {\n",
    "    accounts = await web3.eth.getAccounts();\n",
    "    account0=accounts[0];\n",
    "    console.log(\"coinbase: \" + account0);\n",
    "}\n",
    "getAccount0()"
   ]
  },
  {
   "cell_type": "code",
   "execution_count": 12,
   "id": "6ffe9428",
   "metadata": {},
   "outputs": [
    {
     "name": "stdout",
     "output_type": "stream",
     "text": [
      "coinbase: 0xFf21C21d7Cb3202073C2CE7aB0c141f56888D9e1\n"
     ]
    }
   ],
   "source": [
    "!node src/web3account0.js"
   ]
  },
  {
   "cell_type": "markdown",
   "id": "5db12bd2",
   "metadata": {},
   "source": [
    "* 1-2: 문제1-1을 geth를 띄우고 실행해보세요. geth에서의 coinbase를 출력하세요."
   ]
  },
  {
   "cell_type": "code",
   "execution_count": 28,
   "id": "a1b7ea57",
   "metadata": {},
   "outputs": [
    {
     "name": "stdout",
     "output_type": "stream",
     "text": [
      "\"0x40944b4662569d4099e55e77266075f017b8701d\"\n"
     ]
    }
   ],
   "source": [
    "!geth --exec eth.coinbase attach http://localhost:8445"
   ]
  },
  {
   "cell_type": "markdown",
   "id": "13344105",
   "metadata": {},
   "source": [
    "* 1-3: ganache의 coinbase에서 geth의 coinbase로 1 ether를 송금해 보세요. 송금 성공이면 잔고변화를 출력하고, 실패이면 그 이유를 간단히 설명하세요."
   ]
  },
  {
   "cell_type": "code",
   "execution_count": 50,
   "id": "ef42b0b1",
   "metadata": {},
   "outputs": [
    {
     "name": "stdout",
     "output_type": "stream",
     "text": [
      "Overwriting src/ganacheGethTransaction.js\n"
     ]
    }
   ],
   "source": [
    "%%writefile src/ganacheGethTransaction.js\n",
    "var Web3 = require('web3');\n",
    "var web3 = new Web3('http://localhost:8345');\n",
    "async function getCoinbaseBalance() {\n",
    "    bal1 = await web3.eth.getBalance(\"0xFf21C21d7Cb3202073C2CE7aB0c141f56888D9e1\");\n",
    "    bal2 = await web3.eth.getBalance(\"0x40944b4662569d4099e55e77266075f017b8701d\");\n",
    "    console.log(\"send balance: \", web3.utils.fromWei(bal1, \"ether\"));\n",
    "    console.log(\"receive balance: \", web3.utils.fromWei(bal2, \"ether\"));\n",
    "    send = await web3.eth.sendTransaction({from:\"0xFf21C21d7Cb3202073C2CE7aB0c141f56888D9e1\", to: \"0x40944b4662569d4099e55e77266075f017b8701d\", value: 1000000000000000000});\n",
    "    newBal1 = await web3.eth.getBalance(\"0xFf21C21d7Cb3202073C2CE7aB0c141f56888D9e1\");\n",
    "    newBal2 = await web3.eth.getBalance(\"0x40944b4662569d4099e55e77266075f017b8701d\");\n",
    "    console.log(\"new send balance: \", web3.utils.fromWei(newBal1, \"ether\"));\n",
    "    console.log(\"new receive balance: \", web3.utils.fromWei(newBal2, \"ether\"));\n",
    "}\n",
    "getCoinbaseBalance()"
   ]
  },
  {
   "cell_type": "code",
   "execution_count": 51,
   "id": "545e7c81",
   "metadata": {},
   "outputs": [
    {
     "name": "stdout",
     "output_type": "stream",
     "text": [
      "send balance:  992.999706\n",
      "receive balance:  7\n",
      "new send balance:  991.999664\n",
      "new receive balance:  8\n"
     ]
    }
   ],
   "source": [
    "!node src/ganacheGethTransaction.js"
   ]
  },
  {
   "cell_type": "markdown",
   "id": "17e711a2",
   "metadata": {},
   "source": [
    "## 문제 2\n",
    "\n",
    "* 2-1: ganache에 연결하고, 현재 coinbase의 잔고를 ether로 출력하세요."
   ]
  },
  {
   "cell_type": "code",
   "execution_count": 52,
   "id": "0c22a93c",
   "metadata": {},
   "outputs": [
    {
     "name": "stdout",
     "output_type": "stream",
     "text": [
      "Overwriting src/ganacheEthCoinbase.js\n"
     ]
    }
   ],
   "source": [
    "%%writefile src/ganacheEthCoinbase.js\n",
    "var Web3 = require('Web3');\n",
    "var web3 = new Web3('http://localhost:8345');\n",
    "async function getAccount0() {\n",
    "    accounts = await web3.eth.getAccounts();\n",
    "    account0=accounts[0];\n",
    "    bal0 = await web3.eth.getBalance(account0);\n",
    "    console.log(\"coinbase balance: \" + web3.utils.fromWei(bal0, \"ether\"));\n",
    "}\n",
    "getAccount0()"
   ]
  },
  {
   "cell_type": "code",
   "execution_count": 53,
   "id": "dcaeff4c",
   "metadata": {},
   "outputs": [
    {
     "name": "stdout",
     "output_type": "stream",
     "text": [
      "coinbase balance: 991.999664\n"
     ]
    }
   ],
   "source": [
    "!node src/ganacheEthCoinbase.js"
   ]
  },
  {
   "cell_type": "markdown",
   "id": "902f32ab",
   "metadata": {},
   "source": [
    "* 2-2: 현재 거래소 환전가격을 구해서 한화로 계산하여 얼마인지 출력하세요. 환전가격은 거래소 가격을 읽어서 프로그램에 코딩한다."
   ]
  },
  {
   "cell_type": "code",
   "execution_count": 58,
   "id": "bec7599f",
   "metadata": {},
   "outputs": [
    {
     "name": "stdout",
     "output_type": "stream",
     "text": [
      "Overwriting src/ganacheEthWon.js\n"
     ]
    }
   ],
   "source": [
    "%%writefile src/ganacheEthWon.js\n",
    "var Web3 = require('Web3');\n",
    "var web3 = new Web3('http://localhost:8345');\n",
    "async function getWon() {\n",
    "    accounts = await web3.eth.getAccounts();\n",
    "    account0=accounts[0];\n",
    "    bal0 = await web3.eth.getBalance(account0);\n",
    "    console.log(\"coinbase won: \" + web3.utils.fromWei(bal0, \"ether\")*4048000);\n",
    "}\n",
    "getWon()"
   ]
  },
  {
   "cell_type": "code",
   "execution_count": 59,
   "id": "68b9d49b",
   "metadata": {},
   "outputs": [
    {
     "name": "stdout",
     "output_type": "stream",
     "text": [
      "coinbase won: 4015614639.872\n"
     ]
    }
   ],
   "source": [
    "!node src/ganacheEthWon.js"
   ]
  }
 ],
 "metadata": {
  "kernelspec": {
   "display_name": "Python 3 (ipykernel)",
   "language": "python",
   "name": "python3"
  },
  "language_info": {
   "codemirror_mode": {
    "name": "ipython",
    "version": 3
   },
   "file_extension": ".py",
   "mimetype": "text/x-python",
   "name": "python",
   "nbconvert_exporter": "python",
   "pygments_lexer": "ipython3",
   "version": "3.9.7"
  }
 },
 "nbformat": 4,
 "nbformat_minor": 5
}
