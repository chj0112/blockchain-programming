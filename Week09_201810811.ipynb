{
 "cells": [
  {
   "cell_type": "markdown",
   "id": "f394351a",
   "metadata": {},
   "source": [
    "# 블록체인프로그래밍 9주차 과제"
   ]
  },
  {
   "cell_type": "markdown",
   "id": "d2748d9d",
   "metadata": {},
   "source": [
    "## HelloInString.sol\n",
    "### 소스코드"
   ]
  },
  {
   "cell_type": "markdown",
   "id": "11ffcc01",
   "metadata": {},
   "source": [
    "```\n",
    "pragma solidity ^0.4.0;\n",
    "contract HelloInString {\n",
    "    string toWhom;\n",
    "    function sayHello() pure public returns(string memory) {\n",
    "        return \"Hello smu\";\n",
    "    }\n",
    "    function setWhom(string memory _toWhom) public {\n",
    "        toWhom = _toWhom;\n",
    "    }\n",
    "    function getWhom() view public returns(string memory) {\n",
    "        return toWhom;\n",
    "    }\n",
    "}\n",
    "```"
   ]
  },
  {
   "cell_type": "markdown",
   "id": "164b1267",
   "metadata": {},
   "source": [
    "* sayHello에서 받아오는 변수가 없기 때문에 view 대신 pure를 이용했음."
   ]
  },
  {
   "cell_type": "markdown",
   "id": "2c8c606c",
   "metadata": {},
   "source": [
    "### 배포 로그"
   ]
  },
  {
   "cell_type": "markdown",
   "id": "13f4a950",
   "metadata": {},
   "source": [
    "```\n",
    "creation of HelloInString pending...\n",
    "[vm]from: 0x5B3...eddC4to: HelloInString.(constructor)value: 0 weidata: 0x608...c0029logs: 0hash: 0xce9...ebf6e\n",
    "status\ttrue Transaction mined and execution succeed\n",
    "transaction hash\t0xce9c2656a6a48ef5d4f6b06d50fdbd52961bffa76aab6f607c8e7ba2ae8ebf6e\n",
    "from\t0x5B38Da6a701c568545dCfcB03FcB875f56beddC4\n",
    "to\tHelloInString.(constructor)\n",
    "gas\t294819 gas\n",
    "transaction cost\t256364 gas \n",
    "execution cost\t256364 gas \n",
    "input\t0x608...c0029\n",
    "decoded input\t{}\n",
    "decoded output\t - \n",
    "logs\t[]\n",
    "val\t0 wei\n",
    "```"
   ]
  },
  {
   "cell_type": "markdown",
   "id": "5a0bf5c1",
   "metadata": {},
   "source": [
    "### sayHello 로그"
   ]
  },
  {
   "cell_type": "markdown",
   "id": "3ac8714a",
   "metadata": {},
   "source": [
    "```\n",
    "call to HelloInString.sayHello\n",
    "CALL\n",
    "[call]from: 0x5B38Da6a701c568545dCfcB03FcB875f56beddC4to: HelloInString.sayHello()data: 0xef5...fb05b\n",
    "from\t0x5B38Da6a701c568545dCfcB03FcB875f56beddC4\n",
    "to\tHelloInString.sayHello() 0xd9145CCE52D386f254917e481eB44e9943F39138\n",
    "execution cost\t21713 gas (Cost only applies when called by a contract)\n",
    "input\t0xef5...fb05b\n",
    "decoded input\t{}\n",
    "decoded output\t{\n",
    "\t\"0\": \"string: Hello smu\"\n",
    "}\n",
    "logs\t[]\n",
    "```"
   ]
  },
  {
   "cell_type": "markdown",
   "id": "e84ab1b1",
   "metadata": {},
   "source": [
    "### setWhom 로그"
   ]
  },
  {
   "cell_type": "markdown",
   "id": "6044f885",
   "metadata": {},
   "source": [
    "```\n",
    "transact to HelloInString.setWhom pending ... \n",
    "[vm]from: 0x5B3...eddC4to: HelloInString.setWhom(string) 0xd91...39138value: 0 weidata: 0x1c8...00000logs: 0hash: 0xfbf...8d425\n",
    "status\ttrue Transaction mined and execution succeed\n",
    "transaction hash\t0xfbf80508a1c3e74a15a1274b2bb079fdb9efa20732ef17fbb27e0e6201c8d425\n",
    "from\t0x5B38Da6a701c568545dCfcB03FcB875f56beddC4\n",
    "to\tHelloInString.setWhom(string) 0xd9145CCE52D386f254917e481eB44e9943F39138\n",
    "gas\t50963 gas\n",
    "transaction cost\t44315 gas \n",
    "execution cost\t44315 gas \n",
    "input\t0x1c8...00000\n",
    "decoded input\t{\n",
    "\t\"string _toWhom\": \"chj\"\n",
    "}\n",
    "decoded output\t{}\n",
    "logs\t[]\n",
    "val\t0 wei\n",
    "```"
   ]
  },
  {
   "cell_type": "markdown",
   "id": "7551f465",
   "metadata": {},
   "source": [
    "### getWhom 로그"
   ]
  },
  {
   "cell_type": "markdown",
   "id": "74a6581a",
   "metadata": {},
   "source": [
    "```\n",
    "call to HelloInString.getWhom\n",
    "CALL\n",
    "[call]from: 0x5B38Da6a701c568545dCfcB03FcB875f56beddC4to: HelloInString.getWhom()data: 0x3c5...00c0e\n",
    "from\t0x5B38Da6a701c568545dCfcB03FcB875f56beddC4\n",
    "to\tHelloInString.getWhom() 0xd9145CCE52D386f254917e481eB44e9943F39138\n",
    "execution cost\t24212 gas (Cost only applies when called by a contract)\n",
    "input\t0x3c5...00c0e\n",
    "decoded input\t{}\n",
    "decoded output\t{\n",
    "\t\"0\": \"string: chj\"\n",
    "}\n",
    "logs\t[]\n",
    "```"
   ]
  },
  {
   "cell_type": "markdown",
   "id": "c37b0e52",
   "metadata": {},
   "source": [
    "## HelloInBytes.sol\n",
    "### 소스코드"
   ]
  },
  {
   "cell_type": "markdown",
   "id": "2736590c",
   "metadata": {},
   "source": [
    "```\n",
    "pragma solidity ^0.4.0;\n",
    "contract HelloInBytes {\n",
    "    bytes toWhom;\n",
    "    function sayHello() pure public returns(bytes memory) {\n",
    "        return \"Hello smu\";\n",
    "    }\n",
    "    function setWhom(string memory _toWhom) public {\n",
    "        toWhom = bytes(_toWhom);\n",
    "    }\n",
    "    function getWhom() view public returns(bytes memory) {\n",
    "        return toWhom;\n",
    "    }\n",
    "}\n",
    "```"
   ]
  },
  {
   "cell_type": "markdown",
   "id": "7f0613d4",
   "metadata": {},
   "source": [
    "* setWhom에서 매개변수를 바로 bytes로 받았을 때 오류가 발생하여 string으로 받고 형변환해주었음."
   ]
  },
  {
   "cell_type": "markdown",
   "id": "79f580e5",
   "metadata": {},
   "source": [
    "### 배포 로그"
   ]
  },
  {
   "cell_type": "markdown",
   "id": "67aadf79",
   "metadata": {},
   "source": [
    "```\n",
    "creation of HelloInBytes pending...\n",
    "[vm]from: 0x5B3...eddC4to: HelloInBytes.(constructor)value: 0 weidata: 0x608...00029logs: 0hash: 0x022...46559\n",
    "status\ttrue Transaction mined and execution succeed\n",
    "transaction hash\t0x0229866c12542c216c34c8a50261093a83b9e4a0d53d405505f1d43651046559\n",
    "from\t0x5B38Da6a701c568545dCfcB03FcB875f56beddC4\n",
    "to\tHelloInBytes.(constructor)\n",
    "gas\t294819 gas\n",
    "transaction cost\t256364 gas \n",
    "execution cost\t256364 gas \n",
    "input\t0x608...00029\n",
    "decoded input\t{}\n",
    "decoded output\t - \n",
    "logs\t[]\n",
    "val\t0 wei\n",
    "```"
   ]
  },
  {
   "cell_type": "markdown",
   "id": "36a10053",
   "metadata": {},
   "source": [
    "### sayHello 로그"
   ]
  },
  {
   "cell_type": "markdown",
   "id": "13aab1ff",
   "metadata": {},
   "source": [
    "```\n",
    "call to HelloInBytes.sayHello\n",
    "CALL\n",
    "[call]from: 0x5B38Da6a701c568545dCfcB03FcB875f56beddC4to: HelloInBytes.sayHello()data: 0xef5...fb05b\n",
    "from\t0x5B38Da6a701c568545dCfcB03FcB875f56beddC4\n",
    "to\tHelloInBytes.sayHello() 0xd9145CCE52D386f254917e481eB44e9943F39138\n",
    "execution cost\t21713 gas (Cost only applies when called by a contract)\n",
    "input\t0xef5...fb05b\n",
    "decoded input\t{}\n",
    "decoded output\t{\n",
    "\t\"0\": \"bytes: 0x48656c6c6f20736d75\"\n",
    "}\n",
    "logs\t[]\n",
    "```"
   ]
  },
  {
   "cell_type": "markdown",
   "id": "ae5ae44e",
   "metadata": {},
   "source": [
    "### setWhom 로그"
   ]
  },
  {
   "cell_type": "markdown",
   "id": "75974cb0",
   "metadata": {},
   "source": [
    "```\n",
    "transact to HelloInBytes.setWhom pending ... \n",
    "[vm]from: 0x5B3...eddC4to: HelloInBytes.setWhom(string) 0xd91...39138value: 0 weidata: 0x1c8...00000logs: 0hash: 0xfbf...8d425\n",
    "status\ttrue Transaction mined and execution succeed\n",
    "transaction hash\t0xfbf80508a1c3e74a15a1274b2bb079fdb9efa20732ef17fbb27e0e6201c8d425\n",
    "from\t0x5B38Da6a701c568545dCfcB03FcB875f56beddC4\n",
    "to\tHelloInBytes.setWhom(string) 0xd9145CCE52D386f254917e481eB44e9943F39138\n",
    "gas\t50963 gas\n",
    "transaction cost\t44315 gas \n",
    "execution cost\t44315 gas \n",
    "input\t0x1c8...00000\n",
    "decoded input\t{\n",
    "\t\"string _toWhom\": \"chj\"\n",
    "}\n",
    "decoded output\t{}\n",
    "logs\t[]\n",
    "val\t0 wei\n",
    "```"
   ]
  },
  {
   "cell_type": "markdown",
   "id": "00601d99",
   "metadata": {},
   "source": [
    "### getWhom 로그"
   ]
  },
  {
   "cell_type": "markdown",
   "id": "0646396a",
   "metadata": {},
   "source": [
    "```\n",
    "call to HelloInBytes.getWhom\n",
    "CALL\n",
    "[call]from: 0x5B38Da6a701c568545dCfcB03FcB875f56beddC4to: HelloInBytes.getWhom()data: 0x3c5...00c0e\n",
    "from\t0x5B38Da6a701c568545dCfcB03FcB875f56beddC4\n",
    "to\tHelloInBytes.getWhom() 0xd9145CCE52D386f254917e481eB44e9943F39138\n",
    "execution cost\t24212 gas (Cost only applies when called by a contract)\n",
    "input\t0x3c5...00c0e\n",
    "decoded input\t{}\n",
    "decoded output\t{\n",
    "\t\"0\": \"bytes: 0x63686a\"\n",
    "}\n",
    "logs\t[]\n",
    "```"
   ]
  },
  {
   "cell_type": "markdown",
   "id": "aa4c0d44",
   "metadata": {},
   "source": [
    "## gas 비교\n",
    "### 배포할 때\n",
    "gas, transaction cost, execution cost가 각각 294819, 256364, 256364로 같다.\n",
    "### setHello\n",
    "execution cost가 21713으로 같다."
   ]
  }
 ],
 "metadata": {
  "kernelspec": {
   "display_name": "Python 3 (ipykernel)",
   "language": "python",
   "name": "python3"
  },
  "language_info": {
   "codemirror_mode": {
    "name": "ipython",
    "version": 3
   },
   "file_extension": ".py",
   "mimetype": "text/x-python",
   "name": "python",
   "nbconvert_exporter": "python",
   "pygments_lexer": "ipython3",
   "version": "3.9.7"
  }
 },
 "nbformat": 4,
 "nbformat_minor": 5
}
