{
 "cells": [
  {
   "cell_type": "markdown",
   "id": "08881e54",
   "metadata": {},
   "source": [
    "# 블록체인프로그래밍 12주\n",
    "## (1) REMIX에서 주문하고, 이벤트 발생하는지 보이도록 콘솔 출력 붙여넣으세요.\n",
    "### 코드"
   ]
  },
  {
   "cell_type": "code",
   "execution_count": 39,
   "id": "547f84da",
   "metadata": {},
   "outputs": [
    {
     "name": "stdout",
     "output_type": "stream",
     "text": [
      "Overwriting src/OrderEvent.sol\n"
     ]
    }
   ],
   "source": [
    "%%writefile src/OrderEvent.sol\n",
    "//SPDX-License-Identifier: GPL-3.0-or-later\n",
    "pragma solidity ^0.8.0;\n",
    "\n",
    "contract OrderEvent {\n",
    "    address owner;\n",
    "\n",
    "    event OrderLog(address indexed _from, bytes2 _itemId, uint _quantity, uint _price, string _shipAddress);\n",
    "\n",
    "    constructor() {\n",
    "        owner = msg.sender;\n",
    "    }\n",
    "    function order(bytes2 _itemId, uint quantity, uint unitPrice, string memory shipAddress) public payable {\n",
    "        uint256 orderAmount = quantity * unitPrice;\n",
    "        require(msg.value == orderAmount);\n",
    "        emit OrderLog(msg.sender, _itemId, quantity, unitPrice, shipAddress);\n",
    "    }\n",
    "    function getBalance() public view isOwner returns(uint) {\n",
    "        return address(this).balance;\n",
    "    }\n",
    "    modifier isOwner {\n",
    "        require(msg.sender == owner);\n",
    "        _;\n",
    "    }\n",
    "}"
   ]
  },
  {
   "cell_type": "markdown",
   "id": "4663fbfc",
   "metadata": {},
   "source": [
    "### 로그\n",
    "#### 배포\n",
    "```\n",
    "creation of OrderEvent pending...\n",
    "[vm]from: 0x5B3...eddC4to: OrderEvent.(constructor)value: 0 weidata: 0x608...70033logs: 0hash: 0x65b...47138\n",
    "status\ttrue Transaction mined and execution succeed\n",
    "transaction hash\t0x65b61243128757784681a7264d65017898c6a458fac931ab98313af3df647138\n",
    "from\t0x5B38Da6a701c568545dCfcB03FcB875f56beddC4\n",
    "to\tOrderEvent.(constructor)\n",
    "gas\t437196 gas\n",
    "transaction cost\t380170 gas \n",
    "execution cost\t380170 gas \n",
    "input\t0x608...70033\n",
    "decoded input\t{}\n",
    "decoded output\t - \n",
    "logs\t[]\n",
    "val\t0 wei\n",
    "```\n",
    "#### order\n",
    "```\n",
    "transact to OrderEvent.order pending ... \n",
    "[vm]from: 0x5B3...eddC4to: OrderEvent.order(bytes2,uint256,uint256,string) 0xcD6...99Df9value: 300 weidata: 0x5a2...00000logs: 1hash: 0xcd1...8411e\n",
    "status\ttrue Transaction mined and execution succeed\n",
    "transaction hash\t0xcd1a3f90211b2279deeb85393b291cf713fb4dc6df9bd300a8a06c56bde8411e\n",
    "from\t0x5B38Da6a701c568545dCfcB03FcB875f56beddC4\n",
    "to\tOrderEvent.order(bytes2,uint256,uint256,string) 0xcD6a42782d230D7c13A74ddec5dD140e55499Df9\n",
    "gas\t32235 gas\n",
    "transaction cost\t28030 gas \n",
    "execution cost\t28030 gas \n",
    "input\t0x5a2...00000\n",
    "decoded input\t{\n",
    "\t\"bytes2 _itemId\": \"0x1111\",\n",
    "\t\"uint256 quantity\": \"3\",\n",
    "\t\"uint256 unitPrice\": \"100\",\n",
    "\t\"string shipAddress\": \"20 2-gil Hongji-dong Jongro-gu Seoul\"\n",
    "}\n",
    "decoded output\t{}\n",
    "logs\t[\n",
    "\t{\n",
    "\t\t\"from\": \"0xcD6a42782d230D7c13A74ddec5dD140e55499Df9\",\n",
    "\t\t\"topic\": \"0x538006ae16981d84b66e084c148f73553be69e4290d2c7bbb61abec6284186c1\",\n",
    "\t\t\"event\": \"OrderLog\",\n",
    "\t\t\"args\": {\n",
    "\t\t\t\"0\": \"0x5B38Da6a701c568545dCfcB03FcB875f56beddC4\",\n",
    "\t\t\t\"1\": \"0x1111\",\n",
    "\t\t\t\"2\": \"3\",\n",
    "\t\t\t\"3\": \"100\",\n",
    "\t\t\t\"4\": \"20 2-gil Hongji-dong Jongro-gu Seoul\",\n",
    "\t\t\t\"_from\": \"0x5B38Da6a701c568545dCfcB03FcB875f56beddC4\",\n",
    "\t\t\t\"_itemId\": \"0x1111\",\n",
    "\t\t\t\"_quantity\": \"3\",\n",
    "\t\t\t\"_price\": \"100\",\n",
    "\t\t\t\"_shipAddress\": \"20 2-gil Hongji-dong Jongro-gu Seoul\"\n",
    "\t\t}\n",
    "\t}\n",
    "]\n",
    "val\t300 wei\n",
    "```\n",
    "#### getBalance\n",
    "```\n",
    "call to OrderEvent.getBalance\n",
    "CALL\n",
    "[call]from: 0x5B38Da6a701c568545dCfcB03FcB875f56beddC4to: OrderEvent.getBalance()data: 0x120...65fe0\n",
    "from\t0x5B38Da6a701c568545dCfcB03FcB875f56beddC4\n",
    "to\tOrderEvent.getBalance() 0xcD6a42782d230D7c13A74ddec5dD140e55499Df9\n",
    "execution cost\t23551 gas (Cost only applies when called by a contract)\n",
    "input\t0x120...65fe0\n",
    "decoded input\t{}\n",
    "decoded output\t{\n",
    "\t\"0\": \"uint256: 300\"\n",
    "}\n",
    "logs\t[]\n",
    "```"
   ]
  },
  {
   "cell_type": "markdown",
   "id": "075a4272",
   "metadata": {},
   "source": [
    "## (2) 파일로 컴파일 하세요.\n",
    "### 컴파일"
   ]
  },
  {
   "cell_type": "code",
   "execution_count": 40,
   "id": "04e4eaa6",
   "metadata": {},
   "outputs": [],
   "source": [
    "!solc-windows.exe --optimize --combined-json abi,bin src/OrderEvent.sol > src/OrderEvent.json"
   ]
  },
  {
   "cell_type": "markdown",
   "id": "7a60fc4e",
   "metadata": {},
   "source": [
    "## (3) ganache에서 배포하세요.\n",
    "### 배포"
   ]
  },
  {
   "cell_type": "code",
   "execution_count": 41,
   "id": "844fe889",
   "metadata": {},
   "outputs": [
    {
     "name": "stdout",
     "output_type": "stream",
     "text": [
      "Overwriting src/OrderEventDeploy.js\n"
     ]
    }
   ],
   "source": [
    "%%writefile src/OrderEventDeploy.js\n",
    "var Web3 = require('web3');\n",
    "var _abiBinJson = require('./OrderEvent.json');      //importing a javascript file\n",
    "\n",
    "var web3 = new Web3(new Web3.providers.HttpProvider(\"http://localhost:8345\"));\n",
    "\n",
    "contractName=Object.keys(_abiBinJson.contracts); // reading ['src/OrderEvent.sol:OrderEvent']\n",
    "console.log(\"- contract name: \", contractName);\n",
    "_abiArray=_abiBinJson.contracts[contractName].abi;\n",
    "//_abiArray=JSON.parse(JSON.stringify(_abi));\n",
    "//_abiArray=JSON.parse(_abi);      //JSON parsing needed!! //SyntaxError: Unexpected token o in JSON at position 1\n",
    "_bin=_abiBinJson.contracts[contractName].bin;\n",
    "\n",
    "//console.log(\"- ABI: \" + _abiArray);\n",
    "//console.log(\"- Bytecode: \" + _bin);\n",
    "\n",
    "async function deploy() {\n",
    "    const accounts = await web3.eth.getAccounts();\n",
    "    console.log(\"Deploying the contract from \" + accounts[0]);\n",
    "    var deployed = await new web3.eth.Contract(_abiArray)\n",
    "        .deploy({data: \"0x\"+_bin})\n",
    "        .send({from: accounts[0], gas: 259210}, function(err, transactionHash) {\n",
    "                if(!err) console.log(\"hash: \" + transactionHash); \n",
    "        })\n",
    "        //.then(function(newContractInstance){\n",
    "        //    console.log(newContractInstance)\n",
    "        //});\n",
    "    console.log(\"---> The contract deployed to: \" + deployed.options.address)\n",
    "}\n",
    "deploy()"
   ]
  },
  {
   "cell_type": "code",
   "execution_count": 42,
   "id": "781a50f7",
   "metadata": {},
   "outputs": [
    {
     "name": "stdout",
     "output_type": "stream",
     "text": [
      "- contract name:  [ 'src/OrderEvent.sol:OrderEvent' ]\n",
      "Deploying the contract from 0x9A06797e60DbaDe0B84Eec669a7e59541F1586A6\n",
      "hash: 0xb733635b01ad29057765fad8e03262ab29a7b4cf1abe091e23490e3963b7dfa5\n",
      "---> The contract deployed to: 0x7BB6d568Fe28AF3f0b509794b3BcC1663F2b0CC3\n"
     ]
    }
   ],
   "source": [
    "!node src/OrderEventDeploy.js"
   ]
  },
  {
   "cell_type": "markdown",
   "id": "5757b806",
   "metadata": {},
   "source": [
    "## (4) 주문을 3건만 하고, 이벤트를 통해 다음과 같이 출력하세요.\n",
    "항목은 차례대로 주소, 상품항목번호, 주문개수, 단가, 배송지.\n",
    "```\n",
    "전송자주소, 1111, 3, 100, 20 2-gil Hongji-dong Jongro-gu Seoul\n",
    "전송자주소, 1111, 5, 100, 20 2-gil Hongji-dong Jongro-gu Seoul\n",
    "전송자주소, 1111, 20, 100, 20 2-gil Hongji-dong Jongro-gu Seoul\n",
    "```\n",
    "### 사용"
   ]
  },
  {
   "cell_type": "code",
   "execution_count": 43,
   "id": "b568a99a",
   "metadata": {},
   "outputs": [
    {
     "name": "stdout",
     "output_type": "stream",
     "text": [
      "Overwriting src/OrderEventUse.js\n"
     ]
    }
   ],
   "source": [
    "%%writefile src/OrderEventUse.js\n",
    "var Web3=require('web3');\n",
    "var fs = require('fs');\n",
    "var _abiBinJson = require('./OrderEvent.json');      //importing a javascript file\n",
    "\n",
    "//var web3 = new Web3(new Web3.providers.HttpProvider(\"http://localhost:8345\"));\n",
    "//var web3 = new Web3(new Web3.providers.WebsocketProvider(\"http://localhost:8345\"));\n",
    "var web3 = new Web3(new Web3.providers.WebsocketProvider(\"ws://localhost:8345\"));\n",
    "contractName=Object.keys(_abiBinJson.contracts); // reading ['src/OrderEvent.sol:OrderEvent']\n",
    "//console.log(\"- contract name: \", contractName); //or console.log(contractName[0]);\n",
    "_abiArray=_abiBinJson.contracts[contractName].abi; //use just as read from file\n",
    "//_abiArray=JSON.parse(JSON.stringify(_abi));\n",
    "//_abiArray=JSON.parse(_abi);      //JSON parsing needed!!\n",
    "//_bin=_abiBinJson.contracts[contractName].bin;\n",
    "console.log(\"- ABI: \" + _abiArray);\n",
    "//console.log(\"- Bytecode: \" + _bin);\n",
    "//var _test = new web3.eth.Contract(_abiArray,\"0x8911bA097c812Bf0B3ff22F90eaf2A905112C5a6\");\n",
    "//var event = _test.events.MyLog({fromBlock: 0}, function (error, result) {\n",
    "//    if (!error) {\n",
    "//        console.log(\"Event fired: \" + JSON.stringify(result.returnValues));\n",
    "//    }\n",
    "//});\n",
    "\n",
    "async function doIt() {\n",
    "    var _order = new web3.eth.Contract(_abiArray, '0x7BB6d568Fe28AF3f0b509794b3BcC1663F2b0CC3');\n",
    "    const accounts = await web3.eth.getAccounts();\n",
    "    console.log(\"Account: \" + accounts[0]);\n",
    "    var event = _order.events.OrderLog({\n",
    "            //filter: {_from: accounts[0], _value: [20,50]},\n",
    "            //filter: {_from: accounts[0], _value: 30},\n",
    "            fromBlock: 'latest', toBlock: 'pending'\n",
    "        }, function (error, result) {\n",
    "        if (!error) {\n",
    "            log = JSON.stringify(result.returnValues);\n",
    "            //console.log(\"Event fired: \" + JSON.stringify(result) + \"\\n---> \" + JSON.stringify(result.returnValues));\n",
    "            console.log(\"Event fired: \" + log);\n",
    "            fs.appendFile(\"src/OrderEvent.txt\", log + \"\\n\", \"utf-8\", function(e) {\n",
    "                if(!e) {\n",
    "                    console.log(\">> Writing to file\");\n",
    "                }\n",
    "            });\n",
    "            //process.exit(1);\n",
    "        }\n",
    "    });\n",
    "    var value;\n",
    "    const balanceBefore = await web3.eth.getBalance(accounts[0]);\n",
    "    console.log(\"Balance before: \" + balanceBefore);\n",
    "    // this will fire an event\n",
    "    my = await _order.methods.order(\"0x1111\", 3, 100, \"20 2-gil Hongji-dong Jongro-gu Seoul\")\n",
    "        .send({from: accounts[0], gas: 100000, value:300});\n",
    "    // this will fire another event\n",
    "    my = await _order.methods.order(\"0x1111\", 5, 100, \"20 2-gil Hongji-dong Jongro-gu Seoul\")\n",
    "        .send({from: accounts[0], gas: 100000, value:500});\n",
    "    // this will NOT fire another event\n",
    "    my = await _order.methods.order(\"0x1111\", 20, 100, \"20 2-gil Hongji-dong Jongro-gu Seoul\")\n",
    "        .send({from: accounts[0], gas: 100000, value:2000});\n",
    "    const balanceAfter = await web3.eth.getBalance(accounts[0]);\n",
    "    console.log(\"Balance after: \" + balanceAfter);\n",
    "    console.log(\"Balance diff: \" + (balanceBefore - balanceAfter));    \n",
    "    process.exit(1); //force exit to disconnect websocket\n",
    "}\n",
    "\n",
    "doIt()"
   ]
  },
  {
   "cell_type": "code",
   "execution_count": 44,
   "id": "8362043c",
   "metadata": {
    "scrolled": true
   },
   "outputs": [
    {
     "name": "stdout",
     "output_type": "stream",
     "text": [
      "- ABI: [object Object],[object Object],[object Object],[object Object]\n",
      "Account: 0x9A06797e60DbaDe0B84Eec669a7e59541F1586A6\n",
      "Balance before: 999999545628000000000\n",
      "Event fired: {\"0\":\"0x9A06797e60DbaDe0B84Eec669a7e59541F1586A6\",\"1\":\"0x1111\",\"2\":\"3\",\"3\":\"100\",\"4\":\"20 2-gil Hongji-dong Jongro-gu Seoul\",\"_from\":\"0x9A06797e60DbaDe0B84Eec669a7e59541F1586A6\",\"_itemId\":\"0x1111\",\"_quantity\":\"3\",\"_price\":\"100\",\"_shipAddress\":\"20 2-gil Hongji-dong Jongro-gu Seoul\"}\n",
      ">> Writing to file\n",
      "Event fired: {\"0\":\"0x9A06797e60DbaDe0B84Eec669a7e59541F1586A6\",\"1\":\"0x1111\",\"2\":\"5\",\"3\":\"100\",\"4\":\"20 2-gil Hongji-dong Jongro-gu Seoul\",\"_from\":\"0x9A06797e60DbaDe0B84Eec669a7e59541F1586A6\",\"_itemId\":\"0x1111\",\"_quantity\":\"5\",\"_price\":\"100\",\"_shipAddress\":\"20 2-gil Hongji-dong Jongro-gu Seoul\"}\n",
      ">> Writing to file\n",
      "Event fired: {\"0\":\"0x9A06797e60DbaDe0B84Eec669a7e59541F1586A6\",\"1\":\"0x1111\",\"2\":\"20\",\"3\":\"100\",\"4\":\"20 2-gil Hongji-dong Jongro-gu Seoul\",\"_from\":\"0x9A06797e60DbaDe0B84Eec669a7e59541F1586A6\",\"_itemId\":\"0x1111\",\"_quantity\":\"20\",\"_price\":\"100\",\"_shipAddress\":\"20 2-gil Hongji-dong Jongro-gu Seoul\"}\n",
      ">> Writing to file\n",
      "Balance after: 999999385691999997200\n",
      "Balance diff: 159936000032768\n"
     ]
    }
   ],
   "source": [
    "!node src/OrderEventUse.js"
   ]
  },
  {
   "cell_type": "markdown",
   "id": "c70c60dc",
   "metadata": {},
   "source": [
    "## (5) 파일에 저장된 파일내역을 출력하세요 (주피터 노트북에서 !type src/OrderEvent.txt)"
   ]
  },
  {
   "cell_type": "code",
   "execution_count": 45,
   "id": "dd77577b",
   "metadata": {
    "scrolled": false
   },
   "outputs": [
    {
     "name": "stdout",
     "output_type": "stream",
     "text": [
      "{\"0\":\"0x9A06797e60DbaDe0B84Eec669a7e59541F1586A6\",\"1\":\"0x1111\",\"2\":\"3\",\"3\":\"100\",\"4\":\"20 2-gil Hongji-dong Jongro-gu Seoul\",\"_from\":\"0x9A06797e60DbaDe0B84Eec669a7e59541F1586A6\",\"_itemId\":\"0x1111\",\"_quantity\":\"3\",\"_price\":\"100\",\"_shipAddress\":\"20 2-gil Hongji-dong Jongro-gu Seoul\"}\n",
      "{\"0\":\"0x9A06797e60DbaDe0B84Eec669a7e59541F1586A6\",\"1\":\"0x1111\",\"2\":\"5\",\"3\":\"100\",\"4\":\"20 2-gil Hongji-dong Jongro-gu Seoul\",\"_from\":\"0x9A06797e60DbaDe0B84Eec669a7e59541F1586A6\",\"_itemId\":\"0x1111\",\"_quantity\":\"5\",\"_price\":\"100\",\"_shipAddress\":\"20 2-gil Hongji-dong Jongro-gu Seoul\"}\n",
      "{\"0\":\"0x9A06797e60DbaDe0B84Eec669a7e59541F1586A6\",\"1\":\"0x1111\",\"2\":\"20\",\"3\":\"100\",\"4\":\"20 2-gil Hongji-dong Jongro-gu Seoul\",\"_from\":\"0x9A06797e60DbaDe0B84Eec669a7e59541F1586A6\",\"_itemId\":\"0x1111\",\"_quantity\":\"20\",\"_price\":\"100\",\"_shipAddress\":\"20 2-gil Hongji-dong Jongro-gu Seoul\"}\n"
     ]
    }
   ],
   "source": [
    "!type src\\OrderEvent.txt"
   ]
  }
 ],
 "metadata": {
  "kernelspec": {
   "display_name": "Python 3 (ipykernel)",
   "language": "python",
   "name": "python3"
  },
  "language_info": {
   "codemirror_mode": {
    "name": "ipython",
    "version": 3
   },
   "file_extension": ".py",
   "mimetype": "text/x-python",
   "name": "python",
   "nbconvert_exporter": "python",
   "pygments_lexer": "ipython3",
   "version": "3.9.7"
  }
 },
 "nbformat": 4,
 "nbformat_minor": 5
}
