{
 "cells": [
  {
   "cell_type": "markdown",
   "id": "1d61dfd9",
   "metadata": {},
   "source": [
    "# 블록체인프로그래밍 13주\n",
    "A, B 2인의 가위바위보 후 내기금액을 이긴 사람에게 지급하는 게임을 블록체인에 개발하세요.\n",
    "게임 컨트랙은 Rsp, 구현할 함수는 다음과 같다. 그 외 필요로 하는 함수는 추가할 수 있다.\n",
    "\n",
    "함수 | 설명\n",
    "-----|-----\n",
    "setA | 직접 입력하지 않고, 가위, 바위, 보를 무작위로 생성하여 내고 ```1000 wei```를 베팅한다.\n",
    "setB | 게임 플레이어가 직접 입력하고, ```1000 wei```를 베팅한다.\n",
    "play | setA, setB 입력이 끝나고 컴퓨터가 실행하는 것으로 하고, 승패가 결정짓는다.\n",
    "distributeBetAmount | 승패에 따라 분배한다. 승자가 패자의 내기 금액 ```1000 wei```를 가지게 된다.\n",
    "getMatchResult() | 누가 이겼는지 A, B 승자를 포함한 문자열 \"A wins\", \"B wins\", \"tie\" 결과를 출력한다.\n",
    "\n",
    "노드에서 게임을 다음과 같이 진행하세요.\n",
    "- 게임 전의 A잔고, B잔고, 컨트랙 잔고 출력 (컨트랙 상의 잔고를 말한다)\n",
    "- setA() 실행. 플레이어 A는 컴퓨터가 대행하는 것으로 하고, 내기금액 걸고 가위바위보 중 하나를 무작위로 선택\n",
    "- setB() 실행. B는 자신이 직접 내기금액 걸고, 가위바위보 중 하나를 선택하여 입력\n",
    "- play() 실행해서, 승부를 결정\n",
    "- getMatchResult() 실행해서, 승부의 결과를 출력\n",
    "- 게임 끝나고 A잔고, B잔고, 컨트랙 잔고 출력 (컨트랙 상의 잔고를 말한다)"
   ]
  },
  {
   "cell_type": "code",
   "execution_count": 20,
   "id": "43be0bbb",
   "metadata": {},
   "outputs": [
    {
     "name": "stdout",
     "output_type": "stream",
     "text": [
      "Overwriting src/Rsp.sol\n"
     ]
    }
   ],
   "source": [
    "%%writefile src/Rsp.sol\n",
    "//SPDX-License-Identifier: GPL-3.0-or-later\n",
    "pragma solidity ^0.8.0;\n",
    "\n",
    "contract Rsp {\n",
    "    struct Member {\n",
    "        string name;\n",
    "        uint betMoney;\n",
    "        uint whatRsp;\n",
    "    }\n",
    "    Member a;\n",
    "    Member b;\n",
    "    address owner;\n",
    "    address addrA = 0x0000000000000000000000000000000000000000;\n",
    "    address addrB = 0x0000000000000000000000000000000000000001;\n",
    "    string[3] matchResult = [\"A wins\", \"B wins\", \"tie\"];\n",
    "    uint result = 3;\n",
    "    mapping (address => uint) balanceOf;\n",
    "    constructor() {\n",
    "        owner = msg.sender;\n",
    "    }\n",
    "    function depositA(uint amount) payable public onlyOwner {\n",
    "        require(msg.value == amount);\n",
    "        balanceOf[addrA] += amount;\n",
    "    }\n",
    "    function depositB(uint amount) payable public onlyOwner {\n",
    "        require(msg.value == amount);\n",
    "        balanceOf[addrB] += amount;\n",
    "    }\n",
    "    function getBalance() public view returns(uint, uint, uint) {\n",
    "        return (balanceOf[addrA], balanceOf[addrB], address(this).balance);\n",
    "    }\n",
    "    function setA() public {\n",
    "        require(balanceOf[addrA] >= 1000);\n",
    "        uint rand = uint256(keccak256(abi.encodePacked(block.timestamp, block.difficulty)))%3;\n",
    "        a = Member(\"A\", 1000, rand);\n",
    "    }\n",
    "    function setB(uint _betMoney, string memory _whatRsp) public {\n",
    "        require(balanceOf[addrB] >= _betMoney);\n",
    "        uint numRsp;\n",
    "        if (keccak256(bytes(_whatRsp)) == keccak256(bytes(\"Rock\"))) numRsp = 0;\n",
    "        else if (keccak256(bytes(_whatRsp)) == keccak256(bytes(\"Scissors\"))) numRsp = 1;\n",
    "        else numRsp = 2;\n",
    "        b = Member(\"B\", _betMoney, numRsp);\n",
    "    }\n",
    "    function play() public {\n",
    "        if (a.whatRsp == b.whatRsp) {\n",
    "            result = 2;\n",
    "        }\n",
    "        else if ((a.whatRsp == 0 && b.whatRsp == 1) || (a.whatRsp == 1 && b.whatRsp == 2) || (a.whatRsp == 2 && b.whatRsp == 0)) {\n",
    "            result = 0;\n",
    "        }\n",
    "        else {\n",
    "            result = 1;\n",
    "        }\n",
    "    }\n",
    "    function distributeBetAmount() public onlyOwner{\n",
    "        if (result == 0) {\n",
    "            balanceOf[addrB] -= b.betMoney;\n",
    "            balanceOf[addrA] += b.betMoney;\n",
    "        }\n",
    "        else if (result == 1) {\n",
    "            balanceOf[addrA] -= a.betMoney;\n",
    "            balanceOf[addrB] += a.betMoney;\n",
    "        }\n",
    "    }\n",
    "    function getMatchResult() public view returns(string memory) {\n",
    "        return matchResult[result];\n",
    "    }\n",
    "    modifier onlyOwner {\n",
    "        require(msg.sender == owner);\n",
    "        _;\n",
    "    }\n",
    "}"
   ]
  },
  {
   "cell_type": "code",
   "execution_count": 21,
   "id": "ca0e04f8",
   "metadata": {},
   "outputs": [],
   "source": [
    "!solc-windows.exe --optimize --combined-json abi,bin src/Rsp.sol > src/Rsp.json"
   ]
  },
  {
   "cell_type": "code",
   "execution_count": 22,
   "id": "b35b3cd8",
   "metadata": {},
   "outputs": [
    {
     "name": "stdout",
     "output_type": "stream",
     "text": [
      "{\"contracts\":{\"src/Rsp.sol:Rsp\":{\"abi\":[{\"inputs\":[],\"stateMutability\":\"nonpayable\",\"type\":\"constructor\"},{\"inputs\":[{\"internalType\":\"uint256\",\"name\":\"amount\",\"type\":\"uint256\"}],\"name\":\"depositA\",\"outputs\":[],\"stateMutability\":\"payable\",\"type\":\"function\"},{\"inputs\":[{\"internalType\":\"uint256\",\"name\":\"amount\",\"type\":\"uint256\"}],\"name\":\"depositB\",\"outputs\":[],\"stateMutability\":\"payable\",\"type\":\"function\"},{\"inputs\":[],\"name\":\"distributeBetAmount\",\"outputs\":[],\"stateMutability\":\"nonpayable\",\"type\":\"function\"},{\"inputs\":[],\"name\":\"getBalance\",\"outputs\":[{\"internalType\":\"uint256\",\"name\":\"\",\"type\":\"uint256\"},{\"internalType\":\"uint256\",\"name\":\"\",\"type\":\"uint256\"},{\"internalType\":\"uint256\",\"name\":\"\",\"type\":\"uint256\"}],\"stateMutability\":\"view\",\"type\":\"function\"},{\"inputs\":[],\"name\":\"getMatchResult\",\"outputs\":[{\"internalType\":\"string\",\"name\":\"\",\"type\":\"string\"}],\"stateMutability\":\"view\",\"type\":\"function\"},{\"inputs\":[],\"name\":\"play\",\"outputs\":[],\"stateMutability\":\"nonpayable\",\"type\":\"function\"},{\"inputs\":[],\"name\":\"setA\",\"outputs\":[],\"stateMutability\":\"nonpayable\",\"type\":\"function\"},{\"inputs\":[{\"internalType\":\"uint256\",\"name\":\"_betMoney\",\"type\":\"uint256\"},{\"internalType\":\"string\",\"name\":\"_whatRsp\",\"type\":\"string\"}],\"name\":\"setB\",\"outputs\":[],\"stateMutability\":\"nonpayable\",\"type\":\"function\"}],\"bin\":\"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\"}},\"version\":\"0.8.7+commit.e28d00a7.Windows.msvc\"}\n"
     ]
    }
   ],
   "source": [
    "!type src\\Rsp.json"
   ]
  },
  {
   "cell_type": "code",
   "execution_count": 33,
   "id": "404059dc",
   "metadata": {},
   "outputs": [
    {
     "name": "stdout",
     "output_type": "stream",
     "text": [
      "Overwriting src/RspDeploy.js\n"
     ]
    }
   ],
   "source": [
    "%%writefile src/RspDeploy.js\n",
    "var Web3 = require('web3');\n",
    "var _abiBinJson = require('./Rsp.json');      //importing a javascript file\n",
    "\n",
    "var web3 = new Web3(new Web3.providers.HttpProvider(\"http://localhost:8345\"));\n",
    "\n",
    "contractName=Object.keys(_abiBinJson.contracts); // reading ['src/Rsp.sol:Rsp']\n",
    "console.log(\"- contract name: \", contractName);\n",
    "_abi=_abiBinJson.contracts[contractName].abi;\n",
    "_abiArray=JSON.parse(JSON.stringify(_abi));\n",
    "//_abiArray=JSON.parse(_abi);      //JSON parsing needed!! //SyntaxError: Unexpected token o in JSON at position 1\n",
    "_bin=_abiBinJson.contracts[contractName].bin;\n",
    "\n",
    "//console.log(\"- ABI: \" + _abiArray);\n",
    "//console.log(\"- Bytecode: \" + _bin);\n",
    "\n",
    "async function deploy() {\n",
    "    const accounts = await web3.eth.getAccounts();\n",
    "    console.log(\"Deploying the contract from \" + accounts[0]);\n",
    "    var deployed = await new web3.eth.Contract(_abiArray)\n",
    "        .deploy({data: \"0x\"+_bin})\n",
    "        .send({from: accounts[0], gas: 1500000}, function(err, transactionHash) {\n",
    "                if(!err) console.log(\"hash: \" + transactionHash); \n",
    "        })\n",
    "        //.then(function(newContractInstance){\n",
    "        //    console.log(newContractInstance)\n",
    "        //});\n",
    "    console.log(\"---> The contract deployed to: \" + deployed.options.address)\n",
    "}\n",
    "deploy()"
   ]
  },
  {
   "cell_type": "code",
   "execution_count": 34,
   "id": "42f196d4",
   "metadata": {},
   "outputs": [
    {
     "name": "stdout",
     "output_type": "stream",
     "text": [
      "- contract name:  [ 'src/Rsp.sol:Rsp' ]\n",
      "Deploying the contract from 0x5eA89B737014f45D5797444483B7f58C6E7d1E6f\n",
      "hash: 0x217e461e9c21cf8aeca23c7768f38a994d8a0b48e924943d1c37c431c3b92e22\n",
      "---> The contract deployed to: 0x24F0E92536C94d506Bf9426d54429bF01e7e7Ca3\n"
     ]
    }
   ],
   "source": [
    "!node src/RspDeploy.js"
   ]
  },
  {
   "cell_type": "markdown",
   "id": "fa57ec04",
   "metadata": {},
   "source": [
    "## 사용\n",
    "A는 고정시킨 상태에서 B를 Rock, Scissors, Paper 한 번씩 내면서 잔고 변화 출력"
   ]
  },
  {
   "cell_type": "code",
   "execution_count": 35,
   "id": "a1064f3d",
   "metadata": {
    "scrolled": true
   },
   "outputs": [
    {
     "name": "stdout",
     "output_type": "stream",
     "text": [
      "Overwriting src/RspUse.js\n"
     ]
    }
   ],
   "source": [
    "%%writefile src/RspUse.js\n",
    "var Web3=require('web3');\n",
    "var web3=new Web3(new Web3.providers.HttpProvider(\"http://localhost:8345\"));\n",
    "var fs=require('fs');\n",
    "var _str = fs.readFileSync(\"src/Rsp.json\");\n",
    "var _json=JSON.parse(_str)\n",
    "var _abiArray = _json.contracts[\"src/Rsp.sol:Rsp\"].abi;\n",
    "\n",
    "var rsp = new web3.eth.Contract(_abiArray, \"0x24F0E92536C94d506Bf9426d54429bF01e7e7Ca3\");\n",
    "async function doIt() {\n",
    "    const accounts = await web3.eth.getAccounts();\n",
    "    console.log(\"Account: \" + accounts[0]);\n",
    "    await rsp.methods.depositA(10000).send({from: accounts[0], value: 10000});\n",
    "    await rsp.methods.depositB(20000).send({from: accounts[0], value: 20000});\n",
    "    var before = await rsp.methods.getBalance().call();\n",
    "    console.log(\"Balance before\\nA: \" + before[0] + \" B: \" + before[1] + \" Total: \" + before[2]);\n",
    "    await rsp.methods.setA().send({from: accounts[0]});\n",
    "    console.log(\"B is Rock\");\n",
    "    await rsp.methods.setB(1000, \"Rock\").send({from: accounts[0]});\n",
    "    await rsp.methods.play().send({from: accounts[0]});\n",
    "    await rsp.methods.distributeBetAmount().send({from: accounts[0]});\n",
    "    var result = await rsp.methods.getMatchResult().call();\n",
    "    console.log(result);\n",
    "    var after = await rsp.methods.getBalance().call();\n",
    "    console.log(\"Balance after\\nA: \" + after[0] + \" B: \" + after[1] + \" Total: \" + after[2] + \"\\n\");\n",
    "    \n",
    "    before = await rsp.methods.getBalance().call();\n",
    "    console.log(\"Balance before\\nA: \" + before[0] + \" B: \" + before[1] + \" Total: \" + before[2]);\n",
    "    console.log(\"B is Scissors\");\n",
    "    await rsp.methods.setB(1000, \"Scissors\").send({from: accounts[0]});\n",
    "    await rsp.methods.play().send({from: accounts[0]});\n",
    "    await rsp.methods.distributeBetAmount().send({from: accounts[0]});\n",
    "    var result = await rsp.methods.getMatchResult().call();\n",
    "    console.log(result);\n",
    "    after = await rsp.methods.getBalance().call();\n",
    "    console.log(\"Balance after\\nA: \" + after[0] + \" B: \" + after[1] + \" Total: \" + after[2] + \"\\n\");\n",
    "    \n",
    "    before = await rsp.methods.getBalance().call();\n",
    "    console.log(\"Balance before\\nA: \" + before[0] + \" B: \" + before[1] + \" Total: \" + before[2]);\n",
    "    console.log(\"B is Paper\");\n",
    "    await rsp.methods.setB(1000, \"Paper\").send({from: accounts[0]});\n",
    "    await rsp.methods.play().send({from: accounts[0]});\n",
    "    await rsp.methods.distributeBetAmount().send({from: accounts[0]});\n",
    "    var result = await rsp.methods.getMatchResult().call();\n",
    "    console.log(result);\n",
    "    after = await rsp.methods.getBalance().call();\n",
    "    console.log(\"Balance after\\nA: \" + after[0] + \" B: \" + after[1] + \" Total: \" + after[2] + \"\\n\");\n",
    "}\n",
    "\n",
    "doIt()"
   ]
  },
  {
   "cell_type": "code",
   "execution_count": 36,
   "id": "4c551164",
   "metadata": {},
   "outputs": [
    {
     "name": "stdout",
     "output_type": "stream",
     "text": [
      "Account: 0x5eA89B737014f45D5797444483B7f58C6E7d1E6f\n",
      "Balance before\n",
      "A: 10000 B: 20000 Total: 30000\n",
      "B is Rock\n",
      "tie\n",
      "Balance after\n",
      "A: 10000 B: 20000 Total: 30000\n",
      "\n",
      "Balance before\n",
      "A: 10000 B: 20000 Total: 30000\n",
      "B is Scissors\n",
      "A wins\n",
      "Balance after\n",
      "A: 11000 B: 19000 Total: 30000\n",
      "\n",
      "Balance before\n",
      "A: 11000 B: 19000 Total: 30000\n",
      "B is Paper\n",
      "B wins\n",
      "Balance after\n",
      "A: 10000 B: 20000 Total: 30000\n",
      "\n"
     ]
    }
   ],
   "source": [
    "!node src/RspUse.js"
   ]
  }
 ],
 "metadata": {
  "kernelspec": {
   "display_name": "Python 3 (ipykernel)",
   "language": "python",
   "name": "python3"
  },
  "language_info": {
   "codemirror_mode": {
    "name": "ipython",
    "version": 3
   },
   "file_extension": ".py",
   "mimetype": "text/x-python",
   "name": "python",
   "nbconvert_exporter": "python",
   "pygments_lexer": "ipython3",
   "version": "3.9.7"
  }
 },
 "nbformat": 4,
 "nbformat_minor": 5
}
